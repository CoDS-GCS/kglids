{
 "cells": [
  {
   "cell_type": "markdown",
   "metadata": {},
   "source": [
    "# <b>KGLiDS APIs </b> "
   ]
  },
  {
   "cell_type": "code",
   "execution_count": 5,
   "metadata": {
    "pycharm": {
     "name": "#%%\n"
    }
   },
   "outputs": [],
   "source": [
    "import sys\n",
    "sys.path.insert(0, '/Users/shubhamvashisth/Documents/CoDS/projects/kglids/')"
   ]
  },
  {
   "cell_type": "code",
   "execution_count": 6,
   "metadata": {
    "pycharm": {
     "name": "#%%\n"
    }
   },
   "outputs": [
    {
     "name": "stdout",
     "output_type": "stream",
     "text": [
      "connected to http://localhost:7777/blazegraph/namespace/kglids_smallerReal/sparql\n"
     ]
    }
   ],
   "source": [
    "from api.api import KGLiDS\n",
    "kglids = KGLiDS()"
   ]
  },
  {
   "cell_type": "code",
   "execution_count": 7,
   "metadata": {
    "pycharm": {
     "name": "#%%\n"
    }
   },
   "outputs": [
    {
     "data": {
      "text/plain": "  Total_datasets Total_tables Total_columns     Total_pipelines\n0              1          654          8773  Not yet supported!",
      "text/html": "<div>\n<style scoped>\n    .dataframe tbody tr th:only-of-type {\n        vertical-align: middle;\n    }\n\n    .dataframe tbody tr th {\n        vertical-align: top;\n    }\n\n    .dataframe thead th {\n        text-align: right;\n    }\n</style>\n<table border=\"1\" class=\"dataframe\">\n  <thead>\n    <tr style=\"text-align: right;\">\n      <th></th>\n      <th>Total_datasets</th>\n      <th>Total_tables</th>\n      <th>Total_columns</th>\n      <th>Total_pipelines</th>\n    </tr>\n  </thead>\n  <tbody>\n    <tr>\n      <th>0</th>\n      <td>1</td>\n      <td>654</td>\n      <td>8773</td>\n      <td>Not yet supported!</td>\n    </tr>\n  </tbody>\n</table>\n</div>"
     },
     "execution_count": 7,
     "metadata": {},
     "output_type": "execute_result"
    }
   ],
   "source": [
    "kglids.show_graph_info()"
   ]
  },
  {
   "cell_type": "code",
   "execution_count": 8,
   "metadata": {
    "pycharm": {
     "name": "#%%\n"
    }
   },
   "outputs": [
    {
     "data": {
      "text/plain": "       Dataset\n0  smallerReal",
      "text/html": "<div>\n<style scoped>\n    .dataframe tbody tr th:only-of-type {\n        vertical-align: middle;\n    }\n\n    .dataframe tbody tr th {\n        vertical-align: top;\n    }\n\n    .dataframe thead th {\n        text-align: right;\n    }\n</style>\n<table border=\"1\" class=\"dataframe\">\n  <thead>\n    <tr style=\"text-align: right;\">\n      <th></th>\n      <th>Dataset</th>\n    </tr>\n  </thead>\n  <tbody>\n    <tr>\n      <th>0</th>\n      <td>smallerReal</td>\n    </tr>\n  </tbody>\n</table>\n</div>"
     },
     "execution_count": 8,
     "metadata": {},
     "output_type": "execute_result"
    }
   ],
   "source": [
    "kglids.get_datasets()"
   ]
  },
  {
   "cell_type": "code",
   "execution_count": 9,
   "metadata": {},
   "outputs": [
    {
     "data": {
      "text/plain": "           Table      Dataset  \\\n0    EKrbOe5.csv  smallerReal   \n1    etlzrE1.csv  smallerReal   \n2    eTyxAHl.csv  smallerReal   \n3    eWYrl2R.csv  smallerReal   \n4    eyqwiTF.csv  smallerReal   \n..           ...          ...   \n649  foLXfZI.csv  smallerReal   \n650  FpNTXnD.csv  smallerReal   \n651  FwYtos5.csv  smallerReal   \n652  G1z4mCQ.csv  smallerReal   \n653  GirkrJL.csv  smallerReal   \n\n                                         Path_to_table  \n0    /home/mossad/projects/kglids/storage/sources/e...  \n1    /home/mossad/projects/kglids/storage/sources/e...  \n2    /home/mossad/projects/kglids/storage/sources/e...  \n3    /home/mossad/projects/kglids/storage/sources/e...  \n4    /home/mossad/projects/kglids/storage/sources/e...  \n..                                                 ...  \n649  /home/mossad/projects/kglids/storage/sources/e...  \n650  /home/mossad/projects/kglids/storage/sources/e...  \n651  /home/mossad/projects/kglids/storage/sources/e...  \n652  /home/mossad/projects/kglids/storage/sources/e...  \n653  /home/mossad/projects/kglids/storage/sources/e...  \n\n[654 rows x 3 columns]",
      "text/html": "<div>\n<style scoped>\n    .dataframe tbody tr th:only-of-type {\n        vertical-align: middle;\n    }\n\n    .dataframe tbody tr th {\n        vertical-align: top;\n    }\n\n    .dataframe thead th {\n        text-align: right;\n    }\n</style>\n<table border=\"1\" class=\"dataframe\">\n  <thead>\n    <tr style=\"text-align: right;\">\n      <th></th>\n      <th>Table</th>\n      <th>Dataset</th>\n      <th>Path_to_table</th>\n    </tr>\n  </thead>\n  <tbody>\n    <tr>\n      <th>0</th>\n      <td>EKrbOe5.csv</td>\n      <td>smallerReal</td>\n      <td>/home/mossad/projects/kglids/storage/sources/e...</td>\n    </tr>\n    <tr>\n      <th>1</th>\n      <td>etlzrE1.csv</td>\n      <td>smallerReal</td>\n      <td>/home/mossad/projects/kglids/storage/sources/e...</td>\n    </tr>\n    <tr>\n      <th>2</th>\n      <td>eTyxAHl.csv</td>\n      <td>smallerReal</td>\n      <td>/home/mossad/projects/kglids/storage/sources/e...</td>\n    </tr>\n    <tr>\n      <th>3</th>\n      <td>eWYrl2R.csv</td>\n      <td>smallerReal</td>\n      <td>/home/mossad/projects/kglids/storage/sources/e...</td>\n    </tr>\n    <tr>\n      <th>4</th>\n      <td>eyqwiTF.csv</td>\n      <td>smallerReal</td>\n      <td>/home/mossad/projects/kglids/storage/sources/e...</td>\n    </tr>\n    <tr>\n      <th>...</th>\n      <td>...</td>\n      <td>...</td>\n      <td>...</td>\n    </tr>\n    <tr>\n      <th>649</th>\n      <td>foLXfZI.csv</td>\n      <td>smallerReal</td>\n      <td>/home/mossad/projects/kglids/storage/sources/e...</td>\n    </tr>\n    <tr>\n      <th>650</th>\n      <td>FpNTXnD.csv</td>\n      <td>smallerReal</td>\n      <td>/home/mossad/projects/kglids/storage/sources/e...</td>\n    </tr>\n    <tr>\n      <th>651</th>\n      <td>FwYtos5.csv</td>\n      <td>smallerReal</td>\n      <td>/home/mossad/projects/kglids/storage/sources/e...</td>\n    </tr>\n    <tr>\n      <th>652</th>\n      <td>G1z4mCQ.csv</td>\n      <td>smallerReal</td>\n      <td>/home/mossad/projects/kglids/storage/sources/e...</td>\n    </tr>\n    <tr>\n      <th>653</th>\n      <td>GirkrJL.csv</td>\n      <td>smallerReal</td>\n      <td>/home/mossad/projects/kglids/storage/sources/e...</td>\n    </tr>\n  </tbody>\n</table>\n<p>654 rows × 3 columns</p>\n</div>"
     },
     "execution_count": 9,
     "metadata": {},
     "output_type": "execute_result"
    }
   ],
   "source": [
    "kglids.get_tables(dataset='smallerReal')"
   ]
  },
  {
   "cell_type": "code",
   "execution_count": 14,
   "metadata": {},
   "outputs": [
    {
     "name": "stdout",
     "output_type": "stream",
     "text": [
      "Showing the top 5 table recommendations!\n"
     ]
    },
    {
     "data": {
      "text/plain": "  Recommended_table\n0       6vlopP5.csv\n1       BKoWeaJ.csv\n2       oet7Hp4.csv\n3       JIJiHMW.csv\n4       R5w2Duf.csv",
      "text/html": "<div>\n<style scoped>\n    .dataframe tbody tr th:only-of-type {\n        vertical-align: middle;\n    }\n\n    .dataframe tbody tr th {\n        vertical-align: top;\n    }\n\n    .dataframe thead th {\n        text-align: right;\n    }\n</style>\n<table border=\"1\" class=\"dataframe\">\n  <thead>\n    <tr style=\"text-align: right;\">\n      <th></th>\n      <th>Recommended_table</th>\n    </tr>\n  </thead>\n  <tbody>\n    <tr>\n      <th>0</th>\n      <td>6vlopP5.csv</td>\n    </tr>\n    <tr>\n      <th>1</th>\n      <td>BKoWeaJ.csv</td>\n    </tr>\n    <tr>\n      <th>2</th>\n      <td>oet7Hp4.csv</td>\n    </tr>\n    <tr>\n      <th>3</th>\n      <td>JIJiHMW.csv</td>\n    </tr>\n    <tr>\n      <th>4</th>\n      <td>R5w2Duf.csv</td>\n    </tr>\n  </tbody>\n</table>\n</div>"
     },
     "execution_count": 14,
     "metadata": {},
     "output_type": "execute_result"
    }
   ],
   "source": [
    "kglids.recommend_k_tables(table='EKrbOe5.csv')"
   ]
  },
  {
   "cell_type": "code",
   "execution_count": 12,
   "metadata": {},
   "outputs": [
    {
     "data": {
      "text/plain": "    table_name dataset_name  number_of_columns  number_of_rows  \\\n0  0NzYjqf.csv  smallerReal               14.0        298220.0   \n1  nIo3dkf.csv  smallerReal               15.0         27270.0   \n2  UkZ0NoM.csv  smallerReal               15.0         26594.0   \n3  eWYrl2R.csv  smallerReal               15.0         26486.0   \n4  AzuTcNG.csv  smallerReal               15.0         24846.0   \n\n                                                path  \n0  /home/mossad/projects/kglids/storage/sources/e...  \n1  /home/mossad/projects/kglids/storage/sources/e...  \n2  /home/mossad/projects/kglids/storage/sources/e...  \n3  /home/mossad/projects/kglids/storage/sources/e...  \n4  /home/mossad/projects/kglids/storage/sources/e...  ",
      "text/html": "<div>\n<style scoped>\n    .dataframe tbody tr th:only-of-type {\n        vertical-align: middle;\n    }\n\n    .dataframe tbody tr th {\n        vertical-align: top;\n    }\n\n    .dataframe thead th {\n        text-align: right;\n    }\n</style>\n<table border=\"1\" class=\"dataframe\">\n  <thead>\n    <tr style=\"text-align: right;\">\n      <th></th>\n      <th>table_name</th>\n      <th>dataset_name</th>\n      <th>number_of_columns</th>\n      <th>number_of_rows</th>\n      <th>path</th>\n    </tr>\n  </thead>\n  <tbody>\n    <tr>\n      <th>0</th>\n      <td>0NzYjqf.csv</td>\n      <td>smallerReal</td>\n      <td>14.0</td>\n      <td>298220.0</td>\n      <td>/home/mossad/projects/kglids/storage/sources/e...</td>\n    </tr>\n    <tr>\n      <th>1</th>\n      <td>nIo3dkf.csv</td>\n      <td>smallerReal</td>\n      <td>15.0</td>\n      <td>27270.0</td>\n      <td>/home/mossad/projects/kglids/storage/sources/e...</td>\n    </tr>\n    <tr>\n      <th>2</th>\n      <td>UkZ0NoM.csv</td>\n      <td>smallerReal</td>\n      <td>15.0</td>\n      <td>26594.0</td>\n      <td>/home/mossad/projects/kglids/storage/sources/e...</td>\n    </tr>\n    <tr>\n      <th>3</th>\n      <td>eWYrl2R.csv</td>\n      <td>smallerReal</td>\n      <td>15.0</td>\n      <td>26486.0</td>\n      <td>/home/mossad/projects/kglids/storage/sources/e...</td>\n    </tr>\n    <tr>\n      <th>4</th>\n      <td>AzuTcNG.csv</td>\n      <td>smallerReal</td>\n      <td>15.0</td>\n      <td>24846.0</td>\n      <td>/home/mossad/projects/kglids/storage/sources/e...</td>\n    </tr>\n  </tbody>\n</table>\n</div>"
     },
     "execution_count": 12,
     "metadata": {},
     "output_type": "execute_result"
    }
   ],
   "source": [
    "kglids.search_tables_on(conditions=[['salary', 'pay']]).head()"
   ]
  },
  {
   "cell_type": "code",
   "execution_count": null,
   "metadata": {
    "pycharm": {
     "name": "#%%\n"
    }
   },
   "outputs": [],
   "source": []
  }
 ],
 "metadata": {
  "kernelspec": {
   "display_name": "Python 3 (ipykernel)",
   "language": "python",
   "name": "python3"
  },
  "language_info": {
   "codemirror_mode": {
    "name": "ipython",
    "version": 3
   },
   "file_extension": ".py",
   "mimetype": "text/x-python",
   "name": "python",
   "nbconvert_exporter": "python",
   "pygments_lexer": "ipython3",
   "version": "3.8.12"
  }
 },
 "nbformat": 4,
 "nbformat_minor": 1
}