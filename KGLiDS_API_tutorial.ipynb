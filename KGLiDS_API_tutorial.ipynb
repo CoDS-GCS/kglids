{
 "cells": [
  {
   "cell_type": "markdown",
   "metadata": {},
   "source": [
    "# <b>KGLiDS APIs </b> "
   ]
  },
  {
   "cell_type": "code",
   "execution_count": 1,
   "metadata": {
    "pycharm": {
     "name": "#%%\n"
    }
   },
   "outputs": [],
   "source": [
    "import sys\n",
    "sys.path.insert(0, '/Users/shubhamvashisth/Documents/CoDS/projects/kglids/')"
   ]
  },
  {
   "cell_type": "code",
   "execution_count": 2,
   "metadata": {
    "pycharm": {
     "name": "#%%\n"
    }
   },
   "outputs": [
    {
     "name": "stdout",
     "output_type": "stream",
     "text": [
      "Connected to http://localhost:7777/blazegraph/namespace/kglids_smallerReal/sparql\n"
     ]
    }
   ],
   "source": [
    "from api.api import KGLiDS\n",
    "kglids = KGLiDS()"
   ]
  },
  {
   "cell_type": "code",
   "execution_count": 4,
   "metadata": {
    "pycharm": {
     "name": "#%%\n"
    }
   },
   "outputs": [
    {
     "data": {
      "text/plain": "  Total_datasets Total_tables Total_columns     Total_pipelines\n0              1          654          8773  Not yet supported!",
      "text/html": "<div>\n<style scoped>\n    .dataframe tbody tr th:only-of-type {\n        vertical-align: middle;\n    }\n\n    .dataframe tbody tr th {\n        vertical-align: top;\n    }\n\n    .dataframe thead th {\n        text-align: right;\n    }\n</style>\n<table border=\"1\" class=\"dataframe\">\n  <thead>\n    <tr style=\"text-align: right;\">\n      <th></th>\n      <th>Total_datasets</th>\n      <th>Total_tables</th>\n      <th>Total_columns</th>\n      <th>Total_pipelines</th>\n    </tr>\n  </thead>\n  <tbody>\n    <tr>\n      <th>0</th>\n      <td>1</td>\n      <td>654</td>\n      <td>8773</td>\n      <td>Not yet supported!</td>\n    </tr>\n  </tbody>\n</table>\n</div>"
     },
     "execution_count": 4,
     "metadata": {},
     "output_type": "execute_result"
    }
   ],
   "source": [
    "kglids.show_graph_info()"
   ]
  },
  {
   "cell_type": "code",
   "execution_count": 5,
   "metadata": {
    "pycharm": {
     "name": "#%%\n"
    }
   },
   "outputs": [
    {
     "name": "stdout",
     "output_type": "stream",
     "text": [
      "\n",
      "    PREFIX kglids: <http://kglids.org/ontology/>\n",
      "    PREFIX data:   <http://kglids.org/ontology/data/>\n",
      "    PREFIX schema: <http://schema.org/>\n",
      "    PREFIX rdf:    <http://www.w3.org/1999/02/22-rdf-syntax-ns#>\n",
      "    \n",
      "    SELECT ?dataset_name\n",
      "    WHERE\n",
      "    {\n",
      "        ?dataset_id\trdf:type\tkglids:Dataset\t.\n",
      "        ?dataset_id schema:name\t?dataset_name\t.\n",
      "    }\n"
     ]
    },
    {
     "data": {
      "text/plain": "       Dataset\n0  smallerReal",
      "text/html": "<div>\n<style scoped>\n    .dataframe tbody tr th:only-of-type {\n        vertical-align: middle;\n    }\n\n    .dataframe tbody tr th {\n        vertical-align: top;\n    }\n\n    .dataframe thead th {\n        text-align: right;\n    }\n</style>\n<table border=\"1\" class=\"dataframe\">\n  <thead>\n    <tr style=\"text-align: right;\">\n      <th></th>\n      <th>Dataset</th>\n    </tr>\n  </thead>\n  <tbody>\n    <tr>\n      <th>0</th>\n      <td>smallerReal</td>\n    </tr>\n  </tbody>\n</table>\n</div>"
     },
     "execution_count": 5,
     "metadata": {},
     "output_type": "execute_result"
    }
   ],
   "source": [
    "kglids.get_datasets(show_query=True)"
   ]
  },
  {
   "cell_type": "code",
   "execution_count": 6,
   "metadata": {},
   "outputs": [
    {
     "name": "stdout",
     "output_type": "stream",
     "text": [
      "\n",
      "    PREFIX kglids: <http://kglids.org/ontology/>\n",
      "    PREFIX data:   <http://kglids.org/ontology/data/>\n",
      "    PREFIX schema: <http://schema.org/>\n",
      "    PREFIX rdf:    <http://www.w3.org/1999/02/22-rdf-syntax-ns#>\n",
      "    \n",
      "    SELECT ?table_name ?dataset_name ?table_path\n",
      "    WHERE\n",
      "    {\n",
      "        ?table_id\trdf:type            kglids:Table\t.\n",
      "        ?dataset_id schema:name \"smallerReal\" .\n",
      "        ?table_id\tkglids:isPartOf     ?dataset_id\t\t.\n",
      "        ?table_id  \tschema:name\t\t\t?table_name\t\t.\n",
      "        ?table_id\tdata:hasFilePath\t?table_path\t\t.\n",
      "        ?dataset_id\tschema:name\t\t\t?dataset_name\t.\t\n",
      "    }\n"
     ]
    },
    {
     "data": {
      "text/plain": "           Table      Dataset  \\\n0    o0pmMqg.csv  smallerReal   \n1    O2uuNHe.csv  smallerReal   \n2    o8xzh6Q.csv  smallerReal   \n3    ocwTimc.csv  smallerReal   \n4    oet7Hp4.csv  smallerReal   \n..           ...          ...   \n649  pgaKpbG.csv  smallerReal   \n650  pHNPKRH.csv  smallerReal   \n651  PnM5FCv.csv  smallerReal   \n652  pR7g3l6.csv  smallerReal   \n653  PZ1avln.csv  smallerReal   \n\n                                         Path_to_table  \n0    /home/mossad/projects/kglids/storage/sources/e...  \n1    /home/mossad/projects/kglids/storage/sources/e...  \n2    /home/mossad/projects/kglids/storage/sources/e...  \n3    /home/mossad/projects/kglids/storage/sources/e...  \n4    /home/mossad/projects/kglids/storage/sources/e...  \n..                                                 ...  \n649  /home/mossad/projects/kglids/storage/sources/e...  \n650  /home/mossad/projects/kglids/storage/sources/e...  \n651  /home/mossad/projects/kglids/storage/sources/e...  \n652  /home/mossad/projects/kglids/storage/sources/e...  \n653  /home/mossad/projects/kglids/storage/sources/e...  \n\n[654 rows x 3 columns]",
      "text/html": "<div>\n<style scoped>\n    .dataframe tbody tr th:only-of-type {\n        vertical-align: middle;\n    }\n\n    .dataframe tbody tr th {\n        vertical-align: top;\n    }\n\n    .dataframe thead th {\n        text-align: right;\n    }\n</style>\n<table border=\"1\" class=\"dataframe\">\n  <thead>\n    <tr style=\"text-align: right;\">\n      <th></th>\n      <th>Table</th>\n      <th>Dataset</th>\n      <th>Path_to_table</th>\n    </tr>\n  </thead>\n  <tbody>\n    <tr>\n      <th>0</th>\n      <td>o0pmMqg.csv</td>\n      <td>smallerReal</td>\n      <td>/home/mossad/projects/kglids/storage/sources/e...</td>\n    </tr>\n    <tr>\n      <th>1</th>\n      <td>O2uuNHe.csv</td>\n      <td>smallerReal</td>\n      <td>/home/mossad/projects/kglids/storage/sources/e...</td>\n    </tr>\n    <tr>\n      <th>2</th>\n      <td>o8xzh6Q.csv</td>\n      <td>smallerReal</td>\n      <td>/home/mossad/projects/kglids/storage/sources/e...</td>\n    </tr>\n    <tr>\n      <th>3</th>\n      <td>ocwTimc.csv</td>\n      <td>smallerReal</td>\n      <td>/home/mossad/projects/kglids/storage/sources/e...</td>\n    </tr>\n    <tr>\n      <th>4</th>\n      <td>oet7Hp4.csv</td>\n      <td>smallerReal</td>\n      <td>/home/mossad/projects/kglids/storage/sources/e...</td>\n    </tr>\n    <tr>\n      <th>...</th>\n      <td>...</td>\n      <td>...</td>\n      <td>...</td>\n    </tr>\n    <tr>\n      <th>649</th>\n      <td>pgaKpbG.csv</td>\n      <td>smallerReal</td>\n      <td>/home/mossad/projects/kglids/storage/sources/e...</td>\n    </tr>\n    <tr>\n      <th>650</th>\n      <td>pHNPKRH.csv</td>\n      <td>smallerReal</td>\n      <td>/home/mossad/projects/kglids/storage/sources/e...</td>\n    </tr>\n    <tr>\n      <th>651</th>\n      <td>PnM5FCv.csv</td>\n      <td>smallerReal</td>\n      <td>/home/mossad/projects/kglids/storage/sources/e...</td>\n    </tr>\n    <tr>\n      <th>652</th>\n      <td>pR7g3l6.csv</td>\n      <td>smallerReal</td>\n      <td>/home/mossad/projects/kglids/storage/sources/e...</td>\n    </tr>\n    <tr>\n      <th>653</th>\n      <td>PZ1avln.csv</td>\n      <td>smallerReal</td>\n      <td>/home/mossad/projects/kglids/storage/sources/e...</td>\n    </tr>\n  </tbody>\n</table>\n<p>654 rows × 3 columns</p>\n</div>"
     },
     "execution_count": 6,
     "metadata": {},
     "output_type": "execute_result"
    }
   ],
   "source": [
    "kglids.get_tables(dataset='smallerReal', show_query=True)"
   ]
  },
  {
   "cell_type": "code",
   "execution_count": 7,
   "metadata": {},
   "outputs": [
    {
     "name": "stdout",
     "output_type": "stream",
     "text": [
      "\n",
      "    PREFIX kglids: <http://kglids.org/ontology/>\n",
      "    PREFIX data:   <http://kglids.org/ontology/data/>\n",
      "    PREFIX schema: <http://schema.org/>\n",
      "    PREFIX rdf:    <http://www.w3.org/1999/02/22-rdf-syntax-ns#>\n",
      "    \n",
      "    SELECT ?table_name1 ?table_name2 ?certainty\n",
      "    WHERE\n",
      "    {\n",
      "        ?table_id\tschema:name\t\t\"EKrbOe5.csv\"\t        .\n",
      "      \t?table_id\tschema:name\t\t?table_name1\t.\n",
      "      \t?column_id\tkglids:isPartOf ?table_id\t\t.\n",
      "      \t\n",
      "      \t<<?column_id data:hasSemanticSimilarity\t?column_id2>>\tdata:withCertainty\t?certainty\t. \n",
      "      \t\n",
      "      \tFILTER (?certainty >= 0.75)\t\t\t\t\t.\n",
      "      \t?column_id2 kglids:isPartOf\t?table_id2\t\t.\n",
      "      \t?table_id2\tschema:name\t\t?table_name2\t.\n",
      "    }\n",
      "    \n",
      "Showing the top 5 table recommendations!\n"
     ]
    },
    {
     "data": {
      "text/plain": "  Recommended_table\n0       oet7Hp4.csv\n1       6vlopP5.csv\n2       BKoWeaJ.csv\n3       JIJiHMW.csv\n4       R5w2Duf.csv",
      "text/html": "<div>\n<style scoped>\n    .dataframe tbody tr th:only-of-type {\n        vertical-align: middle;\n    }\n\n    .dataframe tbody tr th {\n        vertical-align: top;\n    }\n\n    .dataframe thead th {\n        text-align: right;\n    }\n</style>\n<table border=\"1\" class=\"dataframe\">\n  <thead>\n    <tr style=\"text-align: right;\">\n      <th></th>\n      <th>Recommended_table</th>\n    </tr>\n  </thead>\n  <tbody>\n    <tr>\n      <th>0</th>\n      <td>oet7Hp4.csv</td>\n    </tr>\n    <tr>\n      <th>1</th>\n      <td>6vlopP5.csv</td>\n    </tr>\n    <tr>\n      <th>2</th>\n      <td>BKoWeaJ.csv</td>\n    </tr>\n    <tr>\n      <th>3</th>\n      <td>JIJiHMW.csv</td>\n    </tr>\n    <tr>\n      <th>4</th>\n      <td>R5w2Duf.csv</td>\n    </tr>\n  </tbody>\n</table>\n</div>"
     },
     "execution_count": 7,
     "metadata": {},
     "output_type": "execute_result"
    }
   ],
   "source": [
    "kglids.recommend_k_tables(table='EKrbOe5.csv', show_query=True)"
   ]
  },
  {
   "cell_type": "code",
   "execution_count": 8,
   "metadata": {},
   "outputs": [
    {
     "name": "stdout",
     "output_type": "stream",
     "text": [
      "\n",
      "    PREFIX kglids: <http://kglids.org/ontology/>\n",
      "    PREFIX data:   <http://kglids.org/ontology/data/>\n",
      "    PREFIX schema: <http://schema.org/>\n",
      "    PREFIX rdf:    <http://www.w3.org/1999/02/22-rdf-syntax-ns#>\n",
      "    \n",
      "select ?name ?dataset_name ?path (count(distinct ?cols) as ?number_of_columns) (max (?total) as ?number_of_rows)\n",
      "where {\n",
      "?table schema:name ?name.\n",
      "?table data:hasFilePath ?path.\n",
      "?table kglids:isPartOf ?dataset.\n",
      "?dataset schema:name ?dataset_name.\n",
      "?cols kglids:isPartOf ?table.\n",
      "?cols data:hasTotalValueCount ?total.\n",
      "?column1 rdf:type kglids:Column.\n",
      "?column1 kglids:isPartOf ?table.\n",
      "?column1 rdfs:label ?label1.\n",
      "filter( regex(?label1, \"salary|pay\", \"i\"))}\n",
      " group by ?name ?dataset_name ?path\n"
     ]
    },
    {
     "data": {
      "text/plain": "    table_name dataset_name  number_of_columns  number_of_rows  \\\n0  0NzYjqf.csv  smallerReal               14.0        298220.0   \n1  nIo3dkf.csv  smallerReal               15.0         27270.0   \n2  UkZ0NoM.csv  smallerReal               15.0         26594.0   \n3  eWYrl2R.csv  smallerReal               15.0         26486.0   \n4  AzuTcNG.csv  smallerReal               15.0         24846.0   \n\n                                                path  \n0  /home/mossad/projects/kglids/storage/sources/e...  \n1  /home/mossad/projects/kglids/storage/sources/e...  \n2  /home/mossad/projects/kglids/storage/sources/e...  \n3  /home/mossad/projects/kglids/storage/sources/e...  \n4  /home/mossad/projects/kglids/storage/sources/e...  ",
      "text/html": "<div>\n<style scoped>\n    .dataframe tbody tr th:only-of-type {\n        vertical-align: middle;\n    }\n\n    .dataframe tbody tr th {\n        vertical-align: top;\n    }\n\n    .dataframe thead th {\n        text-align: right;\n    }\n</style>\n<table border=\"1\" class=\"dataframe\">\n  <thead>\n    <tr style=\"text-align: right;\">\n      <th></th>\n      <th>table_name</th>\n      <th>dataset_name</th>\n      <th>number_of_columns</th>\n      <th>number_of_rows</th>\n      <th>path</th>\n    </tr>\n  </thead>\n  <tbody>\n    <tr>\n      <th>0</th>\n      <td>0NzYjqf.csv</td>\n      <td>smallerReal</td>\n      <td>14.0</td>\n      <td>298220.0</td>\n      <td>/home/mossad/projects/kglids/storage/sources/e...</td>\n    </tr>\n    <tr>\n      <th>1</th>\n      <td>nIo3dkf.csv</td>\n      <td>smallerReal</td>\n      <td>15.0</td>\n      <td>27270.0</td>\n      <td>/home/mossad/projects/kglids/storage/sources/e...</td>\n    </tr>\n    <tr>\n      <th>2</th>\n      <td>UkZ0NoM.csv</td>\n      <td>smallerReal</td>\n      <td>15.0</td>\n      <td>26594.0</td>\n      <td>/home/mossad/projects/kglids/storage/sources/e...</td>\n    </tr>\n    <tr>\n      <th>3</th>\n      <td>eWYrl2R.csv</td>\n      <td>smallerReal</td>\n      <td>15.0</td>\n      <td>26486.0</td>\n      <td>/home/mossad/projects/kglids/storage/sources/e...</td>\n    </tr>\n    <tr>\n      <th>4</th>\n      <td>AzuTcNG.csv</td>\n      <td>smallerReal</td>\n      <td>15.0</td>\n      <td>24846.0</td>\n      <td>/home/mossad/projects/kglids/storage/sources/e...</td>\n    </tr>\n  </tbody>\n</table>\n</div>"
     },
     "execution_count": 8,
     "metadata": {},
     "output_type": "execute_result"
    }
   ],
   "source": [
    "kglids.search_tables_on(conditions=[['salary', 'pay']], show_query=True).head()"
   ]
  },
  {
   "cell_type": "code",
   "execution_count": null,
   "metadata": {
    "pycharm": {
     "name": "#%%\n"
    }
   },
   "outputs": [],
   "source": []
  }
 ],
 "metadata": {
  "kernelspec": {
   "display_name": "Python 3 (ipykernel)",
   "language": "python",
   "name": "python3"
  },
  "language_info": {
   "codemirror_mode": {
    "name": "ipython",
    "version": 3
   },
   "file_extension": ".py",
   "mimetype": "text/x-python",
   "name": "python",
   "nbconvert_exporter": "python",
   "pygments_lexer": "ipython3",
   "version": "3.8.12"
  }
 },
 "nbformat": 4,
 "nbformat_minor": 1
}