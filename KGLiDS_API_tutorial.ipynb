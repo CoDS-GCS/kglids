{
 "cells": [
  {
   "cell_type": "markdown",
   "metadata": {},
   "source": [
    "## <b>KGLiDS APIs</b>"
   ]
  },
  {
   "cell_type": "code",
   "execution_count": 1,
   "metadata": {
    "pycharm": {
     "name": "#%%\n"
    }
   },
   "outputs": [
    {
     "name": "stdout",
     "output_type": "stream",
     "text": [
      "Connected to http://localhost:7777/blazegraph/namespace/kglids_soen6111/sparql\n"
     ]
    }
   ],
   "source": [
    "from api.api import KGLiDS\n",
    "import pandas as pd\n",
    "kglids = KGLiDS()"
   ]
  },
  {
   "cell_type": "code",
   "execution_count": 2,
   "metadata": {
    "pycharm": {
     "name": "#%%\n"
    }
   },
   "outputs": [
    {
     "name": "stdout",
     "output_type": "stream",
     "text": [
      "Information captured: \n"
     ]
    },
    {
     "data": {
      "text/plain": "  Total_datasets Total_tables Total_columns\n0             32          110          3167",
      "text/html": "<div>\n<style scoped>\n    .dataframe tbody tr th:only-of-type {\n        vertical-align: middle;\n    }\n\n    .dataframe tbody tr th {\n        vertical-align: top;\n    }\n\n    .dataframe thead th {\n        text-align: right;\n    }\n</style>\n<table border=\"1\" class=\"dataframe\">\n  <thead>\n    <tr style=\"text-align: right;\">\n      <th></th>\n      <th>Total_datasets</th>\n      <th>Total_tables</th>\n      <th>Total_columns</th>\n    </tr>\n  </thead>\n  <tbody>\n    <tr>\n      <th>0</th>\n      <td>32</td>\n      <td>110</td>\n      <td>3167</td>\n    </tr>\n  </tbody>\n</table>\n</div>"
     },
     "execution_count": 2,
     "metadata": {},
     "output_type": "execute_result"
    }
   ],
   "source": [
    "kglids.show_graph_info()"
   ]
  },
  {
   "cell_type": "markdown",
   "metadata": {},
   "source": [
    "\n",
    "- <b><i> Running Adhoc-queries on our graph!</i></b> "
   ]
  },
  {
   "cell_type": "markdown",
   "metadata": {},
   "source": [
    "##### <b>1.  Customized queries </b>"
   ]
  },
  {
   "cell_type": "code",
   "execution_count": 3,
   "metadata": {},
   "outputs": [
    {
     "data": {
      "text/plain": "[{'source': {'type': 'literal', 'value': 'kaggle'}}]"
     },
     "execution_count": 3,
     "metadata": {},
     "output_type": "execute_result"
    }
   ],
   "source": [
    "query = \"\"\" \n",
    "SELECT ?source {\n",
    "?source_id rdf:type    kglids:Source    ;\n",
    "           schema:name ?source          . } \"\"\"\n",
    "kglids.query(query)"
   ]
  },
  {
   "cell_type": "markdown",
   "metadata": {},
   "source": [
    "- <b><i> Pre-defined queries on our graph!</i></b> "
   ]
  },
  {
   "cell_type": "markdown",
   "metadata": {},
   "source": [
    "##### <b><i>Not comfortable with Sparql? No worries!</i></b> \n",
    "###### You can use several KGLiDS APIs to discover useful insights that remain locked inside your Data\n",
    "<hr><br>\n",
    "\n",
    "Note: \n",
    "- All query result(s) are returned in a form of <code>pandas.DataFrame</code> \n",
    "- KGLiDS is a transparent system, you can see the queries used by the system by setting <code> show_query = True</code> in case of every API you wish to use."
   ]
  },
  {
   "cell_type": "markdown",
   "metadata": {},
   "source": [
    "##### <b>2.  Retrieving dataset(s) </b>"
   ]
  },
  {
   "cell_type": "code",
   "execution_count": 4,
   "metadata": {
    "pycharm": {
     "name": "#%%\n"
    }
   },
   "outputs": [
    {
     "data": {
      "text/plain": "                                         Dataset Number_of_tables\n0            COVID-19 Corona Virus India Dataset                8\n1                               COVID-19 Dataset                6\n2                  COVID-19 Healthy Diet Dataset                5\n3                     COVID-19 Indonesia Dataset                1\n4            COVID-19 World Vaccination Progress                2\n5                      COVID-19 dataset in Japan                3\n6                             COVID-19 in Canada                4\n7                              COVID-19 in India                3\n8                              COVID-19 in Italy                2\n9                                COVID-19 in USA                3\n10          COVID-19's Impact on Airport Traffic                1\n11                                COVID19 Tweets                1\n12                          Coronavirus - Brazil                6\n13  Coronavirus tweets NLP - Text Classification                2\n14                        Countries of the World                1\n15               FIFA 18 Complete Player Dataset                4\n16               FIFA 19 complete player dataset                1\n17               FIFA 20 complete player dataset                7\n18               FIFA 21 complete player dataset                7\n19                                FIFA World Cup                3\n20                    FIFA worldcup 2018 Dataset                1\n21                       FIFA22 OFFICIAL DATASET                6\n22                         Most Crowded Airports                1\n23                              UK COVID-19 Data                6\n24                               US Cars Dataset                1\n25                    US Census Demographic Data                4\n26                              US Election 2020               11\n27                              US Mass Shooting                6\n28    US Minimum Wage by State from 1968 to 2020                1\n29                           US Police Shootings                1\n30                  US counties COVID 19 dataset                1\n31                     USA COVID-19 Vaccinations                1",
      "text/html": "<div>\n<style scoped>\n    .dataframe tbody tr th:only-of-type {\n        vertical-align: middle;\n    }\n\n    .dataframe tbody tr th {\n        vertical-align: top;\n    }\n\n    .dataframe thead th {\n        text-align: right;\n    }\n</style>\n<table border=\"1\" class=\"dataframe\">\n  <thead>\n    <tr style=\"text-align: right;\">\n      <th></th>\n      <th>Dataset</th>\n      <th>Number_of_tables</th>\n    </tr>\n  </thead>\n  <tbody>\n    <tr>\n      <th>0</th>\n      <td>COVID-19 Corona Virus India Dataset</td>\n      <td>8</td>\n    </tr>\n    <tr>\n      <th>1</th>\n      <td>COVID-19 Dataset</td>\n      <td>6</td>\n    </tr>\n    <tr>\n      <th>2</th>\n      <td>COVID-19 Healthy Diet Dataset</td>\n      <td>5</td>\n    </tr>\n    <tr>\n      <th>3</th>\n      <td>COVID-19 Indonesia Dataset</td>\n      <td>1</td>\n    </tr>\n    <tr>\n      <th>4</th>\n      <td>COVID-19 World Vaccination Progress</td>\n      <td>2</td>\n    </tr>\n    <tr>\n      <th>5</th>\n      <td>COVID-19 dataset in Japan</td>\n      <td>3</td>\n    </tr>\n    <tr>\n      <th>6</th>\n      <td>COVID-19 in Canada</td>\n      <td>4</td>\n    </tr>\n    <tr>\n      <th>7</th>\n      <td>COVID-19 in India</td>\n      <td>3</td>\n    </tr>\n    <tr>\n      <th>8</th>\n      <td>COVID-19 in Italy</td>\n      <td>2</td>\n    </tr>\n    <tr>\n      <th>9</th>\n      <td>COVID-19 in USA</td>\n      <td>3</td>\n    </tr>\n    <tr>\n      <th>10</th>\n      <td>COVID-19's Impact on Airport Traffic</td>\n      <td>1</td>\n    </tr>\n    <tr>\n      <th>11</th>\n      <td>COVID19 Tweets</td>\n      <td>1</td>\n    </tr>\n    <tr>\n      <th>12</th>\n      <td>Coronavirus - Brazil</td>\n      <td>6</td>\n    </tr>\n    <tr>\n      <th>13</th>\n      <td>Coronavirus tweets NLP - Text Classification</td>\n      <td>2</td>\n    </tr>\n    <tr>\n      <th>14</th>\n      <td>Countries of the World</td>\n      <td>1</td>\n    </tr>\n    <tr>\n      <th>15</th>\n      <td>FIFA 18 Complete Player Dataset</td>\n      <td>4</td>\n    </tr>\n    <tr>\n      <th>16</th>\n      <td>FIFA 19 complete player dataset</td>\n      <td>1</td>\n    </tr>\n    <tr>\n      <th>17</th>\n      <td>FIFA 20 complete player dataset</td>\n      <td>7</td>\n    </tr>\n    <tr>\n      <th>18</th>\n      <td>FIFA 21 complete player dataset</td>\n      <td>7</td>\n    </tr>\n    <tr>\n      <th>19</th>\n      <td>FIFA World Cup</td>\n      <td>3</td>\n    </tr>\n    <tr>\n      <th>20</th>\n      <td>FIFA worldcup 2018 Dataset</td>\n      <td>1</td>\n    </tr>\n    <tr>\n      <th>21</th>\n      <td>FIFA22 OFFICIAL DATASET</td>\n      <td>6</td>\n    </tr>\n    <tr>\n      <th>22</th>\n      <td>Most Crowded Airports</td>\n      <td>1</td>\n    </tr>\n    <tr>\n      <th>23</th>\n      <td>UK COVID-19 Data</td>\n      <td>6</td>\n    </tr>\n    <tr>\n      <th>24</th>\n      <td>US Cars Dataset</td>\n      <td>1</td>\n    </tr>\n    <tr>\n      <th>25</th>\n      <td>US Census Demographic Data</td>\n      <td>4</td>\n    </tr>\n    <tr>\n      <th>26</th>\n      <td>US Election 2020</td>\n      <td>11</td>\n    </tr>\n    <tr>\n      <th>27</th>\n      <td>US Mass Shooting</td>\n      <td>6</td>\n    </tr>\n    <tr>\n      <th>28</th>\n      <td>US Minimum Wage by State from 1968 to 2020</td>\n      <td>1</td>\n    </tr>\n    <tr>\n      <th>29</th>\n      <td>US Police Shootings</td>\n      <td>1</td>\n    </tr>\n    <tr>\n      <th>30</th>\n      <td>US counties COVID 19 dataset</td>\n      <td>1</td>\n    </tr>\n    <tr>\n      <th>31</th>\n      <td>USA COVID-19 Vaccinations</td>\n      <td>1</td>\n    </tr>\n  </tbody>\n</table>\n</div>"
     },
     "execution_count": 4,
     "metadata": {},
     "output_type": "execute_result"
    }
   ],
   "source": [
    "kglids.get_datasets()"
   ]
  },
  {
   "cell_type": "markdown",
   "metadata": {},
   "source": [
    "##### <b>3.  Retrieving table(s) </b>"
   ]
  },
  {
   "cell_type": "code",
   "execution_count": 5,
   "metadata": {},
   "outputs": [
    {
     "name": "stdout",
     "output_type": "stream",
     "text": [
      "Showing all available table(s): \n"
     ]
    },
    {
     "data": {
      "text/plain": "                                        Dataset  \\\n0           COVID-19 Corona Virus India Dataset   \n1           COVID-19 Corona Virus India Dataset   \n2           COVID-19 Corona Virus India Dataset   \n3           COVID-19 Corona Virus India Dataset   \n4           COVID-19 Corona Virus India Dataset   \n..                                          ...   \n105                            US Mass Shooting   \n106  US Minimum Wage by State from 1968 to 2020   \n107                         US Police Shootings   \n108                US counties COVID 19 dataset   \n109                   USA COVID-19 Vaccinations   \n\n                                Table  \\\n0                        complete.csv   \n1                tests_state_wise.csv   \n2                  tests_day_wise.csv   \n3              state_level_latest.csv   \n4               state_level_daily.csv   \n..                                ...   \n105  Mass Shootings Dataset Ver 2.csv   \n106             Minimum Wage Data.csv   \n107                     shootings.csv   \n108                   us-counties.csv   \n109         us_state_vaccinations.csv   \n\n                                         Path_to_table  \n0    /Users/shubhamvashisth/Downloads/data_lake/COV...  \n1    /Users/shubhamvashisth/Downloads/data_lake/COV...  \n2    /Users/shubhamvashisth/Downloads/data_lake/COV...  \n3    /Users/shubhamvashisth/Downloads/data_lake/COV...  \n4    /Users/shubhamvashisth/Downloads/data_lake/COV...  \n..                                                 ...  \n105  /Users/shubhamvashisth/Downloads/data_lake/US ...  \n106  /Users/shubhamvashisth/Downloads/data_lake/US ...  \n107  /Users/shubhamvashisth/Downloads/data_lake/US ...  \n108  /Users/shubhamvashisth/Downloads/data_lake/US ...  \n109  /Users/shubhamvashisth/Downloads/data_lake/USA...  \n\n[110 rows x 3 columns]",
      "text/html": "<div>\n<style scoped>\n    .dataframe tbody tr th:only-of-type {\n        vertical-align: middle;\n    }\n\n    .dataframe tbody tr th {\n        vertical-align: top;\n    }\n\n    .dataframe thead th {\n        text-align: right;\n    }\n</style>\n<table border=\"1\" class=\"dataframe\">\n  <thead>\n    <tr style=\"text-align: right;\">\n      <th></th>\n      <th>Dataset</th>\n      <th>Table</th>\n      <th>Path_to_table</th>\n    </tr>\n  </thead>\n  <tbody>\n    <tr>\n      <th>0</th>\n      <td>COVID-19 Corona Virus India Dataset</td>\n      <td>complete.csv</td>\n      <td>/Users/shubhamvashisth/Downloads/data_lake/COV...</td>\n    </tr>\n    <tr>\n      <th>1</th>\n      <td>COVID-19 Corona Virus India Dataset</td>\n      <td>tests_state_wise.csv</td>\n      <td>/Users/shubhamvashisth/Downloads/data_lake/COV...</td>\n    </tr>\n    <tr>\n      <th>2</th>\n      <td>COVID-19 Corona Virus India Dataset</td>\n      <td>tests_day_wise.csv</td>\n      <td>/Users/shubhamvashisth/Downloads/data_lake/COV...</td>\n    </tr>\n    <tr>\n      <th>3</th>\n      <td>COVID-19 Corona Virus India Dataset</td>\n      <td>state_level_latest.csv</td>\n      <td>/Users/shubhamvashisth/Downloads/data_lake/COV...</td>\n    </tr>\n    <tr>\n      <th>4</th>\n      <td>COVID-19 Corona Virus India Dataset</td>\n      <td>state_level_daily.csv</td>\n      <td>/Users/shubhamvashisth/Downloads/data_lake/COV...</td>\n    </tr>\n    <tr>\n      <th>...</th>\n      <td>...</td>\n      <td>...</td>\n      <td>...</td>\n    </tr>\n    <tr>\n      <th>105</th>\n      <td>US Mass Shooting</td>\n      <td>Mass Shootings Dataset Ver 2.csv</td>\n      <td>/Users/shubhamvashisth/Downloads/data_lake/US ...</td>\n    </tr>\n    <tr>\n      <th>106</th>\n      <td>US Minimum Wage by State from 1968 to 2020</td>\n      <td>Minimum Wage Data.csv</td>\n      <td>/Users/shubhamvashisth/Downloads/data_lake/US ...</td>\n    </tr>\n    <tr>\n      <th>107</th>\n      <td>US Police Shootings</td>\n      <td>shootings.csv</td>\n      <td>/Users/shubhamvashisth/Downloads/data_lake/US ...</td>\n    </tr>\n    <tr>\n      <th>108</th>\n      <td>US counties COVID 19 dataset</td>\n      <td>us-counties.csv</td>\n      <td>/Users/shubhamvashisth/Downloads/data_lake/US ...</td>\n    </tr>\n    <tr>\n      <th>109</th>\n      <td>USA COVID-19 Vaccinations</td>\n      <td>us_state_vaccinations.csv</td>\n      <td>/Users/shubhamvashisth/Downloads/data_lake/USA...</td>\n    </tr>\n  </tbody>\n</table>\n<p>110 rows × 3 columns</p>\n</div>"
     },
     "execution_count": 5,
     "metadata": {},
     "output_type": "execute_result"
    }
   ],
   "source": [
    "kglids.get_tables()"
   ]
  },
  {
   "cell_type": "code",
   "execution_count": 6,
   "metadata": {},
   "outputs": [
    {
     "name": "stdout",
     "output_type": "stream",
     "text": [
      "Showing table(s) for 'UK COVID-19 Data' dataset: \n"
     ]
    },
    {
     "data": {
      "text/plain": "            Dataset                                          Table  \\\n0  UK COVID-19 Data              England_Regions_COVID_Dataset.csv   \n1  UK COVID-19 Data  NEW_Official_Population_Data_ONS_mid-2019.csv   \n2  UK COVID-19 Data          UK_Devolved_Nations_COVID_Dataset.csv   \n3  UK COVID-19 Data      UK_Local_Authority_UTLA_COVID_Dataset.csv   \n4  UK COVID-19 Data            UK_National_Total_COVID_Dataset.csv   \n5  UK COVID-19 Data    Populations_for_UK_and_Devolved_Nations.csv   \n\n                                       Path_to_table  \n0  /Users/shubhamvashisth/Downloads/data_lake/UK ...  \n1  /Users/shubhamvashisth/Downloads/data_lake/UK ...  \n2  /Users/shubhamvashisth/Downloads/data_lake/UK ...  \n3  /Users/shubhamvashisth/Downloads/data_lake/UK ...  \n4  /Users/shubhamvashisth/Downloads/data_lake/UK ...  \n5  /Users/shubhamvashisth/Downloads/data_lake/UK ...  ",
      "text/html": "<div>\n<style scoped>\n    .dataframe tbody tr th:only-of-type {\n        vertical-align: middle;\n    }\n\n    .dataframe tbody tr th {\n        vertical-align: top;\n    }\n\n    .dataframe thead th {\n        text-align: right;\n    }\n</style>\n<table border=\"1\" class=\"dataframe\">\n  <thead>\n    <tr style=\"text-align: right;\">\n      <th></th>\n      <th>Dataset</th>\n      <th>Table</th>\n      <th>Path_to_table</th>\n    </tr>\n  </thead>\n  <tbody>\n    <tr>\n      <th>0</th>\n      <td>UK COVID-19 Data</td>\n      <td>England_Regions_COVID_Dataset.csv</td>\n      <td>/Users/shubhamvashisth/Downloads/data_lake/UK ...</td>\n    </tr>\n    <tr>\n      <th>1</th>\n      <td>UK COVID-19 Data</td>\n      <td>NEW_Official_Population_Data_ONS_mid-2019.csv</td>\n      <td>/Users/shubhamvashisth/Downloads/data_lake/UK ...</td>\n    </tr>\n    <tr>\n      <th>2</th>\n      <td>UK COVID-19 Data</td>\n      <td>UK_Devolved_Nations_COVID_Dataset.csv</td>\n      <td>/Users/shubhamvashisth/Downloads/data_lake/UK ...</td>\n    </tr>\n    <tr>\n      <th>3</th>\n      <td>UK COVID-19 Data</td>\n      <td>UK_Local_Authority_UTLA_COVID_Dataset.csv</td>\n      <td>/Users/shubhamvashisth/Downloads/data_lake/UK ...</td>\n    </tr>\n    <tr>\n      <th>4</th>\n      <td>UK COVID-19 Data</td>\n      <td>UK_National_Total_COVID_Dataset.csv</td>\n      <td>/Users/shubhamvashisth/Downloads/data_lake/UK ...</td>\n    </tr>\n    <tr>\n      <th>5</th>\n      <td>UK COVID-19 Data</td>\n      <td>Populations_for_UK_and_Devolved_Nations.csv</td>\n      <td>/Users/shubhamvashisth/Downloads/data_lake/UK ...</td>\n    </tr>\n  </tbody>\n</table>\n</div>"
     },
     "execution_count": 6,
     "metadata": {},
     "output_type": "execute_result"
    }
   ],
   "source": [
    "kglids.get_tables(dataset='UK COVID-19 Data')"
   ]
  },
  {
   "cell_type": "markdown",
   "metadata": {},
   "source": [
    "###### <b>Enriching table(s) with more columns using KGLiDS's recommendations </b>"
   ]
  },
  {
   "cell_type": "markdown",
   "metadata": {},
   "source": [
    "##### <b>4. Recommending tables by column name search</b>"
   ]
  },
  {
   "cell_type": "code",
   "execution_count": 7,
   "metadata": {},
   "outputs": [
    {
     "name": "stdout",
     "output_type": "stream",
     "text": [
      "Showing recommendations as per the following conditions:\n",
      "Condition =  [['player', 'club']]\n"
     ]
    },
    {
     "data": {
      "text/plain": "                            Dataset                     Table  \\\n0   FIFA 21 complete player dataset            players_21.csv   \n1   FIFA 20 complete player dataset            players_20.csv   \n2   FIFA 21 complete player dataset            players_20.csv   \n3   FIFA 21 complete player dataset            players_19.csv   \n4   FIFA 20 complete player dataset            players_19.csv   \n5   FIFA 21 complete player dataset            players_18.csv   \n6   FIFA 20 complete player dataset            players_18.csv   \n7   FIFA 20 complete player dataset            players_17.csv   \n8   FIFA 21 complete player dataset            players_17.csv   \n9   FIFA 21 complete player dataset            players_16.csv   \n10  FIFA 20 complete player dataset            players_16.csv   \n11  FIFA 21 complete player dataset            players_15.csv   \n12  FIFA 20 complete player dataset            players_15.csv   \n13  FIFA 19 complete player dataset                  data.csv   \n14                   FIFA World Cup       WorldCupPlayers.csv   \n15  FIFA 18 Complete Player Dataset    PlayerPersonalData.csv   \n16          FIFA22 OFFICIAL DATASET  FIFA22_official_data.csv   \n17          FIFA22 OFFICIAL DATASET  FIFA21_official_data.csv   \n18          FIFA22 OFFICIAL DATASET  FIFA20_official_data.csv   \n19          FIFA22 OFFICIAL DATASET  FIFA19_official_data.csv   \n20          FIFA22 OFFICIAL DATASET  FIFA18_official_data.csv   \n21          FIFA22 OFFICIAL DATASET  FIFA17_official_data.csv   \n22  FIFA 18 Complete Player Dataset       CompleteDataset.csv   \n\n    Number_of_columns  Number_of_rows  \\\n0               106.0         18944.0   \n1               104.0         18278.0   \n2               106.0         18483.0   \n3               106.0         18085.0   \n4               104.0         17770.0   \n5               106.0         17954.0   \n6               104.0         17592.0   \n7               104.0         17009.0   \n8               106.0         17597.0   \n9               106.0         15623.0   \n10              104.0         14881.0   \n11              106.0         16155.0   \n12              104.0         15465.0   \n13               88.0         18207.0   \n14                9.0         37784.0   \n15               14.0         17981.0   \n16               65.0         16710.0   \n17               65.0         17108.0   \n18               65.0         17104.0   \n19               64.0         17943.0   \n20               64.0         17927.0   \n21               63.0         17560.0   \n22               74.0         17981.0   \n\n                                        Path_to_table  \n0   /Users/shubhamvashisth/Downloads/data_lake/FIF...  \n1   /Users/shubhamvashisth/Downloads/data_lake/FIF...  \n2   /Users/shubhamvashisth/Downloads/data_lake/FIF...  \n3   /Users/shubhamvashisth/Downloads/data_lake/FIF...  \n4   /Users/shubhamvashisth/Downloads/data_lake/FIF...  \n5   /Users/shubhamvashisth/Downloads/data_lake/FIF...  \n6   /Users/shubhamvashisth/Downloads/data_lake/FIF...  \n7   /Users/shubhamvashisth/Downloads/data_lake/FIF...  \n8   /Users/shubhamvashisth/Downloads/data_lake/FIF...  \n9   /Users/shubhamvashisth/Downloads/data_lake/FIF...  \n10  /Users/shubhamvashisth/Downloads/data_lake/FIF...  \n11  /Users/shubhamvashisth/Downloads/data_lake/FIF...  \n12  /Users/shubhamvashisth/Downloads/data_lake/FIF...  \n13  /Users/shubhamvashisth/Downloads/data_lake/FIF...  \n14  /Users/shubhamvashisth/Downloads/data_lake/FIF...  \n15  /Users/shubhamvashisth/Downloads/data_lake/FIF...  \n16  /Users/shubhamvashisth/Downloads/data_lake/FIF...  \n17  /Users/shubhamvashisth/Downloads/data_lake/FIF...  \n18  /Users/shubhamvashisth/Downloads/data_lake/FIF...  \n19  /Users/shubhamvashisth/Downloads/data_lake/FIF...  \n20  /Users/shubhamvashisth/Downloads/data_lake/FIF...  \n21  /Users/shubhamvashisth/Downloads/data_lake/FIF...  \n22  /Users/shubhamvashisth/Downloads/data_lake/FIF...  ",
      "text/html": "<div>\n<style scoped>\n    .dataframe tbody tr th:only-of-type {\n        vertical-align: middle;\n    }\n\n    .dataframe tbody tr th {\n        vertical-align: top;\n    }\n\n    .dataframe thead th {\n        text-align: right;\n    }\n</style>\n<table border=\"1\" class=\"dataframe\">\n  <thead>\n    <tr style=\"text-align: right;\">\n      <th></th>\n      <th>Dataset</th>\n      <th>Table</th>\n      <th>Number_of_columns</th>\n      <th>Number_of_rows</th>\n      <th>Path_to_table</th>\n    </tr>\n  </thead>\n  <tbody>\n    <tr>\n      <th>0</th>\n      <td>FIFA 21 complete player dataset</td>\n      <td>players_21.csv</td>\n      <td>106.0</td>\n      <td>18944.0</td>\n      <td>/Users/shubhamvashisth/Downloads/data_lake/FIF...</td>\n    </tr>\n    <tr>\n      <th>1</th>\n      <td>FIFA 20 complete player dataset</td>\n      <td>players_20.csv</td>\n      <td>104.0</td>\n      <td>18278.0</td>\n      <td>/Users/shubhamvashisth/Downloads/data_lake/FIF...</td>\n    </tr>\n    <tr>\n      <th>2</th>\n      <td>FIFA 21 complete player dataset</td>\n      <td>players_20.csv</td>\n      <td>106.0</td>\n      <td>18483.0</td>\n      <td>/Users/shubhamvashisth/Downloads/data_lake/FIF...</td>\n    </tr>\n    <tr>\n      <th>3</th>\n      <td>FIFA 21 complete player dataset</td>\n      <td>players_19.csv</td>\n      <td>106.0</td>\n      <td>18085.0</td>\n      <td>/Users/shubhamvashisth/Downloads/data_lake/FIF...</td>\n    </tr>\n    <tr>\n      <th>4</th>\n      <td>FIFA 20 complete player dataset</td>\n      <td>players_19.csv</td>\n      <td>104.0</td>\n      <td>17770.0</td>\n      <td>/Users/shubhamvashisth/Downloads/data_lake/FIF...</td>\n    </tr>\n    <tr>\n      <th>5</th>\n      <td>FIFA 21 complete player dataset</td>\n      <td>players_18.csv</td>\n      <td>106.0</td>\n      <td>17954.0</td>\n      <td>/Users/shubhamvashisth/Downloads/data_lake/FIF...</td>\n    </tr>\n    <tr>\n      <th>6</th>\n      <td>FIFA 20 complete player dataset</td>\n      <td>players_18.csv</td>\n      <td>104.0</td>\n      <td>17592.0</td>\n      <td>/Users/shubhamvashisth/Downloads/data_lake/FIF...</td>\n    </tr>\n    <tr>\n      <th>7</th>\n      <td>FIFA 20 complete player dataset</td>\n      <td>players_17.csv</td>\n      <td>104.0</td>\n      <td>17009.0</td>\n      <td>/Users/shubhamvashisth/Downloads/data_lake/FIF...</td>\n    </tr>\n    <tr>\n      <th>8</th>\n      <td>FIFA 21 complete player dataset</td>\n      <td>players_17.csv</td>\n      <td>106.0</td>\n      <td>17597.0</td>\n      <td>/Users/shubhamvashisth/Downloads/data_lake/FIF...</td>\n    </tr>\n    <tr>\n      <th>9</th>\n      <td>FIFA 21 complete player dataset</td>\n      <td>players_16.csv</td>\n      <td>106.0</td>\n      <td>15623.0</td>\n      <td>/Users/shubhamvashisth/Downloads/data_lake/FIF...</td>\n    </tr>\n    <tr>\n      <th>10</th>\n      <td>FIFA 20 complete player dataset</td>\n      <td>players_16.csv</td>\n      <td>104.0</td>\n      <td>14881.0</td>\n      <td>/Users/shubhamvashisth/Downloads/data_lake/FIF...</td>\n    </tr>\n    <tr>\n      <th>11</th>\n      <td>FIFA 21 complete player dataset</td>\n      <td>players_15.csv</td>\n      <td>106.0</td>\n      <td>16155.0</td>\n      <td>/Users/shubhamvashisth/Downloads/data_lake/FIF...</td>\n    </tr>\n    <tr>\n      <th>12</th>\n      <td>FIFA 20 complete player dataset</td>\n      <td>players_15.csv</td>\n      <td>104.0</td>\n      <td>15465.0</td>\n      <td>/Users/shubhamvashisth/Downloads/data_lake/FIF...</td>\n    </tr>\n    <tr>\n      <th>13</th>\n      <td>FIFA 19 complete player dataset</td>\n      <td>data.csv</td>\n      <td>88.0</td>\n      <td>18207.0</td>\n      <td>/Users/shubhamvashisth/Downloads/data_lake/FIF...</td>\n    </tr>\n    <tr>\n      <th>14</th>\n      <td>FIFA World Cup</td>\n      <td>WorldCupPlayers.csv</td>\n      <td>9.0</td>\n      <td>37784.0</td>\n      <td>/Users/shubhamvashisth/Downloads/data_lake/FIF...</td>\n    </tr>\n    <tr>\n      <th>15</th>\n      <td>FIFA 18 Complete Player Dataset</td>\n      <td>PlayerPersonalData.csv</td>\n      <td>14.0</td>\n      <td>17981.0</td>\n      <td>/Users/shubhamvashisth/Downloads/data_lake/FIF...</td>\n    </tr>\n    <tr>\n      <th>16</th>\n      <td>FIFA22 OFFICIAL DATASET</td>\n      <td>FIFA22_official_data.csv</td>\n      <td>65.0</td>\n      <td>16710.0</td>\n      <td>/Users/shubhamvashisth/Downloads/data_lake/FIF...</td>\n    </tr>\n    <tr>\n      <th>17</th>\n      <td>FIFA22 OFFICIAL DATASET</td>\n      <td>FIFA21_official_data.csv</td>\n      <td>65.0</td>\n      <td>17108.0</td>\n      <td>/Users/shubhamvashisth/Downloads/data_lake/FIF...</td>\n    </tr>\n    <tr>\n      <th>18</th>\n      <td>FIFA22 OFFICIAL DATASET</td>\n      <td>FIFA20_official_data.csv</td>\n      <td>65.0</td>\n      <td>17104.0</td>\n      <td>/Users/shubhamvashisth/Downloads/data_lake/FIF...</td>\n    </tr>\n    <tr>\n      <th>19</th>\n      <td>FIFA22 OFFICIAL DATASET</td>\n      <td>FIFA19_official_data.csv</td>\n      <td>64.0</td>\n      <td>17943.0</td>\n      <td>/Users/shubhamvashisth/Downloads/data_lake/FIF...</td>\n    </tr>\n    <tr>\n      <th>20</th>\n      <td>FIFA22 OFFICIAL DATASET</td>\n      <td>FIFA18_official_data.csv</td>\n      <td>64.0</td>\n      <td>17927.0</td>\n      <td>/Users/shubhamvashisth/Downloads/data_lake/FIF...</td>\n    </tr>\n    <tr>\n      <th>21</th>\n      <td>FIFA22 OFFICIAL DATASET</td>\n      <td>FIFA17_official_data.csv</td>\n      <td>63.0</td>\n      <td>17560.0</td>\n      <td>/Users/shubhamvashisth/Downloads/data_lake/FIF...</td>\n    </tr>\n    <tr>\n      <th>22</th>\n      <td>FIFA 18 Complete Player Dataset</td>\n      <td>CompleteDataset.csv</td>\n      <td>74.0</td>\n      <td>17981.0</td>\n      <td>/Users/shubhamvashisth/Downloads/data_lake/FIF...</td>\n    </tr>\n  </tbody>\n</table>\n</div>"
     },
     "execution_count": 7,
     "metadata": {},
     "output_type": "execute_result"
    }
   ],
   "source": [
    "df = kglids.search_tables_on(conditions=[['player', 'club']])\n",
    "df"
   ]
  },
  {
   "cell_type": "markdown",
   "metadata": {},
   "source": [
    "##### <b>5. Recommending unionable tables (using semantic similarity)</b>"
   ]
  },
  {
   "cell_type": "code",
   "execution_count": 8,
   "metadata": {},
   "outputs": [
    {
     "name": "stdout",
     "output_type": "stream",
     "text": [
      "Showing the top-10 unionable table recommendations:\n"
     ]
    },
    {
     "data": {
      "text/plain": "                           Dataset         Recommended_table    Score  \\\n0  FIFA 20 complete player dataset            players_20.csv  280.659   \n1  FIFA 21 complete player dataset            players_18.csv  238.174   \n2  FIFA 20 complete player dataset            players_19.csv  238.174   \n3  FIFA 20 complete player dataset            players_17.csv  237.174   \n4  FIFA 20 complete player dataset            players_15.csv  235.174   \n5  FIFA 20 complete player dataset            players_16.csv  235.174   \n6  FIFA 19 complete player dataset                  data.csv  102.839   \n7          FIFA22 OFFICIAL DATASET  FIFA19_official_data.csv   65.596   \n8          FIFA22 OFFICIAL DATASET  FIFA18_official_data.csv   63.561   \n9          FIFA22 OFFICIAL DATASET  FIFA17_official_data.csv   63.561   \n\n                                       Path_to_table  \n0  /Users/shubhamvashisth/Downloads/data_lake/FIF...  \n1  /Users/shubhamvashisth/Downloads/data_lake/FIF...  \n2  /Users/shubhamvashisth/Downloads/data_lake/FIF...  \n3  /Users/shubhamvashisth/Downloads/data_lake/FIF...  \n4  /Users/shubhamvashisth/Downloads/data_lake/FIF...  \n5  /Users/shubhamvashisth/Downloads/data_lake/FIF...  \n6  /Users/shubhamvashisth/Downloads/data_lake/FIF...  \n7  /Users/shubhamvashisth/Downloads/data_lake/FIF...  \n8  /Users/shubhamvashisth/Downloads/data_lake/FIF...  \n9  /Users/shubhamvashisth/Downloads/data_lake/FIF...  ",
      "text/html": "<div>\n<style scoped>\n    .dataframe tbody tr th:only-of-type {\n        vertical-align: middle;\n    }\n\n    .dataframe tbody tr th {\n        vertical-align: top;\n    }\n\n    .dataframe thead th {\n        text-align: right;\n    }\n</style>\n<table border=\"1\" class=\"dataframe\">\n  <thead>\n    <tr style=\"text-align: right;\">\n      <th></th>\n      <th>Dataset</th>\n      <th>Recommended_table</th>\n      <th>Score</th>\n      <th>Path_to_table</th>\n    </tr>\n  </thead>\n  <tbody>\n    <tr>\n      <th>0</th>\n      <td>FIFA 20 complete player dataset</td>\n      <td>players_20.csv</td>\n      <td>280.659</td>\n      <td>/Users/shubhamvashisth/Downloads/data_lake/FIF...</td>\n    </tr>\n    <tr>\n      <th>1</th>\n      <td>FIFA 21 complete player dataset</td>\n      <td>players_18.csv</td>\n      <td>238.174</td>\n      <td>/Users/shubhamvashisth/Downloads/data_lake/FIF...</td>\n    </tr>\n    <tr>\n      <th>2</th>\n      <td>FIFA 20 complete player dataset</td>\n      <td>players_19.csv</td>\n      <td>238.174</td>\n      <td>/Users/shubhamvashisth/Downloads/data_lake/FIF...</td>\n    </tr>\n    <tr>\n      <th>3</th>\n      <td>FIFA 20 complete player dataset</td>\n      <td>players_17.csv</td>\n      <td>237.174</td>\n      <td>/Users/shubhamvashisth/Downloads/data_lake/FIF...</td>\n    </tr>\n    <tr>\n      <th>4</th>\n      <td>FIFA 20 complete player dataset</td>\n      <td>players_15.csv</td>\n      <td>235.174</td>\n      <td>/Users/shubhamvashisth/Downloads/data_lake/FIF...</td>\n    </tr>\n    <tr>\n      <th>5</th>\n      <td>FIFA 20 complete player dataset</td>\n      <td>players_16.csv</td>\n      <td>235.174</td>\n      <td>/Users/shubhamvashisth/Downloads/data_lake/FIF...</td>\n    </tr>\n    <tr>\n      <th>6</th>\n      <td>FIFA 19 complete player dataset</td>\n      <td>data.csv</td>\n      <td>102.839</td>\n      <td>/Users/shubhamvashisth/Downloads/data_lake/FIF...</td>\n    </tr>\n    <tr>\n      <th>7</th>\n      <td>FIFA22 OFFICIAL DATASET</td>\n      <td>FIFA19_official_data.csv</td>\n      <td>65.596</td>\n      <td>/Users/shubhamvashisth/Downloads/data_lake/FIF...</td>\n    </tr>\n    <tr>\n      <th>8</th>\n      <td>FIFA22 OFFICIAL DATASET</td>\n      <td>FIFA18_official_data.csv</td>\n      <td>63.561</td>\n      <td>/Users/shubhamvashisth/Downloads/data_lake/FIF...</td>\n    </tr>\n    <tr>\n      <th>9</th>\n      <td>FIFA22 OFFICIAL DATASET</td>\n      <td>FIFA17_official_data.csv</td>\n      <td>63.561</td>\n      <td>/Users/shubhamvashisth/Downloads/data_lake/FIF...</td>\n    </tr>\n  </tbody>\n</table>\n</div>"
     },
     "execution_count": 8,
     "metadata": {},
     "output_type": "execute_result"
    }
   ],
   "source": [
    "recommendations = kglids.recommend_k_unionable_tables(df.iloc[0], k = 10)\n",
    "recommendations"
   ]
  },
  {
   "cell_type": "markdown",
   "metadata": {},
   "source": [
    "##### <b>6. Recommending unionable tables (using content similarity)</b>"
   ]
  },
  {
   "cell_type": "code",
   "execution_count": 9,
   "metadata": {
    "pycharm": {
     "name": "#%%\n"
    }
   },
   "outputs": [
    {
     "name": "stdout",
     "output_type": "stream",
     "text": [
      "Showing the top-3 joinable table recommendations:\n"
     ]
    },
    {
     "data": {
      "text/plain": "                           Dataset         Recommended_table  Score  \\\n0  FIFA 20 complete player dataset            players_20.csv    2.0   \n1          FIFA22 OFFICIAL DATASET  FIFA22_official_data.csv    1.0   \n2          FIFA22 OFFICIAL DATASET  FIFA21_official_data.csv    1.0   \n\n                                       Path_to_table  \n0  /Users/shubhamvashisth/Downloads/data_lake/FIF...  \n1  /Users/shubhamvashisth/Downloads/data_lake/FIF...  \n2  /Users/shubhamvashisth/Downloads/data_lake/FIF...  ",
      "text/html": "<div>\n<style scoped>\n    .dataframe tbody tr th:only-of-type {\n        vertical-align: middle;\n    }\n\n    .dataframe tbody tr th {\n        vertical-align: top;\n    }\n\n    .dataframe thead th {\n        text-align: right;\n    }\n</style>\n<table border=\"1\" class=\"dataframe\">\n  <thead>\n    <tr style=\"text-align: right;\">\n      <th></th>\n      <th>Dataset</th>\n      <th>Recommended_table</th>\n      <th>Score</th>\n      <th>Path_to_table</th>\n    </tr>\n  </thead>\n  <tbody>\n    <tr>\n      <th>0</th>\n      <td>FIFA 20 complete player dataset</td>\n      <td>players_20.csv</td>\n      <td>2.0</td>\n      <td>/Users/shubhamvashisth/Downloads/data_lake/FIF...</td>\n    </tr>\n    <tr>\n      <th>1</th>\n      <td>FIFA22 OFFICIAL DATASET</td>\n      <td>FIFA22_official_data.csv</td>\n      <td>1.0</td>\n      <td>/Users/shubhamvashisth/Downloads/data_lake/FIF...</td>\n    </tr>\n    <tr>\n      <th>2</th>\n      <td>FIFA22 OFFICIAL DATASET</td>\n      <td>FIFA21_official_data.csv</td>\n      <td>1.0</td>\n      <td>/Users/shubhamvashisth/Downloads/data_lake/FIF...</td>\n    </tr>\n  </tbody>\n</table>\n</div>"
     },
     "execution_count": 9,
     "metadata": {},
     "output_type": "execute_result"
    }
   ],
   "source": [
    "recommendations = kglids.recommend_k_joinable_tables(df.iloc[0], k = 5)\n",
    "recommendations"
   ]
  },
  {
   "cell_type": "markdown",
   "metadata": {},
   "source": [
    "##### <b>7. Visualizing the path between two joinable tables</b>"
   ]
  },
  {
   "cell_type": "code",
   "execution_count": 10,
   "metadata": {
    "pycharm": {
     "name": "#%%\n"
    }
   },
   "outputs": [
    {
     "data": {
      "text/plain": "<graphviz.dot.Digraph at 0x7f7bb0167700>",
      "image/svg+xml": "<?xml version=\"1.0\" encoding=\"UTF-8\" standalone=\"no\"?>\n<!DOCTYPE svg PUBLIC \"-//W3C//DTD SVG 1.1//EN\"\n \"http://www.w3.org/Graphics/SVG/1.1/DTD/svg11.dtd\">\n<!-- Generated by graphviz version 2.50.0 (20211204.2007)\n -->\n<!-- Pages: 1 -->\n<svg width=\"500pt\" height=\"328pt\"\n viewBox=\"0.00 0.00 499.98 328.00\" xmlns=\"http://www.w3.org/2000/svg\" xmlns:xlink=\"http://www.w3.org/1999/xlink\">\n<g id=\"graph0\" class=\"graph\" transform=\"scale(1 1) rotate(0) translate(4 324)\">\n<polygon fill=\"white\" stroke=\"transparent\" points=\"-4,4 -4,-324 495.98,-324 495.98,4 -4,4\"/>\n<text text-anchor=\"middle\" x=\"245.99\" y=\"-7.8\" font-family=\"Times,serif\" font-size=\"14.00\">Paths between starting nodes in blue and target nodes in orange</text>\n<!-- 964547093 -->\n<g id=\"node1\" class=\"node\">\n<title>964547093</title>\n<ellipse fill=\"#b2dfee\" stroke=\"black\" cx=\"248.09\" cy=\"-302\" rx=\"42.49\" ry=\"18\"/>\n<text text-anchor=\"middle\" x=\"248.09\" y=\"-298.3\" font-family=\"Times,serif\" font-size=\"14.00\">sofifa_id</text>\n</g>\n<!-- 3290482378 -->\n<g id=\"node2\" class=\"node\">\n<title>3290482378</title>\n<ellipse fill=\"#b2dfee\" stroke=\"black\" cx=\"194.09\" cy=\"-215\" rx=\"63.89\" ry=\"18\"/>\n<text text-anchor=\"middle\" x=\"194.09\" y=\"-211.3\" font-family=\"Times,serif\" font-size=\"14.00\">players_21.csv</text>\n</g>\n<!-- 964547093&#45;&gt;3290482378 -->\n<g id=\"edge1\" class=\"edge\">\n<title>964547093&#45;&gt;3290482378</title>\n<path fill=\"none\" stroke=\"black\" d=\"M237.42,-284.21C229.65,-271.98 219,-255.21 210.2,-241.36\"/>\n<polygon fill=\"black\" stroke=\"black\" points=\"213.05,-239.32 204.74,-232.76 207.14,-243.08 213.05,-239.32\"/>\n<text text-anchor=\"middle\" x=\"242.09\" y=\"-254.8\" font-family=\"Times,serif\" font-size=\"14.00\">partOf</text>\n</g>\n<!-- 1642869099 -->\n<g id=\"node4\" class=\"node\">\n<title>1642869099</title>\n<ellipse fill=\"#cd6600\" stroke=\"black\" cx=\"337.09\" cy=\"-215\" rx=\"27\" ry=\"18\"/>\n<text text-anchor=\"middle\" x=\"337.09\" y=\"-211.3\" font-family=\"Times,serif\" font-size=\"14.00\">ID</text>\n</g>\n<!-- 964547093&#45;&gt;1642869099 -->\n<g id=\"edge5\" class=\"edge\">\n<title>964547093&#45;&gt;1642869099</title>\n<path fill=\"none\" stroke=\"black\" d=\"M264.83,-285.01C281.35,-269.24 306.36,-245.35 322.2,-230.22\"/>\n<text text-anchor=\"middle\" x=\"316.59\" y=\"-254.8\" font-family=\"Times,serif\" font-size=\"14.00\">similar</text>\n</g>\n<!-- 637374639 -->\n<g id=\"node3\" class=\"node\">\n<title>637374639</title>\n<ellipse fill=\"#b2dfee\" stroke=\"black\" cx=\"126.09\" cy=\"-128\" rx=\"126.18\" ry=\"18\"/>\n<text text-anchor=\"middle\" x=\"126.09\" y=\"-124.3\" font-family=\"Times,serif\" font-size=\"14.00\">FIFA 21 complete player dataset</text>\n</g>\n<!-- 3290482378&#45;&gt;637374639 -->\n<g id=\"edge2\" class=\"edge\">\n<title>3290482378&#45;&gt;637374639</title>\n<path fill=\"none\" stroke=\"black\" d=\"M180.65,-197.21C170.85,-184.95 157.38,-168.11 146.28,-154.24\"/>\n<polygon fill=\"black\" stroke=\"black\" points=\"148.71,-151.67 139.73,-146.05 143.24,-156.04 148.71,-151.67\"/>\n<text text-anchor=\"middle\" x=\"183.09\" y=\"-167.8\" font-family=\"Times,serif\" font-size=\"14.00\">partOf</text>\n</g>\n<!-- 2750950071 -->\n<g id=\"node5\" class=\"node\">\n<title>2750950071</title>\n<ellipse fill=\"#cd6600\" stroke=\"black\" cx=\"371.09\" cy=\"-128\" rx=\"100.98\" ry=\"18\"/>\n<text text-anchor=\"middle\" x=\"371.09\" y=\"-124.3\" font-family=\"Times,serif\" font-size=\"14.00\">FIFA22_official_data.csv</text>\n</g>\n<!-- 1642869099&#45;&gt;2750950071 -->\n<g id=\"edge3\" class=\"edge\">\n<title>1642869099&#45;&gt;2750950071</title>\n<path fill=\"none\" stroke=\"black\" d=\"M343.81,-197.21C348.57,-185.29 355.06,-169.06 360.52,-155.42\"/>\n<polygon fill=\"black\" stroke=\"black\" points=\"363.8,-156.63 364.27,-146.05 357.31,-154.03 363.8,-156.63\"/>\n<text text-anchor=\"middle\" x=\"374.09\" y=\"-167.8\" font-family=\"Times,serif\" font-size=\"14.00\">partOf</text>\n</g>\n<!-- 822726302 -->\n<g id=\"node6\" class=\"node\">\n<title>822726302</title>\n<ellipse fill=\"#cd6600\" stroke=\"black\" cx=\"371.09\" cy=\"-41\" rx=\"120.78\" ry=\"18\"/>\n<text text-anchor=\"middle\" x=\"371.09\" y=\"-37.3\" font-family=\"Times,serif\" font-size=\"14.00\">FIFA22 OFFICIAL DATASET</text>\n</g>\n<!-- 2750950071&#45;&gt;822726302 -->\n<g id=\"edge4\" class=\"edge\">\n<title>2750950071&#45;&gt;822726302</title>\n<path fill=\"none\" stroke=\"black\" d=\"M371.09,-109.8C371.09,-98.16 371.09,-82.55 371.09,-69.24\"/>\n<polygon fill=\"black\" stroke=\"black\" points=\"374.59,-69.18 371.09,-59.18 367.59,-69.18 374.59,-69.18\"/>\n<text text-anchor=\"middle\" x=\"389.09\" y=\"-80.8\" font-family=\"Times,serif\" font-size=\"14.00\">partOf</text>\n</g>\n</g>\n</svg>\n"
     },
     "execution_count": 10,
     "metadata": {},
     "output_type": "execute_result"
    }
   ],
   "source": [
    "kglids.get_path_between_tables(df.iloc[0], recommendations.iloc[1], hops=1)"
   ]
  },
  {
   "cell_type": "code",
   "execution_count": 11,
   "metadata": {},
   "outputs": [
    {
     "data": {
      "text/plain": "<graphviz.dot.Digraph at 0x7f7ba26f4250>",
      "image/svg+xml": "<?xml version=\"1.0\" encoding=\"UTF-8\" standalone=\"no\"?>\n<!DOCTYPE svg PUBLIC \"-//W3C//DTD SVG 1.1//EN\"\n \"http://www.w3.org/Graphics/SVG/1.1/DTD/svg11.dtd\">\n<!-- Generated by graphviz version 2.50.0 (20211204.2007)\n -->\n<!-- Pages: 1 -->\n<svg width=\"490pt\" height=\"436pt\"\n viewBox=\"0.00 0.00 490.18 436.00\" xmlns=\"http://www.w3.org/2000/svg\" xmlns:xlink=\"http://www.w3.org/1999/xlink\">\n<g id=\"graph0\" class=\"graph\" transform=\"scale(1 1) rotate(0) translate(4 432)\">\n<polygon fill=\"white\" stroke=\"transparent\" points=\"-4,4 -4,-432 486.18,-432 486.18,4 -4,4\"/>\n<text text-anchor=\"middle\" x=\"241.09\" y=\"-7.8\" font-family=\"Times,serif\" font-size=\"14.00\">Paths between starting nodes in blue and target nodes in orange</text>\n<!-- 964547093 -->\n<g id=\"node1\" class=\"node\">\n<title>964547093</title>\n<ellipse fill=\"#b2dfee\" stroke=\"black\" cx=\"156.09\" cy=\"-410\" rx=\"42.49\" ry=\"18\"/>\n<text text-anchor=\"middle\" x=\"156.09\" y=\"-406.3\" font-family=\"Times,serif\" font-size=\"14.00\">sofifa_id</text>\n</g>\n<!-- 3290482378 -->\n<g id=\"node2\" class=\"node\">\n<title>3290482378</title>\n<ellipse fill=\"#b2dfee\" stroke=\"black\" cx=\"119.09\" cy=\"-269\" rx=\"63.89\" ry=\"18\"/>\n<text text-anchor=\"middle\" x=\"119.09\" y=\"-265.3\" font-family=\"Times,serif\" font-size=\"14.00\">players_21.csv</text>\n</g>\n<!-- 964547093&#45;&gt;3290482378 -->\n<g id=\"edge1\" class=\"edge\">\n<title>964547093&#45;&gt;3290482378</title>\n<path fill=\"none\" stroke=\"black\" d=\"M145.05,-392.5C141.71,-386.84 138.33,-380.33 136.09,-374 127.15,-348.77 122.87,-318.42 120.85,-297.03\"/>\n<polygon fill=\"black\" stroke=\"black\" points=\"124.34,-296.7 120.01,-287.03 117.36,-297.29 124.34,-296.7\"/>\n<text text-anchor=\"middle\" x=\"154.09\" y=\"-362.8\" font-family=\"Times,serif\" font-size=\"14.00\">partOf</text>\n</g>\n<!-- 2758947683 -->\n<g id=\"node4\" class=\"node\">\n<title>2758947683</title>\n<ellipse fill=\"none\" stroke=\"black\" cx=\"201.09\" cy=\"-323\" rx=\"42.49\" ry=\"18\"/>\n<text text-anchor=\"middle\" x=\"201.09\" y=\"-319.3\" font-family=\"Times,serif\" font-size=\"14.00\">sofifa_id</text>\n</g>\n<!-- 964547093&#45;&gt;2758947683 -->\n<g id=\"edge8\" class=\"edge\">\n<title>964547093&#45;&gt;2758947683</title>\n<path fill=\"none\" stroke=\"black\" d=\"M164.98,-392.21C172.87,-377.31 184.33,-355.65 192.22,-340.76\"/>\n<text text-anchor=\"middle\" x=\"201.59\" y=\"-362.8\" font-family=\"Times,serif\" font-size=\"14.00\">similar</text>\n</g>\n<!-- 637374639 -->\n<g id=\"node3\" class=\"node\">\n<title>637374639</title>\n<ellipse fill=\"#b2dfee\" stroke=\"black\" cx=\"126.09\" cy=\"-128\" rx=\"126.18\" ry=\"18\"/>\n<text text-anchor=\"middle\" x=\"126.09\" y=\"-124.3\" font-family=\"Times,serif\" font-size=\"14.00\">FIFA 21 complete player dataset</text>\n</g>\n<!-- 3290482378&#45;&gt;637374639 -->\n<g id=\"edge2\" class=\"edge\">\n<title>3290482378&#45;&gt;637374639</title>\n<path fill=\"none\" stroke=\"black\" d=\"M115.58,-250.98C114.56,-245.29 113.59,-238.9 113.09,-233 111.73,-217.06 111.58,-212.93 113.09,-197 114.37,-183.49 117.05,-168.67 119.65,-156.32\"/>\n<polygon fill=\"black\" stroke=\"black\" points=\"123.14,-156.72 121.87,-146.2 116.3,-155.22 123.14,-156.72\"/>\n<text text-anchor=\"middle\" x=\"131.09\" y=\"-211.3\" font-family=\"Times,serif\" font-size=\"14.00\">partOf</text>\n</g>\n<!-- 4181782394 -->\n<g id=\"node6\" class=\"node\">\n<title>4181782394</title>\n<ellipse fill=\"none\" stroke=\"black\" cx=\"222.09\" cy=\"-215\" rx=\"63.89\" ry=\"18\"/>\n<text text-anchor=\"middle\" x=\"222.09\" y=\"-211.3\" font-family=\"Times,serif\" font-size=\"14.00\">players_20.csv</text>\n</g>\n<!-- 2758947683&#45;&gt;4181782394 -->\n<g id=\"edge3\" class=\"edge\">\n<title>2758947683&#45;&gt;4181782394</title>\n<path fill=\"none\" stroke=\"black\" d=\"M204.46,-304.97C207.78,-288.2 212.91,-262.34 216.78,-242.81\"/>\n<polygon fill=\"black\" stroke=\"black\" points=\"220.21,-243.48 218.72,-232.99 213.35,-242.12 220.21,-243.48\"/>\n<text text-anchor=\"middle\" x=\"233.09\" y=\"-265.3\" font-family=\"Times,serif\" font-size=\"14.00\">partOf</text>\n</g>\n<!-- 3799733791 -->\n<g id=\"node5\" class=\"node\">\n<title>3799733791</title>\n<ellipse fill=\"none\" stroke=\"black\" cx=\"318.09\" cy=\"-323\" rx=\"51.99\" ry=\"18\"/>\n<text text-anchor=\"middle\" x=\"318.09\" y=\"-319.3\" font-family=\"Times,serif\" font-size=\"14.00\">short_name</text>\n</g>\n<!-- 3799733791&#45;&gt;4181782394 -->\n<g id=\"edge4\" class=\"edge\">\n<title>3799733791&#45;&gt;4181782394</title>\n<path fill=\"none\" stroke=\"black\" d=\"M303.71,-305.52C291.04,-291.05 272,-269.48 255.09,-251 251.81,-247.41 248.32,-243.65 244.87,-239.97\"/>\n<polygon fill=\"black\" stroke=\"black\" points=\"247.37,-237.52 237.97,-232.64 242.27,-242.32 247.37,-237.52\"/>\n<text text-anchor=\"middle\" x=\"304.09\" y=\"-265.3\" font-family=\"Times,serif\" font-size=\"14.00\">partOf</text>\n</g>\n<!-- 1831041292 -->\n<g id=\"node7\" class=\"node\">\n<title>1831041292</title>\n<ellipse fill=\"#cd6600\" stroke=\"black\" cx=\"356.09\" cy=\"-215\" rx=\"51.99\" ry=\"18\"/>\n<text text-anchor=\"middle\" x=\"356.09\" y=\"-211.3\" font-family=\"Times,serif\" font-size=\"14.00\">short_name</text>\n</g>\n<!-- 3799733791&#45;&gt;1831041292 -->\n<g id=\"edge9\" class=\"edge\">\n<title>3799733791&#45;&gt;1831041292</title>\n<path fill=\"none\" stroke=\"black\" d=\"M324.19,-304.97C331.29,-285.19 342.91,-252.75 350,-232.99\"/>\n<text text-anchor=\"middle\" x=\"361.59\" y=\"-265.3\" font-family=\"Times,serif\" font-size=\"14.00\">similar</text>\n</g>\n<!-- 4181782394&#45;&gt;637374639 -->\n<g id=\"edge5\" class=\"edge\">\n<title>4181782394&#45;&gt;637374639</title>\n<path fill=\"none\" stroke=\"black\" d=\"M203.58,-197.61C189.16,-184.84 168.94,-166.94 152.77,-152.62\"/>\n<polygon fill=\"black\" stroke=\"black\" points=\"155.01,-149.93 145.2,-145.92 150.37,-155.17 155.01,-149.93\"/>\n<text text-anchor=\"middle\" x=\"198.09\" y=\"-167.8\" font-family=\"Times,serif\" font-size=\"14.00\">partOf</text>\n</g>\n<!-- 3083461843 -->\n<g id=\"node8\" class=\"node\">\n<title>3083461843</title>\n<ellipse fill=\"#cd6600\" stroke=\"black\" cx=\"356.09\" cy=\"-128\" rx=\"63.89\" ry=\"18\"/>\n<text text-anchor=\"middle\" x=\"356.09\" y=\"-124.3\" font-family=\"Times,serif\" font-size=\"14.00\">players_20.csv</text>\n</g>\n<!-- 1831041292&#45;&gt;3083461843 -->\n<g id=\"edge6\" class=\"edge\">\n<title>1831041292&#45;&gt;3083461843</title>\n<path fill=\"none\" stroke=\"black\" d=\"M356.09,-196.8C356.09,-185.16 356.09,-169.55 356.09,-156.24\"/>\n<polygon fill=\"black\" stroke=\"black\" points=\"359.59,-156.18 356.09,-146.18 352.59,-156.18 359.59,-156.18\"/>\n<text text-anchor=\"middle\" x=\"374.09\" y=\"-167.8\" font-family=\"Times,serif\" font-size=\"14.00\">partOf</text>\n</g>\n<!-- 2155217057 -->\n<g id=\"node9\" class=\"node\">\n<title>2155217057</title>\n<ellipse fill=\"#cd6600\" stroke=\"black\" cx=\"356.09\" cy=\"-41\" rx=\"126.18\" ry=\"18\"/>\n<text text-anchor=\"middle\" x=\"356.09\" y=\"-37.3\" font-family=\"Times,serif\" font-size=\"14.00\">FIFA 20 complete player dataset</text>\n</g>\n<!-- 3083461843&#45;&gt;2155217057 -->\n<g id=\"edge7\" class=\"edge\">\n<title>3083461843&#45;&gt;2155217057</title>\n<path fill=\"none\" stroke=\"black\" d=\"M356.09,-109.8C356.09,-98.16 356.09,-82.55 356.09,-69.24\"/>\n<polygon fill=\"black\" stroke=\"black\" points=\"359.59,-69.18 356.09,-59.18 352.59,-69.18 359.59,-69.18\"/>\n<text text-anchor=\"middle\" x=\"374.09\" y=\"-80.8\" font-family=\"Times,serif\" font-size=\"14.00\">partOf</text>\n</g>\n</g>\n</svg>\n"
     },
     "execution_count": 11,
     "metadata": {},
     "output_type": "execute_result"
    }
   ],
   "source": [
    "kglids.get_path_between_tables(df.iloc[0], recommendations.iloc[0], hops=2)"
   ]
  },
  {
   "cell_type": "code",
   "execution_count": 12,
   "metadata": {},
   "outputs": [
    {
     "data": {
      "text/plain": "   sofifa_id                                         player_url  \\\n0     158023  https://sofifa.com/player/158023/lionel-messi/...   \n1      20801  https://sofifa.com/player/20801/c-ronaldo-dos-...   \n2     200389  https://sofifa.com/player/200389/jan-oblak/210002   \n3     188545  https://sofifa.com/player/188545/robert-lewand...   \n4     190871  https://sofifa.com/player/190871/neymar-da-sil...   \n\n          short_name                            long_name  age         dob  \\\n0           L. Messi       Lionel Andrés Messi Cuccittini   33  1987-06-24   \n1  Cristiano Ronaldo  Cristiano Ronaldo dos Santos Aveiro   35  1985-02-05   \n2           J. Oblak                            Jan Oblak   27  1993-01-07   \n3     R. Lewandowski                   Robert Lewandowski   31  1988-08-21   \n4          Neymar Jr        Neymar da Silva Santos Júnior   28  1992-02-05   \n\n   height_cm  weight_kg nationality            club_name  ...   lwb   ldm  \\\n0        170         72   Argentina         FC Barcelona  ...  66+3  65+3   \n1        187         83    Portugal             Juventus  ...  65+3  61+3   \n2        188         87    Slovenia      Atlético Madrid  ...  32+3  36+3   \n3        184         80      Poland    FC Bayern München  ...  64+3  65+3   \n4        175         68      Brazil  Paris Saint-Germain  ...  67+3  62+3   \n\n    cdm   rdm   rwb    lb   lcb    cb   rcb    rb  \n0  65+3  65+3  66+3  62+3  52+3  52+3  52+3  62+3  \n1  61+3  61+3  65+3  61+3  54+3  54+3  54+3  61+3  \n2  36+3  36+3  32+3  32+3  33+3  33+3  33+3  32+3  \n3  65+3  65+3  64+3  61+3  60+3  60+3  60+3  61+3  \n4  62+3  62+3  67+3  62+3  49+3  49+3  49+3  62+3  \n\n[5 rows x 106 columns]",
      "text/html": "<div>\n<style scoped>\n    .dataframe tbody tr th:only-of-type {\n        vertical-align: middle;\n    }\n\n    .dataframe tbody tr th {\n        vertical-align: top;\n    }\n\n    .dataframe thead th {\n        text-align: right;\n    }\n</style>\n<table border=\"1\" class=\"dataframe\">\n  <thead>\n    <tr style=\"text-align: right;\">\n      <th></th>\n      <th>sofifa_id</th>\n      <th>player_url</th>\n      <th>short_name</th>\n      <th>long_name</th>\n      <th>age</th>\n      <th>dob</th>\n      <th>height_cm</th>\n      <th>weight_kg</th>\n      <th>nationality</th>\n      <th>club_name</th>\n      <th>...</th>\n      <th>lwb</th>\n      <th>ldm</th>\n      <th>cdm</th>\n      <th>rdm</th>\n      <th>rwb</th>\n      <th>lb</th>\n      <th>lcb</th>\n      <th>cb</th>\n      <th>rcb</th>\n      <th>rb</th>\n    </tr>\n  </thead>\n  <tbody>\n    <tr>\n      <th>0</th>\n      <td>158023</td>\n      <td>https://sofifa.com/player/158023/lionel-messi/...</td>\n      <td>L. Messi</td>\n      <td>Lionel Andrés Messi Cuccittini</td>\n      <td>33</td>\n      <td>1987-06-24</td>\n      <td>170</td>\n      <td>72</td>\n      <td>Argentina</td>\n      <td>FC Barcelona</td>\n      <td>...</td>\n      <td>66+3</td>\n      <td>65+3</td>\n      <td>65+3</td>\n      <td>65+3</td>\n      <td>66+3</td>\n      <td>62+3</td>\n      <td>52+3</td>\n      <td>52+3</td>\n      <td>52+3</td>\n      <td>62+3</td>\n    </tr>\n    <tr>\n      <th>1</th>\n      <td>20801</td>\n      <td>https://sofifa.com/player/20801/c-ronaldo-dos-...</td>\n      <td>Cristiano Ronaldo</td>\n      <td>Cristiano Ronaldo dos Santos Aveiro</td>\n      <td>35</td>\n      <td>1985-02-05</td>\n      <td>187</td>\n      <td>83</td>\n      <td>Portugal</td>\n      <td>Juventus</td>\n      <td>...</td>\n      <td>65+3</td>\n      <td>61+3</td>\n      <td>61+3</td>\n      <td>61+3</td>\n      <td>65+3</td>\n      <td>61+3</td>\n      <td>54+3</td>\n      <td>54+3</td>\n      <td>54+3</td>\n      <td>61+3</td>\n    </tr>\n    <tr>\n      <th>2</th>\n      <td>200389</td>\n      <td>https://sofifa.com/player/200389/jan-oblak/210002</td>\n      <td>J. Oblak</td>\n      <td>Jan Oblak</td>\n      <td>27</td>\n      <td>1993-01-07</td>\n      <td>188</td>\n      <td>87</td>\n      <td>Slovenia</td>\n      <td>Atlético Madrid</td>\n      <td>...</td>\n      <td>32+3</td>\n      <td>36+3</td>\n      <td>36+3</td>\n      <td>36+3</td>\n      <td>32+3</td>\n      <td>32+3</td>\n      <td>33+3</td>\n      <td>33+3</td>\n      <td>33+3</td>\n      <td>32+3</td>\n    </tr>\n    <tr>\n      <th>3</th>\n      <td>188545</td>\n      <td>https://sofifa.com/player/188545/robert-lewand...</td>\n      <td>R. Lewandowski</td>\n      <td>Robert Lewandowski</td>\n      <td>31</td>\n      <td>1988-08-21</td>\n      <td>184</td>\n      <td>80</td>\n      <td>Poland</td>\n      <td>FC Bayern München</td>\n      <td>...</td>\n      <td>64+3</td>\n      <td>65+3</td>\n      <td>65+3</td>\n      <td>65+3</td>\n      <td>64+3</td>\n      <td>61+3</td>\n      <td>60+3</td>\n      <td>60+3</td>\n      <td>60+3</td>\n      <td>61+3</td>\n    </tr>\n    <tr>\n      <th>4</th>\n      <td>190871</td>\n      <td>https://sofifa.com/player/190871/neymar-da-sil...</td>\n      <td>Neymar Jr</td>\n      <td>Neymar da Silva Santos Júnior</td>\n      <td>28</td>\n      <td>1992-02-05</td>\n      <td>175</td>\n      <td>68</td>\n      <td>Brazil</td>\n      <td>Paris Saint-Germain</td>\n      <td>...</td>\n      <td>67+3</td>\n      <td>62+3</td>\n      <td>62+3</td>\n      <td>62+3</td>\n      <td>67+3</td>\n      <td>62+3</td>\n      <td>49+3</td>\n      <td>49+3</td>\n      <td>49+3</td>\n      <td>62+3</td>\n    </tr>\n  </tbody>\n</table>\n<p>5 rows × 106 columns</p>\n</div>"
     },
     "execution_count": 12,
     "metadata": {},
     "output_type": "execute_result"
    }
   ],
   "source": [
    "df1 = pd.read_csv(df.iloc[0].Path_to_table)\n",
    "df1.head()"
   ]
  },
  {
   "cell_type": "code",
   "execution_count": 13,
   "metadata": {},
   "outputs": [
    {
     "data": {
      "text/plain": "       ID             Name  Age  \\\n0  212198  Bruno Fernandes   26   \n1  209658      L. Goretzka   26   \n2  176580        L. Suárez   34   \n3  192985     K. De Bruyne   30   \n4  224334         M. Acuña   29   \n\n                                              Photo Nationality  \\\n0  https://cdn.sofifa.com/players/212/198/22_60.png    Portugal   \n1  https://cdn.sofifa.com/players/209/658/22_60.png     Germany   \n2  https://cdn.sofifa.com/players/176/580/22_60.png     Uruguay   \n3  https://cdn.sofifa.com/players/192/985/22_60.png     Belgium   \n4  https://cdn.sofifa.com/players/224/334/22_60.png   Argentina   \n\n                                  Flag  Overall  Potential  \\\n0  https://cdn.sofifa.com/flags/pt.png       88         89   \n1  https://cdn.sofifa.com/flags/de.png       87         88   \n2  https://cdn.sofifa.com/flags/uy.png       88         88   \n3  https://cdn.sofifa.com/flags/be.png       91         91   \n4  https://cdn.sofifa.com/flags/ar.png       84         84   \n\n                 Club                                Club Logo  ...  \\\n0   Manchester United   https://cdn.sofifa.com/teams/11/30.png  ...   \n1   FC Bayern München   https://cdn.sofifa.com/teams/21/30.png  ...   \n2  Atlético de Madrid  https://cdn.sofifa.com/teams/240/30.png  ...   \n3     Manchester City   https://cdn.sofifa.com/teams/10/30.png  ...   \n4          Sevilla FC  https://cdn.sofifa.com/teams/481/30.png  ...   \n\n  SlidingTackle GKDiving  GKHandling GKKicking  GKPositioning  GKReflexes  \\\n0          65.0     12.0        14.0      15.0            8.0        14.0   \n1          77.0     13.0         8.0      15.0           11.0         9.0   \n2          38.0     27.0        25.0      31.0           33.0        37.0   \n3          53.0     15.0        13.0       5.0           10.0        13.0   \n4          82.0      8.0        14.0      13.0           13.0        14.0   \n\n   Best Position Best Overall Rating Release Clause DefensiveAwareness  \n0            CAM                88.0        €206.9M               72.0  \n1             CM                87.0        €160.4M               74.0  \n2             ST                88.0         €91.2M               42.0  \n3             CM                91.0        €232.2M               68.0  \n4             LB                84.0         €77.7M               80.0  \n\n[5 rows x 65 columns]",
      "text/html": "<div>\n<style scoped>\n    .dataframe tbody tr th:only-of-type {\n        vertical-align: middle;\n    }\n\n    .dataframe tbody tr th {\n        vertical-align: top;\n    }\n\n    .dataframe thead th {\n        text-align: right;\n    }\n</style>\n<table border=\"1\" class=\"dataframe\">\n  <thead>\n    <tr style=\"text-align: right;\">\n      <th></th>\n      <th>ID</th>\n      <th>Name</th>\n      <th>Age</th>\n      <th>Photo</th>\n      <th>Nationality</th>\n      <th>Flag</th>\n      <th>Overall</th>\n      <th>Potential</th>\n      <th>Club</th>\n      <th>Club Logo</th>\n      <th>...</th>\n      <th>SlidingTackle</th>\n      <th>GKDiving</th>\n      <th>GKHandling</th>\n      <th>GKKicking</th>\n      <th>GKPositioning</th>\n      <th>GKReflexes</th>\n      <th>Best Position</th>\n      <th>Best Overall Rating</th>\n      <th>Release Clause</th>\n      <th>DefensiveAwareness</th>\n    </tr>\n  </thead>\n  <tbody>\n    <tr>\n      <th>0</th>\n      <td>212198</td>\n      <td>Bruno Fernandes</td>\n      <td>26</td>\n      <td>https://cdn.sofifa.com/players/212/198/22_60.png</td>\n      <td>Portugal</td>\n      <td>https://cdn.sofifa.com/flags/pt.png</td>\n      <td>88</td>\n      <td>89</td>\n      <td>Manchester United</td>\n      <td>https://cdn.sofifa.com/teams/11/30.png</td>\n      <td>...</td>\n      <td>65.0</td>\n      <td>12.0</td>\n      <td>14.0</td>\n      <td>15.0</td>\n      <td>8.0</td>\n      <td>14.0</td>\n      <td>CAM</td>\n      <td>88.0</td>\n      <td>€206.9M</td>\n      <td>72.0</td>\n    </tr>\n    <tr>\n      <th>1</th>\n      <td>209658</td>\n      <td>L. Goretzka</td>\n      <td>26</td>\n      <td>https://cdn.sofifa.com/players/209/658/22_60.png</td>\n      <td>Germany</td>\n      <td>https://cdn.sofifa.com/flags/de.png</td>\n      <td>87</td>\n      <td>88</td>\n      <td>FC Bayern München</td>\n      <td>https://cdn.sofifa.com/teams/21/30.png</td>\n      <td>...</td>\n      <td>77.0</td>\n      <td>13.0</td>\n      <td>8.0</td>\n      <td>15.0</td>\n      <td>11.0</td>\n      <td>9.0</td>\n      <td>CM</td>\n      <td>87.0</td>\n      <td>€160.4M</td>\n      <td>74.0</td>\n    </tr>\n    <tr>\n      <th>2</th>\n      <td>176580</td>\n      <td>L. Suárez</td>\n      <td>34</td>\n      <td>https://cdn.sofifa.com/players/176/580/22_60.png</td>\n      <td>Uruguay</td>\n      <td>https://cdn.sofifa.com/flags/uy.png</td>\n      <td>88</td>\n      <td>88</td>\n      <td>Atlético de Madrid</td>\n      <td>https://cdn.sofifa.com/teams/240/30.png</td>\n      <td>...</td>\n      <td>38.0</td>\n      <td>27.0</td>\n      <td>25.0</td>\n      <td>31.0</td>\n      <td>33.0</td>\n      <td>37.0</td>\n      <td>ST</td>\n      <td>88.0</td>\n      <td>€91.2M</td>\n      <td>42.0</td>\n    </tr>\n    <tr>\n      <th>3</th>\n      <td>192985</td>\n      <td>K. De Bruyne</td>\n      <td>30</td>\n      <td>https://cdn.sofifa.com/players/192/985/22_60.png</td>\n      <td>Belgium</td>\n      <td>https://cdn.sofifa.com/flags/be.png</td>\n      <td>91</td>\n      <td>91</td>\n      <td>Manchester City</td>\n      <td>https://cdn.sofifa.com/teams/10/30.png</td>\n      <td>...</td>\n      <td>53.0</td>\n      <td>15.0</td>\n      <td>13.0</td>\n      <td>5.0</td>\n      <td>10.0</td>\n      <td>13.0</td>\n      <td>CM</td>\n      <td>91.0</td>\n      <td>€232.2M</td>\n      <td>68.0</td>\n    </tr>\n    <tr>\n      <th>4</th>\n      <td>224334</td>\n      <td>M. Acuña</td>\n      <td>29</td>\n      <td>https://cdn.sofifa.com/players/224/334/22_60.png</td>\n      <td>Argentina</td>\n      <td>https://cdn.sofifa.com/flags/ar.png</td>\n      <td>84</td>\n      <td>84</td>\n      <td>Sevilla FC</td>\n      <td>https://cdn.sofifa.com/teams/481/30.png</td>\n      <td>...</td>\n      <td>82.0</td>\n      <td>8.0</td>\n      <td>14.0</td>\n      <td>13.0</td>\n      <td>13.0</td>\n      <td>14.0</td>\n      <td>LB</td>\n      <td>84.0</td>\n      <td>€77.7M</td>\n      <td>80.0</td>\n    </tr>\n  </tbody>\n</table>\n<p>5 rows × 65 columns</p>\n</div>"
     },
     "execution_count": 13,
     "metadata": {},
     "output_type": "execute_result"
    }
   ],
   "source": [
    "df2 = pd.read_csv(recommendations.iloc[1].Path_to_table)\n",
    "df2.head()"
   ]
  },
  {
   "cell_type": "code",
   "execution_count": 14,
   "metadata": {
    "pycharm": {
     "name": "#%%\n"
    }
   },
   "outputs": [
    {
     "data": {
      "text/plain": "   sofifa_id                                         player_url  \\\n0     158023  https://sofifa.com/player/158023/lionel-messi/...   \n1      20801  https://sofifa.com/player/20801/c-ronaldo-dos-...   \n2     200389  https://sofifa.com/player/200389/jan-oblak/210002   \n3     188545  https://sofifa.com/player/188545/robert-lewand...   \n4     190871  https://sofifa.com/player/190871/neymar-da-sil...   \n\n          short_name                            long_name  age         dob  \\\n0           L. Messi       Lionel Andrés Messi Cuccittini   33  1987-06-24   \n1  Cristiano Ronaldo  Cristiano Ronaldo dos Santos Aveiro   35  1985-02-05   \n2           J. Oblak                            Jan Oblak   27  1993-01-07   \n3     R. Lewandowski                   Robert Lewandowski   31  1988-08-21   \n4          Neymar Jr        Neymar da Silva Santos Júnior   28  1992-02-05   \n\n   height_cm  weight_kg nationality            club_name  ... SlidingTackle  \\\n0        170         72   Argentina         FC Barcelona  ...          24.0   \n1        187         83    Portugal             Juventus  ...          24.0   \n2        188         87    Slovenia      Atlético Madrid  ...          18.0   \n3        184         80      Poland    FC Bayern München  ...          19.0   \n4        175         68      Brazil  Paris Saint-Germain  ...          29.0   \n\n   GKDiving  GKHandling  GKKicking  GKPositioning  GKReflexes Best Position  \\\n0       6.0        11.0       15.0           14.0         8.0            RW   \n1       7.0        11.0       15.0           14.0        11.0            ST   \n2      87.0        92.0       78.0           90.0        90.0            GK   \n3      15.0         6.0       12.0            8.0        10.0            ST   \n4       9.0         9.0       15.0           15.0        11.0            LW   \n\n  Best Overall Rating  Release Clause  DefensiveAwareness  \n0                93.0         €144.3M                20.0  \n1                91.0          €83.3M                24.0  \n2                91.0           €238M                27.0  \n3                92.0         €197.2M                35.0  \n4                91.0         €238.7M                35.0  \n\n[5 rows x 171 columns]",
      "text/html": "<div>\n<style scoped>\n    .dataframe tbody tr th:only-of-type {\n        vertical-align: middle;\n    }\n\n    .dataframe tbody tr th {\n        vertical-align: top;\n    }\n\n    .dataframe thead th {\n        text-align: right;\n    }\n</style>\n<table border=\"1\" class=\"dataframe\">\n  <thead>\n    <tr style=\"text-align: right;\">\n      <th></th>\n      <th>sofifa_id</th>\n      <th>player_url</th>\n      <th>short_name</th>\n      <th>long_name</th>\n      <th>age</th>\n      <th>dob</th>\n      <th>height_cm</th>\n      <th>weight_kg</th>\n      <th>nationality</th>\n      <th>club_name</th>\n      <th>...</th>\n      <th>SlidingTackle</th>\n      <th>GKDiving</th>\n      <th>GKHandling</th>\n      <th>GKKicking</th>\n      <th>GKPositioning</th>\n      <th>GKReflexes</th>\n      <th>Best Position</th>\n      <th>Best Overall Rating</th>\n      <th>Release Clause</th>\n      <th>DefensiveAwareness</th>\n    </tr>\n  </thead>\n  <tbody>\n    <tr>\n      <th>0</th>\n      <td>158023</td>\n      <td>https://sofifa.com/player/158023/lionel-messi/...</td>\n      <td>L. Messi</td>\n      <td>Lionel Andrés Messi Cuccittini</td>\n      <td>33</td>\n      <td>1987-06-24</td>\n      <td>170</td>\n      <td>72</td>\n      <td>Argentina</td>\n      <td>FC Barcelona</td>\n      <td>...</td>\n      <td>24.0</td>\n      <td>6.0</td>\n      <td>11.0</td>\n      <td>15.0</td>\n      <td>14.0</td>\n      <td>8.0</td>\n      <td>RW</td>\n      <td>93.0</td>\n      <td>€144.3M</td>\n      <td>20.0</td>\n    </tr>\n    <tr>\n      <th>1</th>\n      <td>20801</td>\n      <td>https://sofifa.com/player/20801/c-ronaldo-dos-...</td>\n      <td>Cristiano Ronaldo</td>\n      <td>Cristiano Ronaldo dos Santos Aveiro</td>\n      <td>35</td>\n      <td>1985-02-05</td>\n      <td>187</td>\n      <td>83</td>\n      <td>Portugal</td>\n      <td>Juventus</td>\n      <td>...</td>\n      <td>24.0</td>\n      <td>7.0</td>\n      <td>11.0</td>\n      <td>15.0</td>\n      <td>14.0</td>\n      <td>11.0</td>\n      <td>ST</td>\n      <td>91.0</td>\n      <td>€83.3M</td>\n      <td>24.0</td>\n    </tr>\n    <tr>\n      <th>2</th>\n      <td>200389</td>\n      <td>https://sofifa.com/player/200389/jan-oblak/210002</td>\n      <td>J. Oblak</td>\n      <td>Jan Oblak</td>\n      <td>27</td>\n      <td>1993-01-07</td>\n      <td>188</td>\n      <td>87</td>\n      <td>Slovenia</td>\n      <td>Atlético Madrid</td>\n      <td>...</td>\n      <td>18.0</td>\n      <td>87.0</td>\n      <td>92.0</td>\n      <td>78.0</td>\n      <td>90.0</td>\n      <td>90.0</td>\n      <td>GK</td>\n      <td>91.0</td>\n      <td>€238M</td>\n      <td>27.0</td>\n    </tr>\n    <tr>\n      <th>3</th>\n      <td>188545</td>\n      <td>https://sofifa.com/player/188545/robert-lewand...</td>\n      <td>R. Lewandowski</td>\n      <td>Robert Lewandowski</td>\n      <td>31</td>\n      <td>1988-08-21</td>\n      <td>184</td>\n      <td>80</td>\n      <td>Poland</td>\n      <td>FC Bayern München</td>\n      <td>...</td>\n      <td>19.0</td>\n      <td>15.0</td>\n      <td>6.0</td>\n      <td>12.0</td>\n      <td>8.0</td>\n      <td>10.0</td>\n      <td>ST</td>\n      <td>92.0</td>\n      <td>€197.2M</td>\n      <td>35.0</td>\n    </tr>\n    <tr>\n      <th>4</th>\n      <td>190871</td>\n      <td>https://sofifa.com/player/190871/neymar-da-sil...</td>\n      <td>Neymar Jr</td>\n      <td>Neymar da Silva Santos Júnior</td>\n      <td>28</td>\n      <td>1992-02-05</td>\n      <td>175</td>\n      <td>68</td>\n      <td>Brazil</td>\n      <td>Paris Saint-Germain</td>\n      <td>...</td>\n      <td>29.0</td>\n      <td>9.0</td>\n      <td>9.0</td>\n      <td>15.0</td>\n      <td>15.0</td>\n      <td>11.0</td>\n      <td>LW</td>\n      <td>91.0</td>\n      <td>€238.7M</td>\n      <td>35.0</td>\n    </tr>\n  </tbody>\n</table>\n<p>5 rows × 171 columns</p>\n</div>"
     },
     "execution_count": 14,
     "metadata": {},
     "output_type": "execute_result"
    }
   ],
   "source": [
    "result = df1.merge(df2, left_on='sofifa_id', right_on='ID')\n",
    "result.head()"
   ]
  }
 ],
 "metadata": {
  "kernelspec": {
   "display_name": "Python 3 (ipykernel)",
   "language": "python",
   "name": "python3"
  },
  "language_info": {
   "codemirror_mode": {
    "name": "ipython",
    "version": 3
   },
   "file_extension": ".py",
   "mimetype": "text/x-python",
   "name": "python",
   "nbconvert_exporter": "python",
   "pygments_lexer": "ipython3",
   "version": "3.8.12"
  }
 },
 "nbformat": 4,
 "nbformat_minor": 1
}