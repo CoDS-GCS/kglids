{
 "cells": [
  {
   "cell_type": "markdown",
   "metadata": {},
   "source": [
    "# <b>KGLiDS APIs </b>"
   ]
  },
  {
   "cell_type": "code",
   "execution_count": 16,
   "metadata": {
    "pycharm": {
     "name": "#%%\n"
    }
   },
   "outputs": [
    {
     "name": "stdout",
     "output_type": "stream",
     "text": [
      "Connected to http://localhost:7777/blazegraph/namespace/kglids_smallerReal/sparql\n"
     ]
    }
   ],
   "source": [
    "from api.api import KGLiDS\n",
    "kglids = KGLiDS()"
   ]
  },
  {
   "cell_type": "code",
   "execution_count": 17,
   "metadata": {
    "pycharm": {
     "name": "#%%\n"
    }
   },
   "outputs": [
    {
     "data": {
      "text/plain": "  Total_datasets Total_tables Total_columns     Total_pipelines\n0              1          654          8773  Not yet supported!",
      "text/html": "<div>\n<style scoped>\n    .dataframe tbody tr th:only-of-type {\n        vertical-align: middle;\n    }\n\n    .dataframe tbody tr th {\n        vertical-align: top;\n    }\n\n    .dataframe thead th {\n        text-align: right;\n    }\n</style>\n<table border=\"1\" class=\"dataframe\">\n  <thead>\n    <tr style=\"text-align: right;\">\n      <th></th>\n      <th>Total_datasets</th>\n      <th>Total_tables</th>\n      <th>Total_columns</th>\n      <th>Total_pipelines</th>\n    </tr>\n  </thead>\n  <tbody>\n    <tr>\n      <th>0</th>\n      <td>1</td>\n      <td>654</td>\n      <td>8773</td>\n      <td>Not yet supported!</td>\n    </tr>\n  </tbody>\n</table>\n</div>"
     },
     "execution_count": 17,
     "metadata": {},
     "output_type": "execute_result"
    }
   ],
   "source": [
    "kglids.show_graph_info()"
   ]
  },
  {
   "cell_type": "code",
   "execution_count": 18,
   "metadata": {
    "pycharm": {
     "name": "#%%\n"
    }
   },
   "outputs": [
    {
     "data": {
      "text/plain": "       Dataset\n0  smallerReal",
      "text/html": "<div>\n<style scoped>\n    .dataframe tbody tr th:only-of-type {\n        vertical-align: middle;\n    }\n\n    .dataframe tbody tr th {\n        vertical-align: top;\n    }\n\n    .dataframe thead th {\n        text-align: right;\n    }\n</style>\n<table border=\"1\" class=\"dataframe\">\n  <thead>\n    <tr style=\"text-align: right;\">\n      <th></th>\n      <th>Dataset</th>\n    </tr>\n  </thead>\n  <tbody>\n    <tr>\n      <th>0</th>\n      <td>smallerReal</td>\n    </tr>\n  </tbody>\n</table>\n</div>"
     },
     "execution_count": 18,
     "metadata": {},
     "output_type": "execute_result"
    }
   ],
   "source": [
    "kglids.get_datasets()"
   ]
  },
  {
   "cell_type": "code",
   "execution_count": 19,
   "metadata": {},
   "outputs": [
    {
     "data": {
      "text/plain": "           Table      Dataset  \\\n0    o0pmMqg.csv  smallerReal   \n1    O2uuNHe.csv  smallerReal   \n2    o8xzh6Q.csv  smallerReal   \n3    ocwTimc.csv  smallerReal   \n4    oet7Hp4.csv  smallerReal   \n..           ...          ...   \n649  DltVhFq.csv  smallerReal   \n650  dmA8uFL.csv  smallerReal   \n651  dTlixDo.csv  smallerReal   \n652  dvVV9xc.csv  smallerReal   \n653  dWL8dXp.csv  smallerReal   \n\n                                         Path_to_table  \n0    /home/mossad/projects/kglids/storage/sources/e...  \n1    /home/mossad/projects/kglids/storage/sources/e...  \n2    /home/mossad/projects/kglids/storage/sources/e...  \n3    /home/mossad/projects/kglids/storage/sources/e...  \n4    /home/mossad/projects/kglids/storage/sources/e...  \n..                                                 ...  \n649  /home/mossad/projects/kglids/storage/sources/e...  \n650  /home/mossad/projects/kglids/storage/sources/e...  \n651  /home/mossad/projects/kglids/storage/sources/e...  \n652  /home/mossad/projects/kglids/storage/sources/e...  \n653  /home/mossad/projects/kglids/storage/sources/e...  \n\n[654 rows x 3 columns]",
      "text/html": "<div>\n<style scoped>\n    .dataframe tbody tr th:only-of-type {\n        vertical-align: middle;\n    }\n\n    .dataframe tbody tr th {\n        vertical-align: top;\n    }\n\n    .dataframe thead th {\n        text-align: right;\n    }\n</style>\n<table border=\"1\" class=\"dataframe\">\n  <thead>\n    <tr style=\"text-align: right;\">\n      <th></th>\n      <th>Table</th>\n      <th>Dataset</th>\n      <th>Path_to_table</th>\n    </tr>\n  </thead>\n  <tbody>\n    <tr>\n      <th>0</th>\n      <td>o0pmMqg.csv</td>\n      <td>smallerReal</td>\n      <td>/home/mossad/projects/kglids/storage/sources/e...</td>\n    </tr>\n    <tr>\n      <th>1</th>\n      <td>O2uuNHe.csv</td>\n      <td>smallerReal</td>\n      <td>/home/mossad/projects/kglids/storage/sources/e...</td>\n    </tr>\n    <tr>\n      <th>2</th>\n      <td>o8xzh6Q.csv</td>\n      <td>smallerReal</td>\n      <td>/home/mossad/projects/kglids/storage/sources/e...</td>\n    </tr>\n    <tr>\n      <th>3</th>\n      <td>ocwTimc.csv</td>\n      <td>smallerReal</td>\n      <td>/home/mossad/projects/kglids/storage/sources/e...</td>\n    </tr>\n    <tr>\n      <th>4</th>\n      <td>oet7Hp4.csv</td>\n      <td>smallerReal</td>\n      <td>/home/mossad/projects/kglids/storage/sources/e...</td>\n    </tr>\n    <tr>\n      <th>...</th>\n      <td>...</td>\n      <td>...</td>\n      <td>...</td>\n    </tr>\n    <tr>\n      <th>649</th>\n      <td>DltVhFq.csv</td>\n      <td>smallerReal</td>\n      <td>/home/mossad/projects/kglids/storage/sources/e...</td>\n    </tr>\n    <tr>\n      <th>650</th>\n      <td>dmA8uFL.csv</td>\n      <td>smallerReal</td>\n      <td>/home/mossad/projects/kglids/storage/sources/e...</td>\n    </tr>\n    <tr>\n      <th>651</th>\n      <td>dTlixDo.csv</td>\n      <td>smallerReal</td>\n      <td>/home/mossad/projects/kglids/storage/sources/e...</td>\n    </tr>\n    <tr>\n      <th>652</th>\n      <td>dvVV9xc.csv</td>\n      <td>smallerReal</td>\n      <td>/home/mossad/projects/kglids/storage/sources/e...</td>\n    </tr>\n    <tr>\n      <th>653</th>\n      <td>dWL8dXp.csv</td>\n      <td>smallerReal</td>\n      <td>/home/mossad/projects/kglids/storage/sources/e...</td>\n    </tr>\n  </tbody>\n</table>\n<p>654 rows × 3 columns</p>\n</div>"
     },
     "execution_count": 19,
     "metadata": {},
     "output_type": "execute_result"
    }
   ],
   "source": [
    "kglids.get_tables(dataset='smallerReal')"
   ]
  },
  {
   "cell_type": "code",
   "execution_count": 20,
   "metadata": {},
   "outputs": [
    {
     "data": {
      "text/plain": "           Table      Dataset  Number_of_columns  Number_of_rows  \\\n0    0NzYjqf.csv  smallerReal               14.0        298220.0   \n1    nIo3dkf.csv  smallerReal               15.0         27270.0   \n2    UkZ0NoM.csv  smallerReal               15.0         26594.0   \n3    eWYrl2R.csv  smallerReal               15.0         26486.0   \n4    AzuTcNG.csv  smallerReal               15.0         24846.0   \n..           ...          ...                ...             ...   \n303  oDA1nyg.csv  smallerReal               18.0            25.0   \n304  BeIQ68u.csv  smallerReal               18.0            25.0   \n305  9vtlhyr.csv  smallerReal               18.0            25.0   \n306  4gw4NJB.csv  smallerReal               18.0            25.0   \n307  gKsuq9r.csv  smallerReal               18.0            24.0   \n\n                                         Path_to_table  \n0    /home/mossad/projects/kglids/storage/sources/e...  \n1    /home/mossad/projects/kglids/storage/sources/e...  \n2    /home/mossad/projects/kglids/storage/sources/e...  \n3    /home/mossad/projects/kglids/storage/sources/e...  \n4    /home/mossad/projects/kglids/storage/sources/e...  \n..                                                 ...  \n303  /home/mossad/projects/kglids/storage/sources/e...  \n304  /home/mossad/projects/kglids/storage/sources/e...  \n305  /home/mossad/projects/kglids/storage/sources/e...  \n306  /home/mossad/projects/kglids/storage/sources/e...  \n307  /home/mossad/projects/kglids/storage/sources/e...  \n\n[308 rows x 5 columns]",
      "text/html": "<div>\n<style scoped>\n    .dataframe tbody tr th:only-of-type {\n        vertical-align: middle;\n    }\n\n    .dataframe tbody tr th {\n        vertical-align: top;\n    }\n\n    .dataframe thead th {\n        text-align: right;\n    }\n</style>\n<table border=\"1\" class=\"dataframe\">\n  <thead>\n    <tr style=\"text-align: right;\">\n      <th></th>\n      <th>Table</th>\n      <th>Dataset</th>\n      <th>Number_of_columns</th>\n      <th>Number_of_rows</th>\n      <th>Path_to_table</th>\n    </tr>\n  </thead>\n  <tbody>\n    <tr>\n      <th>0</th>\n      <td>0NzYjqf.csv</td>\n      <td>smallerReal</td>\n      <td>14.0</td>\n      <td>298220.0</td>\n      <td>/home/mossad/projects/kglids/storage/sources/e...</td>\n    </tr>\n    <tr>\n      <th>1</th>\n      <td>nIo3dkf.csv</td>\n      <td>smallerReal</td>\n      <td>15.0</td>\n      <td>27270.0</td>\n      <td>/home/mossad/projects/kglids/storage/sources/e...</td>\n    </tr>\n    <tr>\n      <th>2</th>\n      <td>UkZ0NoM.csv</td>\n      <td>smallerReal</td>\n      <td>15.0</td>\n      <td>26594.0</td>\n      <td>/home/mossad/projects/kglids/storage/sources/e...</td>\n    </tr>\n    <tr>\n      <th>3</th>\n      <td>eWYrl2R.csv</td>\n      <td>smallerReal</td>\n      <td>15.0</td>\n      <td>26486.0</td>\n      <td>/home/mossad/projects/kglids/storage/sources/e...</td>\n    </tr>\n    <tr>\n      <th>4</th>\n      <td>AzuTcNG.csv</td>\n      <td>smallerReal</td>\n      <td>15.0</td>\n      <td>24846.0</td>\n      <td>/home/mossad/projects/kglids/storage/sources/e...</td>\n    </tr>\n    <tr>\n      <th>...</th>\n      <td>...</td>\n      <td>...</td>\n      <td>...</td>\n      <td>...</td>\n      <td>...</td>\n    </tr>\n    <tr>\n      <th>303</th>\n      <td>oDA1nyg.csv</td>\n      <td>smallerReal</td>\n      <td>18.0</td>\n      <td>25.0</td>\n      <td>/home/mossad/projects/kglids/storage/sources/e...</td>\n    </tr>\n    <tr>\n      <th>304</th>\n      <td>BeIQ68u.csv</td>\n      <td>smallerReal</td>\n      <td>18.0</td>\n      <td>25.0</td>\n      <td>/home/mossad/projects/kglids/storage/sources/e...</td>\n    </tr>\n    <tr>\n      <th>305</th>\n      <td>9vtlhyr.csv</td>\n      <td>smallerReal</td>\n      <td>18.0</td>\n      <td>25.0</td>\n      <td>/home/mossad/projects/kglids/storage/sources/e...</td>\n    </tr>\n    <tr>\n      <th>306</th>\n      <td>4gw4NJB.csv</td>\n      <td>smallerReal</td>\n      <td>18.0</td>\n      <td>25.0</td>\n      <td>/home/mossad/projects/kglids/storage/sources/e...</td>\n    </tr>\n    <tr>\n      <th>307</th>\n      <td>gKsuq9r.csv</td>\n      <td>smallerReal</td>\n      <td>18.0</td>\n      <td>24.0</td>\n      <td>/home/mossad/projects/kglids/storage/sources/e...</td>\n    </tr>\n  </tbody>\n</table>\n<p>308 rows × 5 columns</p>\n</div>"
     },
     "execution_count": 20,
     "metadata": {},
     "output_type": "execute_result"
    }
   ],
   "source": [
    "kglids.search_tables_on(conditions=[['salary', 'pay']])"
   ]
  },
  {
   "cell_type": "code",
   "execution_count": 21,
   "metadata": {
    "pycharm": {
     "name": "#%%\n"
    }
   },
   "outputs": [
    {
     "name": "stdout",
     "output_type": "stream",
     "text": [
      "Showing the top 5 table recommendations!\n"
     ]
    },
    {
     "data": {
      "text/plain": "  Recommended_table\n0       4gw4NJB.csv\n1       D1c7etm.csv\n2       oDA1nyg.csv\n3       Y5ekWU2.csv\n4       BeIQ68u.csv",
      "text/html": "<div>\n<style scoped>\n    .dataframe tbody tr th:only-of-type {\n        vertical-align: middle;\n    }\n\n    .dataframe tbody tr th {\n        vertical-align: top;\n    }\n\n    .dataframe thead th {\n        text-align: right;\n    }\n</style>\n<table border=\"1\" class=\"dataframe\">\n  <thead>\n    <tr style=\"text-align: right;\">\n      <th></th>\n      <th>Recommended_table</th>\n    </tr>\n  </thead>\n  <tbody>\n    <tr>\n      <th>0</th>\n      <td>4gw4NJB.csv</td>\n    </tr>\n    <tr>\n      <th>1</th>\n      <td>D1c7etm.csv</td>\n    </tr>\n    <tr>\n      <th>2</th>\n      <td>oDA1nyg.csv</td>\n    </tr>\n    <tr>\n      <th>3</th>\n      <td>Y5ekWU2.csv</td>\n    </tr>\n    <tr>\n      <th>4</th>\n      <td>BeIQ68u.csv</td>\n    </tr>\n  </tbody>\n</table>\n</div>"
     },
     "execution_count": 21,
     "metadata": {},
     "output_type": "execute_result"
    }
   ],
   "source": [
    "recommendations = kglids.recommend_k_tables(table='gKsuq9r.csv')\n",
    "recommendations"
   ]
  },
  {
   "cell_type": "code",
   "execution_count": 22,
   "metadata": {},
   "outputs": [
    {
     "data": {
      "text/plain": "<graphviz.dot.Digraph at 0x7f98e9a1b700>",
      "image/svg+xml": "<?xml version=\"1.0\" encoding=\"UTF-8\" standalone=\"no\"?>\n<!DOCTYPE svg PUBLIC \"-//W3C//DTD SVG 1.1//EN\"\n \"http://www.w3.org/Graphics/SVG/1.1/DTD/svg11.dtd\">\n<!-- Generated by graphviz version 2.50.0 (20211204.2007)\n -->\n<!-- Pages: 1 -->\n<svg width=\"371pt\" height=\"349pt\"\n viewBox=\"0.00 0.00 371.00 349.00\" xmlns=\"http://www.w3.org/2000/svg\" xmlns:xlink=\"http://www.w3.org/1999/xlink\">\n<g id=\"graph0\" class=\"graph\" transform=\"scale(1 1) rotate(0) translate(4 345)\">\n<polygon fill=\"white\" stroke=\"transparent\" points=\"-4,4 -4,-345 367,-345 367,4 -4,4\"/>\n<text text-anchor=\"middle\" x=\"181.5\" y=\"-7.8\" font-family=\"Times,serif\" font-size=\"14.00\">Paths between starting nodes in blue and target nodes in orange</text>\n<!-- 471403312 -->\n<g id=\"node1\" class=\"node\">\n<title>471403312</title>\n<ellipse fill=\"#b2dfee\" stroke=\"black\" cx=\"136\" cy=\"-323\" rx=\"92.08\" ry=\"18\"/>\n<text text-anchor=\"middle\" x=\"136\" y=\"-319.3\" font-family=\"Times,serif\" font-size=\"14.00\">Post Unique Reference</text>\n</g>\n<!-- 3943774365 -->\n<g id=\"node2\" class=\"node\">\n<title>3943774365</title>\n<ellipse fill=\"#b2dfee\" stroke=\"black\" cx=\"108\" cy=\"-182\" rx=\"54.69\" ry=\"18\"/>\n<text text-anchor=\"middle\" x=\"108\" y=\"-178.3\" font-family=\"Times,serif\" font-size=\"14.00\">gKsuq9r.csv</text>\n</g>\n<!-- 471403312&#45;&gt;3943774365 -->\n<g id=\"edge1\" class=\"edge\">\n<title>471403312&#45;&gt;3943774365</title>\n<path fill=\"none\" stroke=\"black\" d=\"M132.57,-304.96C127.8,-281.3 119.13,-238.26 113.47,-210.15\"/>\n<polygon fill=\"black\" stroke=\"black\" points=\"116.87,-209.3 111.46,-200.18 110.01,-210.68 116.87,-209.3\"/>\n<text text-anchor=\"middle\" x=\"147\" y=\"-275.8\" font-family=\"Times,serif\" font-size=\"14.00\">partOf</text>\n</g>\n<!-- 3762863511 -->\n<g id=\"node4\" class=\"node\">\n<title>3762863511</title>\n<ellipse fill=\"#cd6600\" stroke=\"black\" cx=\"227\" cy=\"-236\" rx=\"92.08\" ry=\"18\"/>\n<text text-anchor=\"middle\" x=\"227\" y=\"-232.3\" font-family=\"Times,serif\" font-size=\"14.00\">Post Unique Reference</text>\n</g>\n<!-- 471403312&#45;&gt;3762863511 -->\n<g id=\"edge5\" class=\"edge\">\n<title>471403312&#45;&gt;3762863511</title>\n<path fill=\"none\" stroke=\"black\" d=\"M153.98,-305.21C169.93,-290.31 193.12,-268.65 209.06,-253.76\"/>\n<text text-anchor=\"middle\" x=\"206.5\" y=\"-275.8\" font-family=\"Times,serif\" font-size=\"14.00\">similar</text>\n</g>\n<!-- 1690671213 -->\n<g id=\"node3\" class=\"node\">\n<title>1690671213</title>\n<ellipse fill=\"#b2dfee\" stroke=\"black\" cx=\"127\" cy=\"-41\" rx=\"53.09\" ry=\"18\"/>\n<text text-anchor=\"middle\" x=\"127\" y=\"-37.3\" font-family=\"Times,serif\" font-size=\"14.00\">smallerReal</text>\n</g>\n<!-- 3943774365&#45;&gt;1690671213 -->\n<g id=\"edge2\" class=\"edge\">\n<title>3943774365&#45;&gt;1690671213</title>\n<path fill=\"none\" stroke=\"black\" d=\"M110.33,-163.96C113.56,-140.3 119.45,-97.26 123.29,-69.15\"/>\n<polygon fill=\"black\" stroke=\"black\" points=\"126.76,-69.57 124.65,-59.18 119.83,-68.62 126.76,-69.57\"/>\n<text text-anchor=\"middle\" x=\"136\" y=\"-124.3\" font-family=\"Times,serif\" font-size=\"14.00\">partOf</text>\n</g>\n<!-- 2504778187 -->\n<g id=\"node5\" class=\"node\">\n<title>2504778187</title>\n<ellipse fill=\"#cd6600\" stroke=\"black\" cx=\"226\" cy=\"-128\" rx=\"59.59\" ry=\"18\"/>\n<text text-anchor=\"middle\" x=\"226\" y=\"-124.3\" font-family=\"Times,serif\" font-size=\"14.00\">4gw4NJB.csv</text>\n</g>\n<!-- 3762863511&#45;&gt;2504778187 -->\n<g id=\"edge3\" class=\"edge\">\n<title>3762863511&#45;&gt;2504778187</title>\n<path fill=\"none\" stroke=\"black\" d=\"M226.84,-217.97C226.68,-201.38 226.44,-175.88 226.26,-156.43\"/>\n<polygon fill=\"black\" stroke=\"black\" points=\"229.76,-156.31 226.16,-146.34 222.76,-156.37 229.76,-156.31\"/>\n<text text-anchor=\"middle\" x=\"244\" y=\"-178.3\" font-family=\"Times,serif\" font-size=\"14.00\">partOf</text>\n</g>\n<!-- 2504778187&#45;&gt;1690671213 -->\n<g id=\"edge4\" class=\"edge\">\n<title>2504778187&#45;&gt;1690671213</title>\n<path fill=\"none\" stroke=\"black\" d=\"M206.91,-110.61C191.75,-97.59 170.37,-79.24 153.54,-64.79\"/>\n<polygon fill=\"black\" stroke=\"black\" points=\"155.56,-61.91 145.69,-58.05 151,-67.22 155.56,-61.91\"/>\n<text text-anchor=\"middle\" x=\"201\" y=\"-80.8\" font-family=\"Times,serif\" font-size=\"14.00\">partOf</text>\n</g>\n</g>\n</svg>\n"
     },
     "execution_count": 22,
     "metadata": {},
     "output_type": "execute_result"
    }
   ],
   "source": [
    "table1 = kglids.get_table_info(dataset='smallerReal', table='gKsuq9r.csv')\n",
    "table2 = kglids.get_table_info(dataset='smallerReal', table='4gw4NJB.csv')\n",
    "\n",
    "kglids.get_path_between_tables(table1.squeeze(), table2.squeeze(), hops=1,\n",
    "                              show_query=False)"
   ]
  },
  {
   "cell_type": "code",
   "execution_count": null,
   "metadata": {},
   "outputs": [],
   "source": []
  },
  {
   "cell_type": "code",
   "execution_count": null,
   "metadata": {},
   "outputs": [],
   "source": []
  }
 ],
 "metadata": {
  "kernelspec": {
   "display_name": "Python 3 (ipykernel)",
   "language": "python",
   "name": "python3"
  },
  "language_info": {
   "codemirror_mode": {
    "name": "ipython",
    "version": 3
   },
   "file_extension": ".py",
   "mimetype": "text/x-python",
   "name": "python",
   "nbconvert_exporter": "python",
   "pygments_lexer": "ipython3",
   "version": "3.8.12"
  }
 },
 "nbformat": 4,
 "nbformat_minor": 1
}