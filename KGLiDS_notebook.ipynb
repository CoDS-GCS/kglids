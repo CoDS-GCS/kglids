{
 "cells": [
  {
   "cell_type": "markdown",
   "metadata": {
    "pycharm": {
     "name": "#%% md\n"
    }
   },
   "source": [
    "## <b>KGLiDS APIs</b>"
   ]
  },
  {
   "cell_type": "code",
   "execution_count": 1,
   "metadata": {
    "pycharm": {
     "name": "#%%\n"
    }
   },
   "outputs": [
    {
     "name": "stdout",
     "output_type": "stream",
     "text": [
      "Connected to Stardog: https://cloud.stardog.com/\n"
     ]
    }
   ],
   "source": [
    "from api.api import KGLiDS\n",
    "import pandas as pd\n",
    "kglids = KGLiDS(endpoint='206.12.92.210', port=5820)"
   ]
  },
  {
   "cell_type": "code",
   "execution_count": 2,
   "metadata": {
    "pycharm": {
     "name": "#%%\n"
    }
   },
   "outputs": [
    {
     "name": "stdout",
     "output_type": "stream",
     "text": [
      "Information captured: \n"
     ]
    },
    {
     "data": {
      "text/html": [
       "<div>\n",
       "<style scoped>\n",
       "    .dataframe tbody tr th:only-of-type {\n",
       "        vertical-align: middle;\n",
       "    }\n",
       "\n",
       "    .dataframe tbody tr th {\n",
       "        vertical-align: top;\n",
       "    }\n",
       "\n",
       "    .dataframe thead th {\n",
       "        text-align: right;\n",
       "    }\n",
       "</style>\n",
       "<table border=\"1\" class=\"dataframe\">\n",
       "  <thead>\n",
       "    <tr style=\"text-align: right;\">\n",
       "      <th></th>\n",
       "      <th>Datasets</th>\n",
       "      <th>Pipelines</th>\n",
       "      <th>Tables</th>\n",
       "      <th>Columns</th>\n",
       "    </tr>\n",
       "  </thead>\n",
       "  <tbody>\n",
       "    <tr>\n",
       "      <th>0</th>\n",
       "      <td>101</td>\n",
       "      <td>969</td>\n",
       "      <td>418</td>\n",
       "      <td>9502</td>\n",
       "    </tr>\n",
       "  </tbody>\n",
       "</table>\n",
       "</div>"
      ],
      "text/plain": [
       "   Datasets  Pipelines  Tables  Columns\n",
       "0       101        969     418     9502"
      ]
     },
     "execution_count": 2,
     "metadata": {},
     "output_type": "execute_result"
    }
   ],
   "source": [
    "kglids.show_graph_info()"
   ]
  },
  {
   "cell_type": "markdown",
   "metadata": {
    "pycharm": {
     "name": "#%% md\n"
    }
   },
   "source": [
    "\n",
    "- <b><i> Running Adhoc-queries on our graph!</i></b> "
   ]
  },
  {
   "cell_type": "markdown",
   "metadata": {
    "pycharm": {
     "name": "#%% md\n"
    }
   },
   "source": [
    "##### <b>1.  Customized queries </b>"
   ]
  },
  {
   "cell_type": "code",
   "execution_count": 3,
   "metadata": {
    "pycharm": {
     "name": "#%%\n"
    }
   },
   "outputs": [
    {
     "data": {
      "text/html": [
       "<div>\n",
       "<style scoped>\n",
       "    .dataframe tbody tr th:only-of-type {\n",
       "        vertical-align: middle;\n",
       "    }\n",
       "\n",
       "    .dataframe tbody tr th {\n",
       "        vertical-align: top;\n",
       "    }\n",
       "\n",
       "    .dataframe thead th {\n",
       "        text-align: right;\n",
       "    }\n",
       "</style>\n",
       "<table border=\"1\" class=\"dataframe\">\n",
       "  <thead>\n",
       "    <tr style=\"text-align: right;\">\n",
       "      <th></th>\n",
       "      <th>source</th>\n",
       "    </tr>\n",
       "  </thead>\n",
       "  <tbody>\n",
       "    <tr>\n",
       "      <th>0</th>\n",
       "      <td>kaggle</td>\n",
       "    </tr>\n",
       "  </tbody>\n",
       "</table>\n",
       "</div>"
      ],
      "text/plain": [
       "   source\n",
       "0  kaggle"
      ]
     },
     "execution_count": 3,
     "metadata": {},
     "output_type": "execute_result"
    }
   ],
   "source": [
    "query = \"\"\" \n",
    "SELECT ?source {\n",
    "?source_id rdf:type    kglids:Source    ;\n",
    "           schema:name ?source          . } \"\"\"\n",
    "kglids.query(query)"
   ]
  },
  {
   "cell_type": "markdown",
   "metadata": {
    "pycharm": {
     "name": "#%% md\n"
    }
   },
   "source": [
    "- <b><i> Pre-defined queries on our graph!</i></b> "
   ]
  },
  {
   "cell_type": "markdown",
   "metadata": {
    "pycharm": {
     "name": "#%% md\n"
    }
   },
   "source": [
    "##### <b><i>Not comfortable with Sparql? No worries!</i></b> \n",
    "###### You can use several KGLiDS APIs to discover useful insights that remain locked inside your Data\n",
    "<hr><br>\n",
    "\n",
    "Note: \n",
    "- All query result(s) are returned in a form of <code>pandas.DataFrame</code> \n",
    "- KGLiDS is a transparent system, you can see the queries used by the system by setting <code>show_query = True</code> in case of every API you wish to use."
   ]
  },
  {
   "cell_type": "markdown",
   "metadata": {
    "pycharm": {
     "name": "#%% md\n"
    }
   },
   "source": [
    "##### <b>2.  Retrieving dataset(s) </b>"
   ]
  },
  {
   "cell_type": "code",
   "execution_count": 4,
   "metadata": {
    "pycharm": {
     "name": "#%%\n"
    }
   },
   "outputs": [
    {
     "data": {
      "text/html": [
       "<div>\n",
       "<style scoped>\n",
       "    .dataframe tbody tr th:only-of-type {\n",
       "        vertical-align: middle;\n",
       "    }\n",
       "\n",
       "    .dataframe tbody tr th {\n",
       "        vertical-align: top;\n",
       "    }\n",
       "\n",
       "    .dataframe thead th {\n",
       "        text-align: right;\n",
       "    }\n",
       "</style>\n",
       "<table border=\"1\" class=\"dataframe\">\n",
       "  <thead>\n",
       "    <tr style=\"text-align: right;\">\n",
       "      <th></th>\n",
       "      <th>Dataset</th>\n",
       "      <th>Number_of_tables</th>\n",
       "    </tr>\n",
       "  </thead>\n",
       "  <tbody>\n",
       "    <tr>\n",
       "      <th>0</th>\n",
       "      <td>COVID-19 Corona Virus India Dataset</td>\n",
       "      <td>8</td>\n",
       "    </tr>\n",
       "    <tr>\n",
       "      <th>1</th>\n",
       "      <td>COVID-19 Dataset</td>\n",
       "      <td>6</td>\n",
       "    </tr>\n",
       "    <tr>\n",
       "      <th>2</th>\n",
       "      <td>COVID-19 Healthy Diet Dataset</td>\n",
       "      <td>5</td>\n",
       "    </tr>\n",
       "    <tr>\n",
       "      <th>3</th>\n",
       "      <td>COVID-19 Indonesia Dataset</td>\n",
       "      <td>1</td>\n",
       "    </tr>\n",
       "    <tr>\n",
       "      <th>4</th>\n",
       "      <td>COVID-19 World Vaccination Progress</td>\n",
       "      <td>2</td>\n",
       "    </tr>\n",
       "    <tr>\n",
       "      <th>...</th>\n",
       "      <td>...</td>\n",
       "      <td>...</td>\n",
       "    </tr>\n",
       "    <tr>\n",
       "      <th>96</th>\n",
       "      <td>uciml.red-wine-quality-cortez-et-al-2009</td>\n",
       "      <td>22</td>\n",
       "    </tr>\n",
       "    <tr>\n",
       "      <th>97</th>\n",
       "      <td>unitednations.international-greenhouse-gas-emi...</td>\n",
       "      <td>3</td>\n",
       "    </tr>\n",
       "    <tr>\n",
       "      <th>98</th>\n",
       "      <td>upadorprofzs.testes</td>\n",
       "      <td>8</td>\n",
       "    </tr>\n",
       "    <tr>\n",
       "      <th>99</th>\n",
       "      <td>vitaliymalcev.russian-passenger-air-service-20...</td>\n",
       "      <td>14</td>\n",
       "    </tr>\n",
       "    <tr>\n",
       "      <th>100</th>\n",
       "      <td>ylchang.coffee-shop-sample-data-1113</td>\n",
       "      <td>10</td>\n",
       "    </tr>\n",
       "  </tbody>\n",
       "</table>\n",
       "<p>101 rows × 2 columns</p>\n",
       "</div>"
      ],
      "text/plain": [
       "                                               Dataset  Number_of_tables\n",
       "0                  COVID-19 Corona Virus India Dataset                 8\n",
       "1                                     COVID-19 Dataset                 6\n",
       "2                        COVID-19 Healthy Diet Dataset                 5\n",
       "3                           COVID-19 Indonesia Dataset                 1\n",
       "4                  COVID-19 World Vaccination Progress                 2\n",
       "..                                                 ...               ...\n",
       "96            uciml.red-wine-quality-cortez-et-al-2009                22\n",
       "97   unitednations.international-greenhouse-gas-emi...                 3\n",
       "98                                 upadorprofzs.testes                 8\n",
       "99   vitaliymalcev.russian-passenger-air-service-20...                14\n",
       "100               ylchang.coffee-shop-sample-data-1113                10\n",
       "\n",
       "[101 rows x 2 columns]"
      ]
     },
     "execution_count": 4,
     "metadata": {},
     "output_type": "execute_result"
    }
   ],
   "source": [
    "kglids.get_datasets_info()"
   ]
  },
  {
   "cell_type": "markdown",
   "metadata": {
    "pycharm": {
     "name": "#%% md\n"
    }
   },
   "source": [
    "##### <b>3.  Retrieving table(s) </b>"
   ]
  },
  {
   "cell_type": "code",
   "execution_count": 5,
   "metadata": {
    "pycharm": {
     "name": "#%%\n"
    }
   },
   "outputs": [
    {
     "name": "stdout",
     "output_type": "stream",
     "text": [
      "Showing all available table(s): \n"
     ]
    },
    {
     "data": {
      "text/html": [
       "<div>\n",
       "<style scoped>\n",
       "    .dataframe tbody tr th:only-of-type {\n",
       "        vertical-align: middle;\n",
       "    }\n",
       "\n",
       "    .dataframe tbody tr th {\n",
       "        vertical-align: top;\n",
       "    }\n",
       "\n",
       "    .dataframe thead th {\n",
       "        text-align: right;\n",
       "    }\n",
       "</style>\n",
       "<table border=\"1\" class=\"dataframe\">\n",
       "  <thead>\n",
       "    <tr style=\"text-align: right;\">\n",
       "      <th></th>\n",
       "      <th>Table</th>\n",
       "      <th>Dataset</th>\n",
       "      <th>Path_to_table</th>\n",
       "    </tr>\n",
       "  </thead>\n",
       "  <tbody>\n",
       "    <tr>\n",
       "      <th>0</th>\n",
       "      <td>state_level_daily.csv</td>\n",
       "      <td>COVID-19 Corona Virus India Dataset</td>\n",
       "      <td>/data/shubham/datasets/data_lake/COVID-19 Coro...</td>\n",
       "    </tr>\n",
       "    <tr>\n",
       "      <th>1</th>\n",
       "      <td>state_level_latest.csv</td>\n",
       "      <td>COVID-19 Corona Virus India Dataset</td>\n",
       "      <td>/data/shubham/datasets/data_lake/COVID-19 Coro...</td>\n",
       "    </tr>\n",
       "    <tr>\n",
       "      <th>2</th>\n",
       "      <td>patients_data.csv</td>\n",
       "      <td>COVID-19 Corona Virus India Dataset</td>\n",
       "      <td>/data/shubham/datasets/data_lake/COVID-19 Coro...</td>\n",
       "    </tr>\n",
       "    <tr>\n",
       "      <th>3</th>\n",
       "      <td>tests_day_wise.csv</td>\n",
       "      <td>COVID-19 Corona Virus India Dataset</td>\n",
       "      <td>/data/shubham/datasets/data_lake/COVID-19 Coro...</td>\n",
       "    </tr>\n",
       "    <tr>\n",
       "      <th>4</th>\n",
       "      <td>nation_level_daily.csv</td>\n",
       "      <td>COVID-19 Corona Virus India Dataset</td>\n",
       "      <td>/data/shubham/datasets/data_lake/COVID-19 Coro...</td>\n",
       "    </tr>\n",
       "    <tr>\n",
       "      <th>...</th>\n",
       "      <td>...</td>\n",
       "      <td>...</td>\n",
       "      <td>...</td>\n",
       "    </tr>\n",
       "    <tr>\n",
       "      <th>413</th>\n",
       "      <td>pastry inventory.csv</td>\n",
       "      <td>ylchang.coffee-shop-sample-data-1113</td>\n",
       "      <td>/data/shubham/datasets/data_lake/ylchang.coffe...</td>\n",
       "    </tr>\n",
       "    <tr>\n",
       "      <th>414</th>\n",
       "      <td>201904 sales reciepts.csv</td>\n",
       "      <td>ylchang.coffee-shop-sample-data-1113</td>\n",
       "      <td>/data/shubham/datasets/data_lake/ylchang.coffe...</td>\n",
       "    </tr>\n",
       "    <tr>\n",
       "      <th>415</th>\n",
       "      <td>sales_outlet.csv</td>\n",
       "      <td>ylchang.coffee-shop-sample-data-1113</td>\n",
       "      <td>/data/shubham/datasets/data_lake/ylchang.coffe...</td>\n",
       "    </tr>\n",
       "    <tr>\n",
       "      <th>416</th>\n",
       "      <td>product.csv</td>\n",
       "      <td>ylchang.coffee-shop-sample-data-1113</td>\n",
       "      <td>/data/shubham/datasets/data_lake/ylchang.coffe...</td>\n",
       "    </tr>\n",
       "    <tr>\n",
       "      <th>417</th>\n",
       "      <td>Dates.csv</td>\n",
       "      <td>ylchang.coffee-shop-sample-data-1113</td>\n",
       "      <td>/data/shubham/datasets/data_lake/ylchang.coffe...</td>\n",
       "    </tr>\n",
       "  </tbody>\n",
       "</table>\n",
       "<p>418 rows × 3 columns</p>\n",
       "</div>"
      ],
      "text/plain": [
       "                         Table                               Dataset  \\\n",
       "0        state_level_daily.csv   COVID-19 Corona Virus India Dataset   \n",
       "1       state_level_latest.csv   COVID-19 Corona Virus India Dataset   \n",
       "2            patients_data.csv   COVID-19 Corona Virus India Dataset   \n",
       "3           tests_day_wise.csv   COVID-19 Corona Virus India Dataset   \n",
       "4       nation_level_daily.csv   COVID-19 Corona Virus India Dataset   \n",
       "..                         ...                                   ...   \n",
       "413       pastry inventory.csv  ylchang.coffee-shop-sample-data-1113   \n",
       "414  201904 sales reciepts.csv  ylchang.coffee-shop-sample-data-1113   \n",
       "415           sales_outlet.csv  ylchang.coffee-shop-sample-data-1113   \n",
       "416                product.csv  ylchang.coffee-shop-sample-data-1113   \n",
       "417                  Dates.csv  ylchang.coffee-shop-sample-data-1113   \n",
       "\n",
       "                                         Path_to_table  \n",
       "0    /data/shubham/datasets/data_lake/COVID-19 Coro...  \n",
       "1    /data/shubham/datasets/data_lake/COVID-19 Coro...  \n",
       "2    /data/shubham/datasets/data_lake/COVID-19 Coro...  \n",
       "3    /data/shubham/datasets/data_lake/COVID-19 Coro...  \n",
       "4    /data/shubham/datasets/data_lake/COVID-19 Coro...  \n",
       "..                                                 ...  \n",
       "413  /data/shubham/datasets/data_lake/ylchang.coffe...  \n",
       "414  /data/shubham/datasets/data_lake/ylchang.coffe...  \n",
       "415  /data/shubham/datasets/data_lake/ylchang.coffe...  \n",
       "416  /data/shubham/datasets/data_lake/ylchang.coffe...  \n",
       "417  /data/shubham/datasets/data_lake/ylchang.coffe...  \n",
       "\n",
       "[418 rows x 3 columns]"
      ]
     },
     "execution_count": 5,
     "metadata": {},
     "output_type": "execute_result"
    }
   ],
   "source": [
    "kglids.get_tables_info()"
   ]
  },
  {
   "cell_type": "code",
   "execution_count": 6,
   "metadata": {
    "pycharm": {
     "name": "#%%\n"
    }
   },
   "outputs": [
    {
     "name": "stdout",
     "output_type": "stream",
     "text": [
      "Showing table(s) for 'UK COVID-19 Data' dataset: \n"
     ]
    },
    {
     "data": {
      "text/html": [
       "<div>\n",
       "<style scoped>\n",
       "    .dataframe tbody tr th:only-of-type {\n",
       "        vertical-align: middle;\n",
       "    }\n",
       "\n",
       "    .dataframe tbody tr th {\n",
       "        vertical-align: top;\n",
       "    }\n",
       "\n",
       "    .dataframe thead th {\n",
       "        text-align: right;\n",
       "    }\n",
       "</style>\n",
       "<table border=\"1\" class=\"dataframe\">\n",
       "  <thead>\n",
       "    <tr style=\"text-align: right;\">\n",
       "      <th></th>\n",
       "      <th>Table</th>\n",
       "      <th>Dataset</th>\n",
       "      <th>Path_to_table</th>\n",
       "    </tr>\n",
       "  </thead>\n",
       "  <tbody>\n",
       "    <tr>\n",
       "      <th>0</th>\n",
       "      <td>UK_Devolved_Nations_COVID_Dataset.csv</td>\n",
       "      <td>UK COVID-19 Data</td>\n",
       "      <td>/data/shubham/datasets/data_lake/UK COVID-19 D...</td>\n",
       "    </tr>\n",
       "    <tr>\n",
       "      <th>1</th>\n",
       "      <td>UK_Local_Authority_UTLA_COVID_Dataset.csv</td>\n",
       "      <td>UK COVID-19 Data</td>\n",
       "      <td>/data/shubham/datasets/data_lake/UK COVID-19 D...</td>\n",
       "    </tr>\n",
       "    <tr>\n",
       "      <th>2</th>\n",
       "      <td>England_Regions_COVID_Dataset.csv</td>\n",
       "      <td>UK COVID-19 Data</td>\n",
       "      <td>/data/shubham/datasets/data_lake/UK COVID-19 D...</td>\n",
       "    </tr>\n",
       "    <tr>\n",
       "      <th>3</th>\n",
       "      <td>UK_National_Total_COVID_Dataset.csv</td>\n",
       "      <td>UK COVID-19 Data</td>\n",
       "      <td>/data/shubham/datasets/data_lake/UK COVID-19 D...</td>\n",
       "    </tr>\n",
       "    <tr>\n",
       "      <th>4</th>\n",
       "      <td>NEW_Official_Population_Data_ONS_mid-2019.csv</td>\n",
       "      <td>UK COVID-19 Data</td>\n",
       "      <td>/data/shubham/datasets/data_lake/UK COVID-19 D...</td>\n",
       "    </tr>\n",
       "    <tr>\n",
       "      <th>5</th>\n",
       "      <td>Populations_for_UK_and_Devolved_Nations.csv</td>\n",
       "      <td>UK COVID-19 Data</td>\n",
       "      <td>/data/shubham/datasets/data_lake/UK COVID-19 D...</td>\n",
       "    </tr>\n",
       "  </tbody>\n",
       "</table>\n",
       "</div>"
      ],
      "text/plain": [
       "                                           Table           Dataset  \\\n",
       "0          UK_Devolved_Nations_COVID_Dataset.csv  UK COVID-19 Data   \n",
       "1      UK_Local_Authority_UTLA_COVID_Dataset.csv  UK COVID-19 Data   \n",
       "2              England_Regions_COVID_Dataset.csv  UK COVID-19 Data   \n",
       "3            UK_National_Total_COVID_Dataset.csv  UK COVID-19 Data   \n",
       "4  NEW_Official_Population_Data_ONS_mid-2019.csv  UK COVID-19 Data   \n",
       "5    Populations_for_UK_and_Devolved_Nations.csv  UK COVID-19 Data   \n",
       "\n",
       "                                       Path_to_table  \n",
       "0  /data/shubham/datasets/data_lake/UK COVID-19 D...  \n",
       "1  /data/shubham/datasets/data_lake/UK COVID-19 D...  \n",
       "2  /data/shubham/datasets/data_lake/UK COVID-19 D...  \n",
       "3  /data/shubham/datasets/data_lake/UK COVID-19 D...  \n",
       "4  /data/shubham/datasets/data_lake/UK COVID-19 D...  \n",
       "5  /data/shubham/datasets/data_lake/UK COVID-19 D...  "
      ]
     },
     "execution_count": 6,
     "metadata": {},
     "output_type": "execute_result"
    }
   ],
   "source": [
    "kglids.get_tables_info(dataset='UK COVID-19 Data')\n"
   ]
  },
  {
   "cell_type": "markdown",
   "metadata": {
    "pycharm": {
     "name": "#%% md\n"
    }
   },
   "source": [
    "###### <b>Enriching table(s) with more columns using KGLiDS's recommendations </b>"
   ]
  },
  {
   "cell_type": "markdown",
   "metadata": {
    "pycharm": {
     "name": "#%% md\n"
    }
   },
   "source": [
    "##### <b>4. Recommending tables by column name search</b>"
   ]
  },
  {
   "cell_type": "code",
   "execution_count": 7,
   "metadata": {
    "pycharm": {
     "name": "#%%\n"
    }
   },
   "outputs": [
    {
     "name": "stdout",
     "output_type": "stream",
     "text": [
      "Showing recommendations as per the following conditions:\n",
      "Condition =  [['player', 'club']]\n"
     ]
    },
    {
     "data": {
      "text/html": [
       "<div>\n",
       "<style scoped>\n",
       "    .dataframe tbody tr th:only-of-type {\n",
       "        vertical-align: middle;\n",
       "    }\n",
       "\n",
       "    .dataframe tbody tr th {\n",
       "        vertical-align: top;\n",
       "    }\n",
       "\n",
       "    .dataframe thead th {\n",
       "        text-align: right;\n",
       "    }\n",
       "</style>\n",
       "<table border=\"1\" class=\"dataframe\">\n",
       "  <thead>\n",
       "    <tr style=\"text-align: right;\">\n",
       "      <th></th>\n",
       "      <th>Dataset</th>\n",
       "      <th>Table</th>\n",
       "      <th>Number_of_columns</th>\n",
       "      <th>Number_of_rows</th>\n",
       "      <th>Path_to_table</th>\n",
       "    </tr>\n",
       "  </thead>\n",
       "  <tbody>\n",
       "    <tr>\n",
       "      <th>0</th>\n",
       "      <td>FIFA 21 complete player dataset</td>\n",
       "      <td>players_21.csv</td>\n",
       "      <td>106.0</td>\n",
       "      <td>18944.0</td>\n",
       "      <td>/data/shubham/datasets/data_lake/FIFA 21 compl...</td>\n",
       "    </tr>\n",
       "    <tr>\n",
       "      <th>1</th>\n",
       "      <td>FIFA 21 complete player dataset</td>\n",
       "      <td>players_20.csv</td>\n",
       "      <td>106.0</td>\n",
       "      <td>18483.0</td>\n",
       "      <td>/data/shubham/datasets/data_lake/FIFA 21 compl...</td>\n",
       "    </tr>\n",
       "    <tr>\n",
       "      <th>2</th>\n",
       "      <td>FIFA 20 complete player dataset</td>\n",
       "      <td>players_20.csv</td>\n",
       "      <td>104.0</td>\n",
       "      <td>18278.0</td>\n",
       "      <td>/data/shubham/datasets/data_lake/FIFA 20 compl...</td>\n",
       "    </tr>\n",
       "    <tr>\n",
       "      <th>3</th>\n",
       "      <td>FIFA 21 complete player dataset</td>\n",
       "      <td>players_19.csv</td>\n",
       "      <td>106.0</td>\n",
       "      <td>18085.0</td>\n",
       "      <td>/data/shubham/datasets/data_lake/FIFA 21 compl...</td>\n",
       "    </tr>\n",
       "    <tr>\n",
       "      <th>4</th>\n",
       "      <td>FIFA 20 complete player dataset</td>\n",
       "      <td>players_19.csv</td>\n",
       "      <td>104.0</td>\n",
       "      <td>17770.0</td>\n",
       "      <td>/data/shubham/datasets/data_lake/FIFA 20 compl...</td>\n",
       "    </tr>\n",
       "    <tr>\n",
       "      <th>5</th>\n",
       "      <td>FIFA 20 complete player dataset</td>\n",
       "      <td>players_18.csv</td>\n",
       "      <td>104.0</td>\n",
       "      <td>17592.0</td>\n",
       "      <td>/data/shubham/datasets/data_lake/FIFA 20 compl...</td>\n",
       "    </tr>\n",
       "    <tr>\n",
       "      <th>6</th>\n",
       "      <td>FIFA 21 complete player dataset</td>\n",
       "      <td>players_18.csv</td>\n",
       "      <td>106.0</td>\n",
       "      <td>17954.0</td>\n",
       "      <td>/data/shubham/datasets/data_lake/FIFA 21 compl...</td>\n",
       "    </tr>\n",
       "    <tr>\n",
       "      <th>7</th>\n",
       "      <td>FIFA 21 complete player dataset</td>\n",
       "      <td>players_17.csv</td>\n",
       "      <td>106.0</td>\n",
       "      <td>17597.0</td>\n",
       "      <td>/data/shubham/datasets/data_lake/FIFA 21 compl...</td>\n",
       "    </tr>\n",
       "    <tr>\n",
       "      <th>8</th>\n",
       "      <td>FIFA 20 complete player dataset</td>\n",
       "      <td>players_17.csv</td>\n",
       "      <td>104.0</td>\n",
       "      <td>17009.0</td>\n",
       "      <td>/data/shubham/datasets/data_lake/FIFA 20 compl...</td>\n",
       "    </tr>\n",
       "    <tr>\n",
       "      <th>9</th>\n",
       "      <td>FIFA 20 complete player dataset</td>\n",
       "      <td>players_16.csv</td>\n",
       "      <td>104.0</td>\n",
       "      <td>14881.0</td>\n",
       "      <td>/data/shubham/datasets/data_lake/FIFA 20 compl...</td>\n",
       "    </tr>\n",
       "    <tr>\n",
       "      <th>10</th>\n",
       "      <td>FIFA 21 complete player dataset</td>\n",
       "      <td>players_16.csv</td>\n",
       "      <td>106.0</td>\n",
       "      <td>15623.0</td>\n",
       "      <td>/data/shubham/datasets/data_lake/FIFA 21 compl...</td>\n",
       "    </tr>\n",
       "    <tr>\n",
       "      <th>11</th>\n",
       "      <td>FIFA 21 complete player dataset</td>\n",
       "      <td>players_15.csv</td>\n",
       "      <td>106.0</td>\n",
       "      <td>16155.0</td>\n",
       "      <td>/data/shubham/datasets/data_lake/FIFA 21 compl...</td>\n",
       "    </tr>\n",
       "    <tr>\n",
       "      <th>12</th>\n",
       "      <td>FIFA 20 complete player dataset</td>\n",
       "      <td>players_15.csv</td>\n",
       "      <td>104.0</td>\n",
       "      <td>15465.0</td>\n",
       "      <td>/data/shubham/datasets/data_lake/FIFA 20 compl...</td>\n",
       "    </tr>\n",
       "    <tr>\n",
       "      <th>13</th>\n",
       "      <td>open-source-sports.mens-professional-basketball</td>\n",
       "      <td>basketball_player_allstar.csv</td>\n",
       "      <td>23.0</td>\n",
       "      <td>1609.0</td>\n",
       "      <td>/data/shubham/datasets/data_lake/open-source-s...</td>\n",
       "    </tr>\n",
       "    <tr>\n",
       "      <th>14</th>\n",
       "      <td>open-source-sports.mens-professional-basketball</td>\n",
       "      <td>basketball_draft.csv</td>\n",
       "      <td>11.0</td>\n",
       "      <td>9003.0</td>\n",
       "      <td>/data/shubham/datasets/data_lake/open-source-s...</td>\n",
       "    </tr>\n",
       "    <tr>\n",
       "      <th>15</th>\n",
       "      <td>open-source-sports.mens-professional-basketball</td>\n",
       "      <td>basketball_awards_players.csv</td>\n",
       "      <td>6.0</td>\n",
       "      <td>1719.0</td>\n",
       "      <td>/data/shubham/datasets/data_lake/open-source-s...</td>\n",
       "    </tr>\n",
       "    <tr>\n",
       "      <th>16</th>\n",
       "      <td>FIFA22 OFFICIAL DATASET</td>\n",
       "      <td>FIFA22_official_data.csv</td>\n",
       "      <td>65.0</td>\n",
       "      <td>16710.0</td>\n",
       "      <td>/data/shubham/datasets/data_lake/FIFA22 OFFICI...</td>\n",
       "    </tr>\n",
       "    <tr>\n",
       "      <th>17</th>\n",
       "      <td>FIFA22 OFFICIAL DATASET</td>\n",
       "      <td>FIFA21_official_data.csv</td>\n",
       "      <td>65.0</td>\n",
       "      <td>17108.0</td>\n",
       "      <td>/data/shubham/datasets/data_lake/FIFA22 OFFICI...</td>\n",
       "    </tr>\n",
       "    <tr>\n",
       "      <th>18</th>\n",
       "      <td>FIFA22 OFFICIAL DATASET</td>\n",
       "      <td>FIFA20_official_data.csv</td>\n",
       "      <td>65.0</td>\n",
       "      <td>17104.0</td>\n",
       "      <td>/data/shubham/datasets/data_lake/FIFA22 OFFICI...</td>\n",
       "    </tr>\n",
       "    <tr>\n",
       "      <th>19</th>\n",
       "      <td>FIFA22 OFFICIAL DATASET</td>\n",
       "      <td>FIFA19_official_data.csv</td>\n",
       "      <td>64.0</td>\n",
       "      <td>17943.0</td>\n",
       "      <td>/data/shubham/datasets/data_lake/FIFA22 OFFICI...</td>\n",
       "    </tr>\n",
       "    <tr>\n",
       "      <th>20</th>\n",
       "      <td>FIFA22 OFFICIAL DATASET</td>\n",
       "      <td>FIFA18_official_data.csv</td>\n",
       "      <td>64.0</td>\n",
       "      <td>17927.0</td>\n",
       "      <td>/data/shubham/datasets/data_lake/FIFA22 OFFICI...</td>\n",
       "    </tr>\n",
       "    <tr>\n",
       "      <th>21</th>\n",
       "      <td>FIFA22 OFFICIAL DATASET</td>\n",
       "      <td>FIFA17_official_data.csv</td>\n",
       "      <td>63.0</td>\n",
       "      <td>17560.0</td>\n",
       "      <td>/data/shubham/datasets/data_lake/FIFA22 OFFICI...</td>\n",
       "    </tr>\n",
       "  </tbody>\n",
       "</table>\n",
       "</div>"
      ],
      "text/plain": [
       "                                            Dataset  \\\n",
       "0                   FIFA 21 complete player dataset   \n",
       "1                   FIFA 21 complete player dataset   \n",
       "2                   FIFA 20 complete player dataset   \n",
       "3                   FIFA 21 complete player dataset   \n",
       "4                   FIFA 20 complete player dataset   \n",
       "5                   FIFA 20 complete player dataset   \n",
       "6                   FIFA 21 complete player dataset   \n",
       "7                   FIFA 21 complete player dataset   \n",
       "8                   FIFA 20 complete player dataset   \n",
       "9                   FIFA 20 complete player dataset   \n",
       "10                  FIFA 21 complete player dataset   \n",
       "11                  FIFA 21 complete player dataset   \n",
       "12                  FIFA 20 complete player dataset   \n",
       "13  open-source-sports.mens-professional-basketball   \n",
       "14  open-source-sports.mens-professional-basketball   \n",
       "15  open-source-sports.mens-professional-basketball   \n",
       "16                          FIFA22 OFFICIAL DATASET   \n",
       "17                          FIFA22 OFFICIAL DATASET   \n",
       "18                          FIFA22 OFFICIAL DATASET   \n",
       "19                          FIFA22 OFFICIAL DATASET   \n",
       "20                          FIFA22 OFFICIAL DATASET   \n",
       "21                          FIFA22 OFFICIAL DATASET   \n",
       "\n",
       "                            Table  Number_of_columns  Number_of_rows  \\\n",
       "0                  players_21.csv              106.0         18944.0   \n",
       "1                  players_20.csv              106.0         18483.0   \n",
       "2                  players_20.csv              104.0         18278.0   \n",
       "3                  players_19.csv              106.0         18085.0   \n",
       "4                  players_19.csv              104.0         17770.0   \n",
       "5                  players_18.csv              104.0         17592.0   \n",
       "6                  players_18.csv              106.0         17954.0   \n",
       "7                  players_17.csv              106.0         17597.0   \n",
       "8                  players_17.csv              104.0         17009.0   \n",
       "9                  players_16.csv              104.0         14881.0   \n",
       "10                 players_16.csv              106.0         15623.0   \n",
       "11                 players_15.csv              106.0         16155.0   \n",
       "12                 players_15.csv              104.0         15465.0   \n",
       "13  basketball_player_allstar.csv               23.0          1609.0   \n",
       "14           basketball_draft.csv               11.0          9003.0   \n",
       "15  basketball_awards_players.csv                6.0          1719.0   \n",
       "16       FIFA22_official_data.csv               65.0         16710.0   \n",
       "17       FIFA21_official_data.csv               65.0         17108.0   \n",
       "18       FIFA20_official_data.csv               65.0         17104.0   \n",
       "19       FIFA19_official_data.csv               64.0         17943.0   \n",
       "20       FIFA18_official_data.csv               64.0         17927.0   \n",
       "21       FIFA17_official_data.csv               63.0         17560.0   \n",
       "\n",
       "                                        Path_to_table  \n",
       "0   /data/shubham/datasets/data_lake/FIFA 21 compl...  \n",
       "1   /data/shubham/datasets/data_lake/FIFA 21 compl...  \n",
       "2   /data/shubham/datasets/data_lake/FIFA 20 compl...  \n",
       "3   /data/shubham/datasets/data_lake/FIFA 21 compl...  \n",
       "4   /data/shubham/datasets/data_lake/FIFA 20 compl...  \n",
       "5   /data/shubham/datasets/data_lake/FIFA 20 compl...  \n",
       "6   /data/shubham/datasets/data_lake/FIFA 21 compl...  \n",
       "7   /data/shubham/datasets/data_lake/FIFA 21 compl...  \n",
       "8   /data/shubham/datasets/data_lake/FIFA 20 compl...  \n",
       "9   /data/shubham/datasets/data_lake/FIFA 20 compl...  \n",
       "10  /data/shubham/datasets/data_lake/FIFA 21 compl...  \n",
       "11  /data/shubham/datasets/data_lake/FIFA 21 compl...  \n",
       "12  /data/shubham/datasets/data_lake/FIFA 20 compl...  \n",
       "13  /data/shubham/datasets/data_lake/open-source-s...  \n",
       "14  /data/shubham/datasets/data_lake/open-source-s...  \n",
       "15  /data/shubham/datasets/data_lake/open-source-s...  \n",
       "16  /data/shubham/datasets/data_lake/FIFA22 OFFICI...  \n",
       "17  /data/shubham/datasets/data_lake/FIFA22 OFFICI...  \n",
       "18  /data/shubham/datasets/data_lake/FIFA22 OFFICI...  \n",
       "19  /data/shubham/datasets/data_lake/FIFA22 OFFICI...  \n",
       "20  /data/shubham/datasets/data_lake/FIFA22 OFFICI...  \n",
       "21  /data/shubham/datasets/data_lake/FIFA22 OFFICI...  "
      ]
     },
     "execution_count": 7,
     "metadata": {},
     "output_type": "execute_result"
    }
   ],
   "source": [
    "df = kglids.search_tables_on(conditions=[['player', 'club']])\n",
    "df"
   ]
  },
  {
   "cell_type": "markdown",
   "metadata": {
    "pycharm": {
     "name": "#%% md\n"
    }
   },
   "source": [
    "##### <b>5. Recommending unionable tables (based on column names)</b>"
   ]
  },
  {
   "cell_type": "code",
   "execution_count": 8,
   "metadata": {
    "pycharm": {
     "name": "#%%\n"
    }
   },
   "outputs": [
    {
     "name": "stdout",
     "output_type": "stream",
     "text": [
      "Showing the top-10 unionable table recommendations:\n"
     ]
    },
    {
     "data": {
      "text/html": [
       "<div>\n",
       "<style scoped>\n",
       "    .dataframe tbody tr th:only-of-type {\n",
       "        vertical-align: middle;\n",
       "    }\n",
       "\n",
       "    .dataframe tbody tr th {\n",
       "        vertical-align: top;\n",
       "    }\n",
       "\n",
       "    .dataframe thead th {\n",
       "        text-align: right;\n",
       "    }\n",
       "</style>\n",
       "<table border=\"1\" class=\"dataframe\">\n",
       "  <thead>\n",
       "    <tr style=\"text-align: right;\">\n",
       "      <th></th>\n",
       "      <th>Dataset</th>\n",
       "      <th>Recommended_table</th>\n",
       "      <th>Score</th>\n",
       "      <th>Path_to_table</th>\n",
       "    </tr>\n",
       "  </thead>\n",
       "  <tbody>\n",
       "    <tr>\n",
       "      <th>0</th>\n",
       "      <td>FIFA 20 complete player dataset</td>\n",
       "      <td>players_20.csv</td>\n",
       "      <td>280.659</td>\n",
       "      <td>/data/shubham/datasets/data_lake/FIFA 20 compl...</td>\n",
       "    </tr>\n",
       "    <tr>\n",
       "      <th>1</th>\n",
       "      <td>FIFA 20 complete player dataset</td>\n",
       "      <td>players_19.csv</td>\n",
       "      <td>238.174</td>\n",
       "      <td>/data/shubham/datasets/data_lake/FIFA 20 compl...</td>\n",
       "    </tr>\n",
       "    <tr>\n",
       "      <th>2</th>\n",
       "      <td>FIFA 20 complete player dataset</td>\n",
       "      <td>players_18.csv</td>\n",
       "      <td>238.174</td>\n",
       "      <td>/data/shubham/datasets/data_lake/FIFA 20 compl...</td>\n",
       "    </tr>\n",
       "    <tr>\n",
       "      <th>3</th>\n",
       "      <td>FIFA 20 complete player dataset</td>\n",
       "      <td>players_17.csv</td>\n",
       "      <td>237.174</td>\n",
       "      <td>/data/shubham/datasets/data_lake/FIFA 20 compl...</td>\n",
       "    </tr>\n",
       "    <tr>\n",
       "      <th>4</th>\n",
       "      <td>FIFA 20 complete player dataset</td>\n",
       "      <td>players_15.csv</td>\n",
       "      <td>235.174</td>\n",
       "      <td>/data/shubham/datasets/data_lake/FIFA 20 compl...</td>\n",
       "    </tr>\n",
       "    <tr>\n",
       "      <th>5</th>\n",
       "      <td>FIFA 20 complete player dataset</td>\n",
       "      <td>players_16.csv</td>\n",
       "      <td>235.174</td>\n",
       "      <td>/data/shubham/datasets/data_lake/FIFA 20 compl...</td>\n",
       "    </tr>\n",
       "    <tr>\n",
       "      <th>6</th>\n",
       "      <td>FIFA22 OFFICIAL DATASET</td>\n",
       "      <td>FIFA19_official_data.csv</td>\n",
       "      <td>65.596</td>\n",
       "      <td>/data/shubham/datasets/data_lake/FIFA22 OFFICI...</td>\n",
       "    </tr>\n",
       "    <tr>\n",
       "      <th>7</th>\n",
       "      <td>FIFA22 OFFICIAL DATASET</td>\n",
       "      <td>FIFA17_official_data.csv</td>\n",
       "      <td>63.561</td>\n",
       "      <td>/data/shubham/datasets/data_lake/FIFA22 OFFICI...</td>\n",
       "    </tr>\n",
       "    <tr>\n",
       "      <th>8</th>\n",
       "      <td>FIFA22 OFFICIAL DATASET</td>\n",
       "      <td>FIFA18_official_data.csv</td>\n",
       "      <td>63.561</td>\n",
       "      <td>/data/shubham/datasets/data_lake/FIFA22 OFFICI...</td>\n",
       "    </tr>\n",
       "    <tr>\n",
       "      <th>9</th>\n",
       "      <td>FIFA22 OFFICIAL DATASET</td>\n",
       "      <td>FIFA22_official_data.csv</td>\n",
       "      <td>58.263</td>\n",
       "      <td>/data/shubham/datasets/data_lake/FIFA22 OFFICI...</td>\n",
       "    </tr>\n",
       "  </tbody>\n",
       "</table>\n",
       "</div>"
      ],
      "text/plain": [
       "                           Dataset         Recommended_table    Score  \\\n",
       "0  FIFA 20 complete player dataset            players_20.csv  280.659   \n",
       "1  FIFA 20 complete player dataset            players_19.csv  238.174   \n",
       "2  FIFA 20 complete player dataset            players_18.csv  238.174   \n",
       "3  FIFA 20 complete player dataset            players_17.csv  237.174   \n",
       "4  FIFA 20 complete player dataset            players_15.csv  235.174   \n",
       "5  FIFA 20 complete player dataset            players_16.csv  235.174   \n",
       "6          FIFA22 OFFICIAL DATASET  FIFA19_official_data.csv   65.596   \n",
       "7          FIFA22 OFFICIAL DATASET  FIFA17_official_data.csv   63.561   \n",
       "8          FIFA22 OFFICIAL DATASET  FIFA18_official_data.csv   63.561   \n",
       "9          FIFA22 OFFICIAL DATASET  FIFA22_official_data.csv   58.263   \n",
       "\n",
       "                                       Path_to_table  \n",
       "0  /data/shubham/datasets/data_lake/FIFA 20 compl...  \n",
       "1  /data/shubham/datasets/data_lake/FIFA 20 compl...  \n",
       "2  /data/shubham/datasets/data_lake/FIFA 20 compl...  \n",
       "3  /data/shubham/datasets/data_lake/FIFA 20 compl...  \n",
       "4  /data/shubham/datasets/data_lake/FIFA 20 compl...  \n",
       "5  /data/shubham/datasets/data_lake/FIFA 20 compl...  \n",
       "6  /data/shubham/datasets/data_lake/FIFA22 OFFICI...  \n",
       "7  /data/shubham/datasets/data_lake/FIFA22 OFFICI...  \n",
       "8  /data/shubham/datasets/data_lake/FIFA22 OFFICI...  \n",
       "9  /data/shubham/datasets/data_lake/FIFA22 OFFICI...  "
      ]
     },
     "execution_count": 8,
     "metadata": {},
     "output_type": "execute_result"
    }
   ],
   "source": [
    "recommendations_union = kglids.recommend_k_unionable_tables(df.iloc[0], k = 10)\n",
    "recommendations_union"
   ]
  },
  {
   "cell_type": "markdown",
   "metadata": {
    "pycharm": {
     "name": "#%% md\n"
    }
   },
   "source": [
    "##### <b>6. Recommending unionable tables (based on column values)</b>"
   ]
  },
  {
   "cell_type": "code",
   "execution_count": 9,
   "metadata": {
    "pycharm": {
     "name": "#%%\n"
    }
   },
   "outputs": [
    {
     "name": "stdout",
     "output_type": "stream",
     "text": [
      "Showing the top-3 joinable table recommendations:\n"
     ]
    },
    {
     "data": {
      "text/html": [
       "<div>\n",
       "<style scoped>\n",
       "    .dataframe tbody tr th:only-of-type {\n",
       "        vertical-align: middle;\n",
       "    }\n",
       "\n",
       "    .dataframe tbody tr th {\n",
       "        vertical-align: top;\n",
       "    }\n",
       "\n",
       "    .dataframe thead th {\n",
       "        text-align: right;\n",
       "    }\n",
       "</style>\n",
       "<table border=\"1\" class=\"dataframe\">\n",
       "  <thead>\n",
       "    <tr style=\"text-align: right;\">\n",
       "      <th></th>\n",
       "      <th>Dataset</th>\n",
       "      <th>Recommended_table</th>\n",
       "      <th>Score</th>\n",
       "      <th>Path_to_table</th>\n",
       "    </tr>\n",
       "  </thead>\n",
       "  <tbody>\n",
       "    <tr>\n",
       "      <th>0</th>\n",
       "      <td>FIFA 20 complete player dataset</td>\n",
       "      <td>players_20.csv</td>\n",
       "      <td>2.0</td>\n",
       "      <td>/data/shubham/datasets/data_lake/FIFA 20 compl...</td>\n",
       "    </tr>\n",
       "    <tr>\n",
       "      <th>1</th>\n",
       "      <td>FIFA22 OFFICIAL DATASET</td>\n",
       "      <td>FIFA22_official_data.csv</td>\n",
       "      <td>1.0</td>\n",
       "      <td>/data/shubham/datasets/data_lake/FIFA22 OFFICI...</td>\n",
       "    </tr>\n",
       "    <tr>\n",
       "      <th>2</th>\n",
       "      <td>FIFA22 OFFICIAL DATASET</td>\n",
       "      <td>FIFA21_official_data.csv</td>\n",
       "      <td>1.0</td>\n",
       "      <td>/data/shubham/datasets/data_lake/FIFA22 OFFICI...</td>\n",
       "    </tr>\n",
       "  </tbody>\n",
       "</table>\n",
       "</div>"
      ],
      "text/plain": [
       "                           Dataset         Recommended_table  Score  \\\n",
       "0  FIFA 20 complete player dataset            players_20.csv    2.0   \n",
       "1          FIFA22 OFFICIAL DATASET  FIFA22_official_data.csv    1.0   \n",
       "2          FIFA22 OFFICIAL DATASET  FIFA21_official_data.csv    1.0   \n",
       "\n",
       "                                       Path_to_table  \n",
       "0  /data/shubham/datasets/data_lake/FIFA 20 compl...  \n",
       "1  /data/shubham/datasets/data_lake/FIFA22 OFFICI...  \n",
       "2  /data/shubham/datasets/data_lake/FIFA22 OFFICI...  "
      ]
     },
     "execution_count": 9,
     "metadata": {},
     "output_type": "execute_result"
    }
   ],
   "source": [
    "recommendations_join = kglids.recommend_k_joinable_tables(df.iloc[0], k = 5)\n",
    "recommendations_join"
   ]
  },
  {
   "cell_type": "markdown",
   "metadata": {
    "pycharm": {
     "name": "#%% md\n"
    }
   },
   "source": [
    "##### <b>7. Visualizing the path between two joinable tables</b>"
   ]
  },
  {
   "cell_type": "code",
   "execution_count": 10,
   "metadata": {
    "pycharm": {
     "name": "#%%\n"
    }
   },
   "outputs": [
    {
     "data": {
      "image/svg+xml": [
       "<?xml version=\"1.0\" encoding=\"UTF-8\" standalone=\"no\"?>\n",
       "<!DOCTYPE svg PUBLIC \"-//W3C//DTD SVG 1.1//EN\"\n",
       " \"http://www.w3.org/Graphics/SVG/1.1/DTD/svg11.dtd\">\n",
       "<!-- Generated by graphviz version 2.50.0 (20211204.2007)\n",
       " -->\n",
       "<!-- Pages: 1 -->\n",
       "<svg width=\"500pt\" height=\"328pt\"\n",
       " viewBox=\"0.00 0.00 499.98 328.00\" xmlns=\"http://www.w3.org/2000/svg\" xmlns:xlink=\"http://www.w3.org/1999/xlink\">\n",
       "<g id=\"graph0\" class=\"graph\" transform=\"scale(1 1) rotate(0) translate(4 324)\">\n",
       "<polygon fill=\"white\" stroke=\"transparent\" points=\"-4,4 -4,-324 495.98,-324 495.98,4 -4,4\"/>\n",
       "<text text-anchor=\"middle\" x=\"245.99\" y=\"-7.8\" font-family=\"Times,serif\" font-size=\"14.00\">Paths between starting nodes in blue and target nodes in orange</text>\n",
       "<!-- 964547093 -->\n",
       "<g id=\"node1\" class=\"node\">\n",
       "<title>964547093</title>\n",
       "<ellipse fill=\"#b2dfee\" stroke=\"black\" cx=\"248.09\" cy=\"-302\" rx=\"42.49\" ry=\"18\"/>\n",
       "<text text-anchor=\"middle\" x=\"248.09\" y=\"-298.3\" font-family=\"Times,serif\" font-size=\"14.00\">sofifa_id</text>\n",
       "</g>\n",
       "<!-- 3290482378 -->\n",
       "<g id=\"node2\" class=\"node\">\n",
       "<title>3290482378</title>\n",
       "<ellipse fill=\"#b2dfee\" stroke=\"black\" cx=\"194.09\" cy=\"-215\" rx=\"63.89\" ry=\"18\"/>\n",
       "<text text-anchor=\"middle\" x=\"194.09\" y=\"-211.3\" font-family=\"Times,serif\" font-size=\"14.00\">players_21.csv</text>\n",
       "</g>\n",
       "<!-- 964547093&#45;&gt;3290482378 -->\n",
       "<g id=\"edge1\" class=\"edge\">\n",
       "<title>964547093&#45;&gt;3290482378</title>\n",
       "<path fill=\"none\" stroke=\"black\" d=\"M237.42,-284.21C229.65,-271.98 219,-255.21 210.2,-241.36\"/>\n",
       "<polygon fill=\"black\" stroke=\"black\" points=\"213.05,-239.32 204.74,-232.76 207.14,-243.08 213.05,-239.32\"/>\n",
       "<text text-anchor=\"middle\" x=\"242.09\" y=\"-254.8\" font-family=\"Times,serif\" font-size=\"14.00\">partOf</text>\n",
       "</g>\n",
       "<!-- 1642869099 -->\n",
       "<g id=\"node4\" class=\"node\">\n",
       "<title>1642869099</title>\n",
       "<ellipse fill=\"#cd6600\" stroke=\"black\" cx=\"337.09\" cy=\"-215\" rx=\"27\" ry=\"18\"/>\n",
       "<text text-anchor=\"middle\" x=\"337.09\" y=\"-211.3\" font-family=\"Times,serif\" font-size=\"14.00\">ID</text>\n",
       "</g>\n",
       "<!-- 964547093&#45;&gt;1642869099 -->\n",
       "<g id=\"edge5\" class=\"edge\">\n",
       "<title>964547093&#45;&gt;1642869099</title>\n",
       "<path fill=\"none\" stroke=\"black\" d=\"M264.83,-285.01C281.35,-269.24 306.36,-245.35 322.2,-230.22\"/>\n",
       "<text text-anchor=\"middle\" x=\"316.59\" y=\"-254.8\" font-family=\"Times,serif\" font-size=\"14.00\">similar</text>\n",
       "</g>\n",
       "<!-- 637374639 -->\n",
       "<g id=\"node3\" class=\"node\">\n",
       "<title>637374639</title>\n",
       "<ellipse fill=\"#b2dfee\" stroke=\"black\" cx=\"126.09\" cy=\"-128\" rx=\"126.18\" ry=\"18\"/>\n",
       "<text text-anchor=\"middle\" x=\"126.09\" y=\"-124.3\" font-family=\"Times,serif\" font-size=\"14.00\">FIFA 21 complete player dataset</text>\n",
       "</g>\n",
       "<!-- 3290482378&#45;&gt;637374639 -->\n",
       "<g id=\"edge2\" class=\"edge\">\n",
       "<title>3290482378&#45;&gt;637374639</title>\n",
       "<path fill=\"none\" stroke=\"black\" d=\"M180.65,-197.21C170.85,-184.95 157.38,-168.11 146.28,-154.24\"/>\n",
       "<polygon fill=\"black\" stroke=\"black\" points=\"148.71,-151.67 139.73,-146.05 143.24,-156.04 148.71,-151.67\"/>\n",
       "<text text-anchor=\"middle\" x=\"183.09\" y=\"-167.8\" font-family=\"Times,serif\" font-size=\"14.00\">partOf</text>\n",
       "</g>\n",
       "<!-- 2750950071 -->\n",
       "<g id=\"node5\" class=\"node\">\n",
       "<title>2750950071</title>\n",
       "<ellipse fill=\"#cd6600\" stroke=\"black\" cx=\"371.09\" cy=\"-128\" rx=\"100.98\" ry=\"18\"/>\n",
       "<text text-anchor=\"middle\" x=\"371.09\" y=\"-124.3\" font-family=\"Times,serif\" font-size=\"14.00\">FIFA22_official_data.csv</text>\n",
       "</g>\n",
       "<!-- 1642869099&#45;&gt;2750950071 -->\n",
       "<g id=\"edge3\" class=\"edge\">\n",
       "<title>1642869099&#45;&gt;2750950071</title>\n",
       "<path fill=\"none\" stroke=\"black\" d=\"M343.81,-197.21C348.57,-185.29 355.06,-169.06 360.52,-155.42\"/>\n",
       "<polygon fill=\"black\" stroke=\"black\" points=\"363.8,-156.63 364.27,-146.05 357.31,-154.03 363.8,-156.63\"/>\n",
       "<text text-anchor=\"middle\" x=\"374.09\" y=\"-167.8\" font-family=\"Times,serif\" font-size=\"14.00\">partOf</text>\n",
       "</g>\n",
       "<!-- 822726302 -->\n",
       "<g id=\"node6\" class=\"node\">\n",
       "<title>822726302</title>\n",
       "<ellipse fill=\"#cd6600\" stroke=\"black\" cx=\"371.09\" cy=\"-41\" rx=\"120.78\" ry=\"18\"/>\n",
       "<text text-anchor=\"middle\" x=\"371.09\" y=\"-37.3\" font-family=\"Times,serif\" font-size=\"14.00\">FIFA22 OFFICIAL DATASET</text>\n",
       "</g>\n",
       "<!-- 2750950071&#45;&gt;822726302 -->\n",
       "<g id=\"edge4\" class=\"edge\">\n",
       "<title>2750950071&#45;&gt;822726302</title>\n",
       "<path fill=\"none\" stroke=\"black\" d=\"M371.09,-109.8C371.09,-98.16 371.09,-82.55 371.09,-69.24\"/>\n",
       "<polygon fill=\"black\" stroke=\"black\" points=\"374.59,-69.18 371.09,-59.18 367.59,-69.18 374.59,-69.18\"/>\n",
       "<text text-anchor=\"middle\" x=\"389.09\" y=\"-80.8\" font-family=\"Times,serif\" font-size=\"14.00\">partOf</text>\n",
       "</g>\n",
       "</g>\n",
       "</svg>\n"
      ],
      "text/plain": [
       "<graphviz.dot.Digraph at 0x7f7aa0018370>"
      ]
     },
     "execution_count": 10,
     "metadata": {},
     "output_type": "execute_result"
    }
   ],
   "source": [
    "kglids.get_path_between_tables(df.iloc[0], recommendations_join.iloc[1], hops=1)"
   ]
  },
  {
   "cell_type": "code",
   "execution_count": null,
   "outputs": [],
   "source": [
    "# df1 = pd.read_csv(df.iloc[0].Path_to_table)\n",
    "# df1"
   ],
   "metadata": {
    "collapsed": false,
    "pycharm": {
     "name": "#%%\n"
    }
   }
  },
  {
   "cell_type": "markdown",
   "source": [
    "##### <b> Enrichment by Join </b>"
   ],
   "metadata": {
    "collapsed": false,
    "pycharm": {
     "name": "#%% md\n"
    }
   }
  },
  {
   "cell_type": "code",
   "execution_count": null,
   "outputs": [],
   "source": [
    "# df2 = pd.read_csv(recommendations_join.iloc[1].Path_to_table)\n",
    "# df2"
   ],
   "metadata": {
    "collapsed": false,
    "pycharm": {
     "name": "#%%\n"
    }
   }
  },
  {
   "cell_type": "code",
   "execution_count": null,
   "outputs": [],
   "source": [
    "# result_join = df1.merge(df2, left_on='sofifa_id', right_on='ID')\n",
    "# result_join"
   ],
   "metadata": {
    "collapsed": false,
    "pycharm": {
     "name": "#%%\n"
    }
   }
  },
  {
   "cell_type": "markdown",
   "source": [
    "##### <b>8. Search pipelines</b> "
   ],
   "metadata": {
    "collapsed": false,
    "pycharm": {
     "name": "#%% md\n"
    }
   }
  },
  {
   "cell_type": "code",
   "execution_count": null,
   "outputs": [],
   "source": [
    "kglids.get_pipelines_info()"
   ],
   "metadata": {
    "collapsed": false,
    "pycharm": {
     "name": "#%%\n"
    }
   }
  },
  {
   "cell_type": "code",
   "execution_count": null,
   "outputs": [],
   "source": [
    "kglids.get_pipelines_info(author='DanB')"
   ],
   "metadata": {
    "collapsed": false,
    "pycharm": {
     "name": "#%%\n"
    }
   }
  },
  {
   "cell_type": "markdown",
   "source": [
    "#### <b>9. Most recent pipeline</b> "
   ],
   "metadata": {
    "collapsed": false,
    "pycharm": {
     "name": "#%% md\n"
    }
   }
  },
  {
   "cell_type": "code",
   "execution_count": null,
   "outputs": [],
   "source": [
    "kglids.get_most_recent_pipeline()"
   ],
   "metadata": {
    "collapsed": false,
    "pycharm": {
     "name": "#%%\n"
    }
   }
  },
  {
   "cell_type": "code",
   "execution_count": null,
   "outputs": [],
   "source": [
    "kglids.get_most_recent_pipeline(dataset='fedesoriano.hepatitis-c-dataset')"
   ],
   "metadata": {
    "collapsed": false,
    "pycharm": {
     "name": "#%%\n"
    }
   }
  },
  {
   "cell_type": "markdown",
   "source": [
    "#### <b>10.<i> Top-k</i> scoring pipelines</b> "
   ],
   "metadata": {
    "collapsed": false,
    "pycharm": {
     "name": "#%% md\n"
    }
   }
  },
  {
   "cell_type": "code",
   "execution_count": null,
   "outputs": [],
   "source": [
    "kglids.get_top_k_scoring_pipelines_for_dataset(k=5)"
   ],
   "metadata": {
    "collapsed": false,
    "pycharm": {
     "name": "#%%\n"
    }
   }
  },
  {
   "cell_type": "code",
   "execution_count": null,
   "outputs": [],
   "source": [
    "kglids.get_top_k_scoring_pipelines_for_dataset(dataset='fedesoriano.hepatitis-c-dataset', k=5)"
   ],
   "metadata": {
    "collapsed": false,
    "pycharm": {
     "name": "#%%\n"
    }
   }
  },
  {
   "cell_type": "markdown",
   "source": [
    "#### <b>11. Search classifiers used in a dataset</b> "
   ],
   "metadata": {
    "collapsed": false,
    "pycharm": {
     "name": "#%% md\n"
    }
   }
  },
  {
   "cell_type": "code",
   "execution_count": null,
   "outputs": [],
   "source": [
    "df = kglids.search_classifier(dataset='fedesoriano.hepatitis-c-dataset')\n",
    "df.head(10)"
   ],
   "metadata": {
    "collapsed": false,
    "pycharm": {
     "name": "#%%\n"
    }
   }
  },
  {
   "cell_type": "markdown",
   "source": [
    "#### <b>12. Fetch hyperparameters </b> "
   ],
   "metadata": {
    "collapsed": false,
    "pycharm": {
     "name": "#%% md\n"
    }
   }
  },
  {
   "cell_type": "code",
   "execution_count": null,
   "outputs": [],
   "source": [
    "kglids.get_hyperparameters(df.iloc[8])"
   ],
   "metadata": {
    "collapsed": false,
    "pycharm": {
     "name": "#%%\n"
    }
   }
  },
  {
   "cell_type": "markdown",
   "source": [
    "#### <b>13. Visualize library utilization</b> "
   ],
   "metadata": {
    "collapsed": false,
    "pycharm": {
     "name": "#%% md\n"
    }
   }
  },
  {
   "cell_type": "code",
   "execution_count": null,
   "outputs": [],
   "source": [
    "kglids.get_top_k_library_used()"
   ],
   "metadata": {
    "collapsed": false,
    "pycharm": {
     "name": "#%%\n"
    }
   }
  },
  {
   "cell_type": "code",
   "execution_count": null,
   "outputs": [],
   "source": [
    "kglids.get_top_k_library_used(dataset='fedesoriano.hepatitis-c-dataset', k=15)"
   ],
   "metadata": {
    "collapsed": false,
    "pycharm": {
     "name": "#%%\n"
    }
   }
  },
  {
   "cell_type": "markdown",
   "source": [
    "#### <b>14. Top-k library used for a specific task</b> \n",
    "tasks supported: classification, regression, visualization and clustering"
   ],
   "metadata": {
    "collapsed": false,
    "pycharm": {
     "name": "#%% md\n"
    }
   }
  },
  {
   "cell_type": "code",
   "execution_count": null,
   "outputs": [],
   "source": [
    "kglids.get_top_used_libraries(k = 5, task = 'classification')"
   ],
   "metadata": {
    "collapsed": false,
    "pycharm": {
     "name": "#%%\n"
    }
   }
  },
  {
   "cell_type": "code",
   "execution_count": null,
   "outputs": [],
   "source": [
    "kglids.get_top_used_libraries(k = 5, task = 'regression')"
   ],
   "metadata": {
    "collapsed": false,
    "pycharm": {
     "name": "#%%\n"
    }
   }
  },
  {
   "cell_type": "code",
   "execution_count": null,
   "outputs": [],
   "source": [
    "kglids.get_top_used_libraries(k = 5, task = 'visualization')"
   ],
   "metadata": {
    "collapsed": false,
    "pycharm": {
     "name": "#%%\n"
    }
   }
  },
  {
   "cell_type": "code",
   "execution_count": null,
   "outputs": [],
   "source": [
    "kglids.get_top_used_libraries(k = 5, task = 'clustering')"
   ],
   "metadata": {
    "collapsed": false,
    "pycharm": {
     "name": "#%%\n"
    }
   }
  },
  {
   "cell_type": "code",
   "execution_count": 25,
   "metadata": {},
   "outputs": [
    {
     "name": "stderr",
     "output_type": "stream",
     "text": [
      "100%|██████████| 18/18 [00:00<00:00, 60205.32it/s]"
     ]
    },
    {
     "name": "stdout",
     "output_type": "stream",
     "text": [
      "Maximum 2 libraries were found for regression: \n",
      "sklearn, lightgbm\n"
     ]
    },
    {
     "name": "stderr",
     "output_type": "stream",
     "text": [
      "\n"
     ]
    },
    {
     "data": {
      "text/html": [
       "<div>\n",
       "<style scoped>\n",
       "    .dataframe tbody tr th:only-of-type {\n",
       "        vertical-align: middle;\n",
       "    }\n",
       "\n",
       "    .dataframe tbody tr th {\n",
       "        vertical-align: top;\n",
       "    }\n",
       "\n",
       "    .dataframe thead th {\n",
       "        text-align: right;\n",
       "    }\n",
       "</style>\n",
       "<table border=\"1\" class=\"dataframe\">\n",
       "  <thead>\n",
       "    <tr style=\"text-align: right;\">\n",
       "      <th></th>\n",
       "      <th>Library</th>\n",
       "      <th>Module</th>\n",
       "      <th>Pipeline</th>\n",
       "      <th>Dataset</th>\n",
       "    </tr>\n",
       "  </thead>\n",
       "  <tbody>\n",
       "    <tr>\n",
       "      <th>0</th>\n",
       "      <td>lightgbm</td>\n",
       "      <td>LGBMRegressor</td>\n",
       "      <td>Electric Price Prediction - LightGBM</td>\n",
       "      <td>nicholasjhana.energy-consumption-generation-pr...</td>\n",
       "    </tr>\n",
       "    <tr>\n",
       "      <th>1</th>\n",
       "      <td>sklearn</td>\n",
       "      <td>linear_model.LogisticRegression</td>\n",
       "      <td>Best of 14 Alg. to classify Mushrooms (100% acc.)</td>\n",
       "      <td>uciml.mushroom-classification</td>\n",
       "    </tr>\n",
       "    <tr>\n",
       "      <th>2</th>\n",
       "      <td>sklearn</td>\n",
       "      <td>tree.ExtraTreeRegressor</td>\n",
       "      <td>U-Courses Exploration + Reviews Prediction</td>\n",
       "      <td>andrewmvd.udemy-courses</td>\n",
       "    </tr>\n",
       "    <tr>\n",
       "      <th>3</th>\n",
       "      <td>sklearn</td>\n",
       "      <td>linear_model.LinearRegression</td>\n",
       "      <td>U-Courses Exploration + Reviews Prediction</td>\n",
       "      <td>andrewmvd.udemy-courses</td>\n",
       "    </tr>\n",
       "    <tr>\n",
       "      <th>4</th>\n",
       "      <td>sklearn</td>\n",
       "      <td>linear_model.SGDRegressor</td>\n",
       "      <td>prediction energetique 3 - modelisation simple</td>\n",
       "      <td>city-of-seattle.sea-building-energy-benchmarking</td>\n",
       "    </tr>\n",
       "    <tr>\n",
       "      <th>5</th>\n",
       "      <td>sklearn</td>\n",
       "      <td>linear_model.LinearRegression</td>\n",
       "      <td>Marcos - Aprendizado de MÃ¡quinas - Treinament...</td>\n",
       "      <td>agajorte.zoo-animals-extended-dataset</td>\n",
       "    </tr>\n",
       "    <tr>\n",
       "      <th>6</th>\n",
       "      <td>sklearn</td>\n",
       "      <td>linear_model.LogisticRegression</td>\n",
       "      <td>Marcos - Aprendizado de MÃ¡quinas - Treinament...</td>\n",
       "      <td>agajorte.zoo-animals-extended-dataset</td>\n",
       "    </tr>\n",
       "    <tr>\n",
       "      <th>7</th>\n",
       "      <td>sklearn</td>\n",
       "      <td>ensemble.GradientBoostingRegressor</td>\n",
       "      <td>Intro to Parameter Tuning in Scikit [Acc :0.9175]</td>\n",
       "      <td>uciml.red-wine-quality-cortez-et-al-2009</td>\n",
       "    </tr>\n",
       "    <tr>\n",
       "      <th>8</th>\n",
       "      <td>sklearn</td>\n",
       "      <td>linear_model.LinearRegression</td>\n",
       "      <td>Intro to Parameter Tuning in Scikit [Acc :0.9175]</td>\n",
       "      <td>uciml.red-wine-quality-cortez-et-al-2009</td>\n",
       "    </tr>\n",
       "    <tr>\n",
       "      <th>9</th>\n",
       "      <td>sklearn</td>\n",
       "      <td>ensemble.RandomForestRegressor</td>\n",
       "      <td>Intro to Parameter Tuning in Scikit [Acc :0.9175]</td>\n",
       "      <td>uciml.red-wine-quality-cortez-et-al-2009</td>\n",
       "    </tr>\n",
       "    <tr>\n",
       "      <th>10</th>\n",
       "      <td>sklearn</td>\n",
       "      <td>ensemble.AdaBoostRegressor</td>\n",
       "      <td>Intro to Parameter Tuning in Scikit [Acc :0.9175]</td>\n",
       "      <td>uciml.red-wine-quality-cortez-et-al-2009</td>\n",
       "    </tr>\n",
       "    <tr>\n",
       "      <th>11</th>\n",
       "      <td>sklearn</td>\n",
       "      <td>linear_model.LogisticRegression</td>\n",
       "      <td>Hepatitis-C Prediction</td>\n",
       "      <td>fedesoriano.hepatitis-c-dataset</td>\n",
       "    </tr>\n",
       "    <tr>\n",
       "      <th>12</th>\n",
       "      <td>sklearn</td>\n",
       "      <td>linear_model.LogisticRegression</td>\n",
       "      <td>sky-survey-dr16 classifier</td>\n",
       "      <td>muhakabartay.sloan-digital-sky-survey-dr16</td>\n",
       "    </tr>\n",
       "    <tr>\n",
       "      <th>13</th>\n",
       "      <td>sklearn</td>\n",
       "      <td>ensemble.GradientBoostingRegressor</td>\n",
       "      <td>Electric Price Prediction - LightGBM</td>\n",
       "      <td>nicholasjhana.energy-consumption-generation-pr...</td>\n",
       "    </tr>\n",
       "    <tr>\n",
       "      <th>14</th>\n",
       "      <td>sklearn</td>\n",
       "      <td>linear_model.LinearRegression</td>\n",
       "      <td>Energy Price Prediction [ML]</td>\n",
       "      <td>nicholasjhana.energy-consumption-generation-pr...</td>\n",
       "    </tr>\n",
       "    <tr>\n",
       "      <th>15</th>\n",
       "      <td>sklearn</td>\n",
       "      <td>linear_model.LogisticRegression</td>\n",
       "      <td>Mobile Price Prediction ð·ï¸ð±</td>\n",
       "      <td>iabhishekofficial.mobile-price-classification</td>\n",
       "    </tr>\n",
       "    <tr>\n",
       "      <th>16</th>\n",
       "      <td>sklearn</td>\n",
       "      <td>ensemble.RandomForestRegressor</td>\n",
       "      <td>U-Courses Exploration + Reviews Prediction</td>\n",
       "      <td>andrewmvd.udemy-courses</td>\n",
       "    </tr>\n",
       "    <tr>\n",
       "      <th>17</th>\n",
       "      <td>sklearn</td>\n",
       "      <td>linear_model.SGDRegressor</td>\n",
       "      <td>U-Courses Exploration + Reviews Prediction</td>\n",
       "      <td>andrewmvd.udemy-courses</td>\n",
       "    </tr>\n",
       "  </tbody>\n",
       "</table>\n",
       "</div>"
      ],
      "text/plain": [
       "     Library                              Module  \\\n",
       "0   lightgbm                       LGBMRegressor   \n",
       "1    sklearn     linear_model.LogisticRegression   \n",
       "2    sklearn             tree.ExtraTreeRegressor   \n",
       "3    sklearn       linear_model.LinearRegression   \n",
       "4    sklearn           linear_model.SGDRegressor   \n",
       "5    sklearn       linear_model.LinearRegression   \n",
       "6    sklearn     linear_model.LogisticRegression   \n",
       "7    sklearn  ensemble.GradientBoostingRegressor   \n",
       "8    sklearn       linear_model.LinearRegression   \n",
       "9    sklearn      ensemble.RandomForestRegressor   \n",
       "10   sklearn          ensemble.AdaBoostRegressor   \n",
       "11   sklearn     linear_model.LogisticRegression   \n",
       "12   sklearn     linear_model.LogisticRegression   \n",
       "13   sklearn  ensemble.GradientBoostingRegressor   \n",
       "14   sklearn       linear_model.LinearRegression   \n",
       "15   sklearn     linear_model.LogisticRegression   \n",
       "16   sklearn      ensemble.RandomForestRegressor   \n",
       "17   sklearn           linear_model.SGDRegressor   \n",
       "\n",
       "                                             Pipeline  \\\n",
       "0                Electric Price Prediction - LightGBM   \n",
       "1   Best of 14 Alg. to classify Mushrooms (100% acc.)   \n",
       "2          U-Courses Exploration + Reviews Prediction   \n",
       "3          U-Courses Exploration + Reviews Prediction   \n",
       "4      prediction energetique 3 - modelisation simple   \n",
       "5   Marcos - Aprendizado de MÃ¡quinas - Treinament...   \n",
       "6   Marcos - Aprendizado de MÃ¡quinas - Treinament...   \n",
       "7   Intro to Parameter Tuning in Scikit [Acc :0.9175]   \n",
       "8   Intro to Parameter Tuning in Scikit [Acc :0.9175]   \n",
       "9   Intro to Parameter Tuning in Scikit [Acc :0.9175]   \n",
       "10  Intro to Parameter Tuning in Scikit [Acc :0.9175]   \n",
       "11                             Hepatitis-C Prediction   \n",
       "12                         sky-survey-dr16 classifier   \n",
       "13               Electric Price Prediction - LightGBM   \n",
       "14                       Energy Price Prediction [ML]   \n",
       "15                Mobile Price Prediction ð·ï¸ð±   \n",
       "16         U-Courses Exploration + Reviews Prediction   \n",
       "17         U-Courses Exploration + Reviews Prediction   \n",
       "\n",
       "                                              Dataset  \n",
       "0   nicholasjhana.energy-consumption-generation-pr...  \n",
       "1                       uciml.mushroom-classification  \n",
       "2                             andrewmvd.udemy-courses  \n",
       "3                             andrewmvd.udemy-courses  \n",
       "4    city-of-seattle.sea-building-energy-benchmarking  \n",
       "5               agajorte.zoo-animals-extended-dataset  \n",
       "6               agajorte.zoo-animals-extended-dataset  \n",
       "7            uciml.red-wine-quality-cortez-et-al-2009  \n",
       "8            uciml.red-wine-quality-cortez-et-al-2009  \n",
       "9            uciml.red-wine-quality-cortez-et-al-2009  \n",
       "10           uciml.red-wine-quality-cortez-et-al-2009  \n",
       "11                    fedesoriano.hepatitis-c-dataset  \n",
       "12         muhakabartay.sloan-digital-sky-survey-dr16  \n",
       "13  nicholasjhana.energy-consumption-generation-pr...  \n",
       "14  nicholasjhana.energy-consumption-generation-pr...  \n",
       "15      iabhishekofficial.mobile-price-classification  \n",
       "16                            andrewmvd.udemy-courses  \n",
       "17                            andrewmvd.udemy-courses  "
      ]
     },
     "execution_count": 25,
     "metadata": {},
     "output_type": "execute_result"
    }
   ],
   "source": [
    "kglids.get_top_used_libraries(k = 5, task = 'regression')"
   ]
  },
  {
   "cell_type": "code",
   "execution_count": 26,
   "metadata": {},
   "outputs": [
    {
     "name": "stderr",
     "output_type": "stream",
     "text": [
      "100%|██████████| 112/112 [00:00<00:00, 9832.39it/s]"
     ]
    },
    {
     "name": "stdout",
     "output_type": "stream",
     "text": [
      "Showing the top 5 libraries for visualization: \n",
      "plotly, sklearn, bokeh, fbprophet, matplotlib\n"
     ]
    },
    {
     "name": "stderr",
     "output_type": "stream",
     "text": [
      "\n"
     ]
    },
    {
     "data": {
      "text/html": [
       "<div>\n",
       "<style scoped>\n",
       "    .dataframe tbody tr th:only-of-type {\n",
       "        vertical-align: middle;\n",
       "    }\n",
       "\n",
       "    .dataframe tbody tr th {\n",
       "        vertical-align: top;\n",
       "    }\n",
       "\n",
       "    .dataframe thead th {\n",
       "        text-align: right;\n",
       "    }\n",
       "</style>\n",
       "<table border=\"1\" class=\"dataframe\">\n",
       "  <thead>\n",
       "    <tr style=\"text-align: right;\">\n",
       "      <th></th>\n",
       "      <th>Library</th>\n",
       "      <th>Module</th>\n",
       "      <th>Pipeline</th>\n",
       "      <th>Dataset</th>\n",
       "    </tr>\n",
       "  </thead>\n",
       "  <tbody>\n",
       "    <tr>\n",
       "      <th>0</th>\n",
       "      <td>bokeh</td>\n",
       "      <td>plotting.figure</td>\n",
       "      <td>Exploring EPL</td>\n",
       "      <td>thefc17.epl-results-19932018</td>\n",
       "    </tr>\n",
       "    <tr>\n",
       "      <th>1</th>\n",
       "      <td>bokeh</td>\n",
       "      <td>plotting.show</td>\n",
       "      <td>Space Missions: EDA Plotly</td>\n",
       "      <td>agirlcoding.all-space-missions-from-1957</td>\n",
       "    </tr>\n",
       "    <tr>\n",
       "      <th>2</th>\n",
       "      <td>bokeh</td>\n",
       "      <td>plotting.show</td>\n",
       "      <td>ð Data Visualization Analysis</td>\n",
       "      <td>iabhishekofficial.mobile-price-classification</td>\n",
       "    </tr>\n",
       "    <tr>\n",
       "      <th>3</th>\n",
       "      <td>bokeh</td>\n",
       "      <td>plotting.show</td>\n",
       "      <td>What's this? Chai and DataScience?</td>\n",
       "      <td>rohanrao.chai-time-data-science</td>\n",
       "    </tr>\n",
       "    <tr>\n",
       "      <th>4</th>\n",
       "      <td>bokeh</td>\n",
       "      <td>plotting.show</td>\n",
       "      <td>Exploring EPL</td>\n",
       "      <td>thefc17.epl-results-19932018</td>\n",
       "    </tr>\n",
       "    <tr>\n",
       "      <th>...</th>\n",
       "      <td>...</td>\n",
       "      <td>...</td>\n",
       "      <td>...</td>\n",
       "      <td>...</td>\n",
       "    </tr>\n",
       "    <tr>\n",
       "      <th>90</th>\n",
       "      <td>sklearn</td>\n",
       "      <td>metrics.plot_precision_recall_curve</td>\n",
       "      <td>Nueral Network Regression VS Sklearn Algorithms</td>\n",
       "      <td>alexteboul.heart-disease-health-indicators-dat...</td>\n",
       "    </tr>\n",
       "    <tr>\n",
       "      <th>91</th>\n",
       "      <td>sklearn</td>\n",
       "      <td>metrics.plot_confusion_matrix</td>\n",
       "      <td>Log_KNN</td>\n",
       "      <td>alexteboul.heart-disease-health-indicators-dat...</td>\n",
       "    </tr>\n",
       "    <tr>\n",
       "      <th>92</th>\n",
       "      <td>sklearn</td>\n",
       "      <td>metrics.plot_roc_curve</td>\n",
       "      <td>Energy Price Prediction [ML]</td>\n",
       "      <td>nicholasjhana.energy-consumption-generation-pr...</td>\n",
       "    </tr>\n",
       "    <tr>\n",
       "      <th>93</th>\n",
       "      <td>sklearn</td>\n",
       "      <td>metrics.plot_confusion_matrix</td>\n",
       "      <td>ML models Feature Importance</td>\n",
       "      <td>becksddf.churn-in-telecoms-dataset</td>\n",
       "    </tr>\n",
       "    <tr>\n",
       "      <th>94</th>\n",
       "      <td>sklearn</td>\n",
       "      <td>metrics.plot_precision_recall_curve</td>\n",
       "      <td>Gender Classification-II</td>\n",
       "      <td>hb20007.gender-classification</td>\n",
       "    </tr>\n",
       "  </tbody>\n",
       "</table>\n",
       "<p>95 rows × 4 columns</p>\n",
       "</div>"
      ],
      "text/plain": [
       "    Library                               Module  \\\n",
       "0     bokeh                      plotting.figure   \n",
       "1     bokeh                        plotting.show   \n",
       "2     bokeh                        plotting.show   \n",
       "3     bokeh                        plotting.show   \n",
       "4     bokeh                        plotting.show   \n",
       "..      ...                                  ...   \n",
       "90  sklearn  metrics.plot_precision_recall_curve   \n",
       "91  sklearn        metrics.plot_confusion_matrix   \n",
       "92  sklearn               metrics.plot_roc_curve   \n",
       "93  sklearn        metrics.plot_confusion_matrix   \n",
       "94  sklearn  metrics.plot_precision_recall_curve   \n",
       "\n",
       "                                           Pipeline  \\\n",
       "0                                     Exploring EPL   \n",
       "1                        Space Missions: EDA Plotly   \n",
       "2                  ð Data Visualization Analysis   \n",
       "3                What's this? Chai and DataScience?   \n",
       "4                                     Exploring EPL   \n",
       "..                                              ...   \n",
       "90  Nueral Network Regression VS Sklearn Algorithms   \n",
       "91                                          Log_KNN   \n",
       "92                     Energy Price Prediction [ML]   \n",
       "93                     ML models Feature Importance   \n",
       "94                         Gender Classification-II   \n",
       "\n",
       "                                              Dataset  \n",
       "0                        thefc17.epl-results-19932018  \n",
       "1            agirlcoding.all-space-missions-from-1957  \n",
       "2       iabhishekofficial.mobile-price-classification  \n",
       "3                     rohanrao.chai-time-data-science  \n",
       "4                        thefc17.epl-results-19932018  \n",
       "..                                                ...  \n",
       "90  alexteboul.heart-disease-health-indicators-dat...  \n",
       "91  alexteboul.heart-disease-health-indicators-dat...  \n",
       "92  nicholasjhana.energy-consumption-generation-pr...  \n",
       "93                 becksddf.churn-in-telecoms-dataset  \n",
       "94                      hb20007.gender-classification  \n",
       "\n",
       "[95 rows x 4 columns]"
      ]
     },
     "execution_count": 26,
     "metadata": {},
     "output_type": "execute_result"
    }
   ],
   "source": [
    "kglids.get_top_used_libraries(k = 5, task = 'visualization')"
   ]
  },
  {
   "cell_type": "code",
   "execution_count": 27,
   "metadata": {},
   "outputs": [
    {
     "name": "stderr",
     "output_type": "stream",
     "text": [
      "100%|██████████| 8/8 [00:00<00:00, 18265.89it/s]"
     ]
    },
    {
     "name": "stdout",
     "output_type": "stream",
     "text": [
      "Maximum 2 libraries were found for clustering: \n",
      "scipy, yellowbrick\n"
     ]
    },
    {
     "name": "stderr",
     "output_type": "stream",
     "text": [
      "\n"
     ]
    },
    {
     "data": {
      "text/html": [
       "<div>\n",
       "<style scoped>\n",
       "    .dataframe tbody tr th:only-of-type {\n",
       "        vertical-align: middle;\n",
       "    }\n",
       "\n",
       "    .dataframe tbody tr th {\n",
       "        vertical-align: top;\n",
       "    }\n",
       "\n",
       "    .dataframe thead th {\n",
       "        text-align: right;\n",
       "    }\n",
       "</style>\n",
       "<table border=\"1\" class=\"dataframe\">\n",
       "  <thead>\n",
       "    <tr style=\"text-align: right;\">\n",
       "      <th></th>\n",
       "      <th>Library</th>\n",
       "      <th>Module</th>\n",
       "      <th>Pipeline</th>\n",
       "      <th>Dataset</th>\n",
       "    </tr>\n",
       "  </thead>\n",
       "  <tbody>\n",
       "    <tr>\n",
       "      <th>0</th>\n",
       "      <td>scipy</td>\n",
       "      <td>cluster.hierarchy.linkage</td>\n",
       "      <td>Machine Learning Tutorial for Beginners</td>\n",
       "      <td>uciml.biomechanical-features-of-orthopedic-pat...</td>\n",
       "    </tr>\n",
       "    <tr>\n",
       "      <th>1</th>\n",
       "      <td>scipy</td>\n",
       "      <td>cluster.hierarchy.dendrogram</td>\n",
       "      <td>Machine Learning Tutorial for Beginners</td>\n",
       "      <td>uciml.biomechanical-features-of-orthopedic-pat...</td>\n",
       "    </tr>\n",
       "    <tr>\n",
       "      <th>2</th>\n",
       "      <td>scipy</td>\n",
       "      <td>cluster.hierarchy.dendrogram</td>\n",
       "      <td>Unsupervised Learning KMeans and Hierarchical</td>\n",
       "      <td>uciml.biomechanical-features-of-orthopedic-pat...</td>\n",
       "    </tr>\n",
       "    <tr>\n",
       "      <th>3</th>\n",
       "      <td>scipy</td>\n",
       "      <td>cluster.hierarchy.linkage</td>\n",
       "      <td>EDA and Machine Learning</td>\n",
       "      <td>uciml.biomechanical-features-of-orthopedic-pat...</td>\n",
       "    </tr>\n",
       "    <tr>\n",
       "      <th>4</th>\n",
       "      <td>scipy</td>\n",
       "      <td>cluster.vq.vq</td>\n",
       "      <td>Super Hero Recommender based on Powers</td>\n",
       "      <td>claudiodavi.superhero-set</td>\n",
       "    </tr>\n",
       "    <tr>\n",
       "      <th>5</th>\n",
       "      <td>scipy</td>\n",
       "      <td>cluster.hierarchy.linkage</td>\n",
       "      <td>Clustering Methods on Stars Dataset</td>\n",
       "      <td>mariopasquato.star-cluster-simulations</td>\n",
       "    </tr>\n",
       "    <tr>\n",
       "      <th>6</th>\n",
       "      <td>yellowbrick</td>\n",
       "      <td>cluster.SilhouetteVisualizer</td>\n",
       "      <td>Catboost classifier for astronomical objects</td>\n",
       "      <td>muhakabartay.sloan-digital-sky-survey-dr16</td>\n",
       "    </tr>\n",
       "    <tr>\n",
       "      <th>7</th>\n",
       "      <td>yellowbrick</td>\n",
       "      <td>cluster.InterclusterDistance</td>\n",
       "      <td>Catboost classifier for astronomical objects</td>\n",
       "      <td>muhakabartay.sloan-digital-sky-survey-dr16</td>\n",
       "    </tr>\n",
       "  </tbody>\n",
       "</table>\n",
       "</div>"
      ],
      "text/plain": [
       "       Library                        Module  \\\n",
       "0        scipy     cluster.hierarchy.linkage   \n",
       "1        scipy  cluster.hierarchy.dendrogram   \n",
       "2        scipy  cluster.hierarchy.dendrogram   \n",
       "3        scipy     cluster.hierarchy.linkage   \n",
       "4        scipy                 cluster.vq.vq   \n",
       "5        scipy     cluster.hierarchy.linkage   \n",
       "6  yellowbrick  cluster.SilhouetteVisualizer   \n",
       "7  yellowbrick  cluster.InterclusterDistance   \n",
       "\n",
       "                                         Pipeline  \\\n",
       "0         Machine Learning Tutorial for Beginners   \n",
       "1         Machine Learning Tutorial for Beginners   \n",
       "2  Unsupervised Learning KMeans and Hierarchical    \n",
       "3                       EDA and Machine Learning    \n",
       "4          Super Hero Recommender based on Powers   \n",
       "5             Clustering Methods on Stars Dataset   \n",
       "6    Catboost classifier for astronomical objects   \n",
       "7    Catboost classifier for astronomical objects   \n",
       "\n",
       "                                             Dataset  \n",
       "0  uciml.biomechanical-features-of-orthopedic-pat...  \n",
       "1  uciml.biomechanical-features-of-orthopedic-pat...  \n",
       "2  uciml.biomechanical-features-of-orthopedic-pat...  \n",
       "3  uciml.biomechanical-features-of-orthopedic-pat...  \n",
       "4                          claudiodavi.superhero-set  \n",
       "5             mariopasquato.star-cluster-simulations  \n",
       "6         muhakabartay.sloan-digital-sky-survey-dr16  \n",
       "7         muhakabartay.sloan-digital-sky-survey-dr16  "
      ]
     },
     "execution_count": 27,
     "metadata": {},
     "output_type": "execute_result"
    }
   ],
   "source": [
    "kglids.get_top_used_libraries(k = 5, task = 'clustering')"
   ]
  }
 ],
 "metadata": {
  "kernelspec": {
   "display_name": "Python 3 (ipykernel)",
   "language": "python",
   "name": "python3"
  },
  "language_info": {
   "codemirror_mode": {
    "name": "ipython",
    "version": 3
   },
   "file_extension": ".py",
   "mimetype": "text/x-python",
   "name": "python",
   "nbconvert_exporter": "python",
   "pygments_lexer": "ipython3",
   "version": "3.8.12"
  }
 },
 "nbformat": 4,
 "nbformat_minor": 1
}