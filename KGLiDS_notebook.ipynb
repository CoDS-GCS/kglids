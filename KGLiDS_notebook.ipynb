{
 "cells": [
  {
   "cell_type": "markdown",
   "metadata": {
    "pycharm": {
     "name": "#%% md\n"
    }
   },
   "source": [
    "## <b>KGLiDS APIs</b>"
   ]
  },
  {
   "cell_type": "code",
   "execution_count": 1,
   "metadata": {
    "pycharm": {
     "name": "#%%\n"
    }
   },
   "outputs": [
    {
     "name": "stdout",
     "output_type": "stream",
     "text": [
      "Connected to Stardog: https://cloud.stardog.com/\n"
     ]
    }
   ],
   "source": [
    "from api.api import KGLiDS\n",
    "import pandas as pd\n",
    "kglids = KGLiDS(endpoint='206.12.92.210', port=5820)"
   ]
  },
  {
   "cell_type": "code",
   "execution_count": 2,
   "metadata": {
    "pycharm": {
     "name": "#%%\n"
    }
   },
   "outputs": [
    {
     "name": "stdout",
     "output_type": "stream",
     "text": [
      "Information captured: \n"
     ]
    },
    {
     "data": {
      "text/html": [
       "<div>\n",
       "<style scoped>\n",
       "    .dataframe tbody tr th:only-of-type {\n",
       "        vertical-align: middle;\n",
       "    }\n",
       "\n",
       "    .dataframe tbody tr th {\n",
       "        vertical-align: top;\n",
       "    }\n",
       "\n",
       "    .dataframe thead th {\n",
       "        text-align: right;\n",
       "    }\n",
       "</style>\n",
       "<table border=\"1\" class=\"dataframe\">\n",
       "  <thead>\n",
       "    <tr style=\"text-align: right;\">\n",
       "      <th></th>\n",
       "      <th>Datasets</th>\n",
       "      <th>Pipelines</th>\n",
       "      <th>Tables</th>\n",
       "      <th>Columns</th>\n",
       "    </tr>\n",
       "  </thead>\n",
       "  <tbody>\n",
       "    <tr>\n",
       "      <th>0</th>\n",
       "      <td>101</td>\n",
       "      <td>969</td>\n",
       "      <td>418</td>\n",
       "      <td>9502</td>\n",
       "    </tr>\n",
       "  </tbody>\n",
       "</table>\n",
       "</div>"
      ],
      "text/plain": [
       "   Datasets  Pipelines  Tables  Columns\n",
       "0       101        969     418     9502"
      ]
     },
     "execution_count": 2,
     "metadata": {},
     "output_type": "execute_result"
    }
   ],
   "source": [
    "kglids.show_graph_info()"
   ]
  },
  {
   "cell_type": "markdown",
   "metadata": {
    "pycharm": {
     "name": "#%% md\n"
    }
   },
   "source": [
    "\n",
    "- <b><i> Running Adhoc-queries on our graph!</i></b> "
   ]
  },
  {
   "cell_type": "markdown",
   "metadata": {
    "pycharm": {
     "name": "#%% md\n"
    }
   },
   "source": [
    "##### <b>1.  Customized queries </b>"
   ]
  },
  {
   "cell_type": "code",
   "execution_count": 3,
   "metadata": {
    "pycharm": {
     "name": "#%%\n"
    }
   },
   "outputs": [
    {
     "data": {
      "text/html": [
       "<div>\n",
       "<style scoped>\n",
       "    .dataframe tbody tr th:only-of-type {\n",
       "        vertical-align: middle;\n",
       "    }\n",
       "\n",
       "    .dataframe tbody tr th {\n",
       "        vertical-align: top;\n",
       "    }\n",
       "\n",
       "    .dataframe thead th {\n",
       "        text-align: right;\n",
       "    }\n",
       "</style>\n",
       "<table border=\"1\" class=\"dataframe\">\n",
       "  <thead>\n",
       "    <tr style=\"text-align: right;\">\n",
       "      <th></th>\n",
       "      <th>source</th>\n",
       "    </tr>\n",
       "  </thead>\n",
       "  <tbody>\n",
       "    <tr>\n",
       "      <th>0</th>\n",
       "      <td>kaggle</td>\n",
       "    </tr>\n",
       "  </tbody>\n",
       "</table>\n",
       "</div>"
      ],
      "text/plain": [
       "   source\n",
       "0  kaggle"
      ]
     },
     "execution_count": 3,
     "metadata": {},
     "output_type": "execute_result"
    }
   ],
   "source": [
    "query = \"\"\" \n",
    "SELECT ?source {\n",
    "?source_id rdf:type    kglids:Source    ;\n",
    "           schema:name ?source          . } \"\"\"\n",
    "kglids.query(query)"
   ]
  },
  {
   "cell_type": "markdown",
   "metadata": {
    "pycharm": {
     "name": "#%% md\n"
    }
   },
   "source": [
    "- <b><i> Pre-defined queries on our graph!</i></b> "
   ]
  },
  {
   "cell_type": "markdown",
   "metadata": {
    "pycharm": {
     "name": "#%% md\n"
    }
   },
   "source": [
    "##### <b><i>Not comfortable with Sparql? No worries!</i></b> \n",
    "###### You can use several KGLiDS APIs to discover useful insights that remain locked inside your Data\n",
    "<hr><br>\n",
    "\n",
    "Note: \n",
    "- All query result(s) are returned in a form of <code>pandas.DataFrame</code> \n",
    "- KGLiDS is a transparent system, you can see the queries used by the system by setting <code>show_query = True</code> in case of every API you wish to use."
   ]
  },
  {
   "cell_type": "markdown",
   "metadata": {
    "pycharm": {
     "name": "#%% md\n"
    }
   },
   "source": [
    "##### <b>2.  Retrieving dataset(s) </b>"
   ]
  },
  {
   "cell_type": "code",
   "execution_count": 4,
   "metadata": {
    "pycharm": {
     "name": "#%%\n"
    }
   },
   "outputs": [
    {
     "data": {
      "text/html": [
       "<div>\n",
       "<style scoped>\n",
       "    .dataframe tbody tr th:only-of-type {\n",
       "        vertical-align: middle;\n",
       "    }\n",
       "\n",
       "    .dataframe tbody tr th {\n",
       "        vertical-align: top;\n",
       "    }\n",
       "\n",
       "    .dataframe thead th {\n",
       "        text-align: right;\n",
       "    }\n",
       "</style>\n",
       "<table border=\"1\" class=\"dataframe\">\n",
       "  <thead>\n",
       "    <tr style=\"text-align: right;\">\n",
       "      <th></th>\n",
       "      <th>Dataset</th>\n",
       "      <th>Number_of_tables</th>\n",
       "    </tr>\n",
       "  </thead>\n",
       "  <tbody>\n",
       "    <tr>\n",
       "      <th>0</th>\n",
       "      <td>COVID-19 Corona Virus India Dataset</td>\n",
       "      <td>8</td>\n",
       "    </tr>\n",
       "    <tr>\n",
       "      <th>1</th>\n",
       "      <td>COVID-19 Dataset</td>\n",
       "      <td>6</td>\n",
       "    </tr>\n",
       "    <tr>\n",
       "      <th>2</th>\n",
       "      <td>COVID-19 Healthy Diet Dataset</td>\n",
       "      <td>5</td>\n",
       "    </tr>\n",
       "    <tr>\n",
       "      <th>3</th>\n",
       "      <td>COVID-19 Indonesia Dataset</td>\n",
       "      <td>1</td>\n",
       "    </tr>\n",
       "    <tr>\n",
       "      <th>4</th>\n",
       "      <td>COVID-19 World Vaccination Progress</td>\n",
       "      <td>2</td>\n",
       "    </tr>\n",
       "    <tr>\n",
       "      <th>...</th>\n",
       "      <td>...</td>\n",
       "      <td>...</td>\n",
       "    </tr>\n",
       "    <tr>\n",
       "      <th>96</th>\n",
       "      <td>uciml.red-wine-quality-cortez-et-al-2009</td>\n",
       "      <td>22</td>\n",
       "    </tr>\n",
       "    <tr>\n",
       "      <th>97</th>\n",
       "      <td>unitednations.international-greenhouse-gas-emi...</td>\n",
       "      <td>3</td>\n",
       "    </tr>\n",
       "    <tr>\n",
       "      <th>98</th>\n",
       "      <td>upadorprofzs.testes</td>\n",
       "      <td>8</td>\n",
       "    </tr>\n",
       "    <tr>\n",
       "      <th>99</th>\n",
       "      <td>vitaliymalcev.russian-passenger-air-service-20...</td>\n",
       "      <td>14</td>\n",
       "    </tr>\n",
       "    <tr>\n",
       "      <th>100</th>\n",
       "      <td>ylchang.coffee-shop-sample-data-1113</td>\n",
       "      <td>10</td>\n",
       "    </tr>\n",
       "  </tbody>\n",
       "</table>\n",
       "<p>101 rows × 2 columns</p>\n",
       "</div>"
      ],
      "text/plain": [
       "                                               Dataset  Number_of_tables\n",
       "0                  COVID-19 Corona Virus India Dataset                 8\n",
       "1                                     COVID-19 Dataset                 6\n",
       "2                        COVID-19 Healthy Diet Dataset                 5\n",
       "3                           COVID-19 Indonesia Dataset                 1\n",
       "4                  COVID-19 World Vaccination Progress                 2\n",
       "..                                                 ...               ...\n",
       "96            uciml.red-wine-quality-cortez-et-al-2009                22\n",
       "97   unitednations.international-greenhouse-gas-emi...                 3\n",
       "98                                 upadorprofzs.testes                 8\n",
       "99   vitaliymalcev.russian-passenger-air-service-20...                14\n",
       "100               ylchang.coffee-shop-sample-data-1113                10\n",
       "\n",
       "[101 rows x 2 columns]"
      ]
     },
     "execution_count": 4,
     "metadata": {},
     "output_type": "execute_result"
    }
   ],
   "source": [
    "kglids.get_datasets_info()"
   ]
  },
  {
   "cell_type": "markdown",
   "metadata": {
    "pycharm": {
     "name": "#%% md\n"
    }
   },
   "source": [
    "##### <b>3.  Retrieving table(s) </b>"
   ]
  },
  {
   "cell_type": "code",
   "execution_count": 5,
   "metadata": {
    "pycharm": {
     "name": "#%%\n"
    }
   },
   "outputs": [
    {
     "name": "stdout",
     "output_type": "stream",
     "text": [
      "Showing all available table(s): \n"
     ]
    },
    {
     "data": {
      "text/html": [
       "<div>\n",
       "<style scoped>\n",
       "    .dataframe tbody tr th:only-of-type {\n",
       "        vertical-align: middle;\n",
       "    }\n",
       "\n",
       "    .dataframe tbody tr th {\n",
       "        vertical-align: top;\n",
       "    }\n",
       "\n",
       "    .dataframe thead th {\n",
       "        text-align: right;\n",
       "    }\n",
       "</style>\n",
       "<table border=\"1\" class=\"dataframe\">\n",
       "  <thead>\n",
       "    <tr style=\"text-align: right;\">\n",
       "      <th></th>\n",
       "      <th>Table</th>\n",
       "      <th>Dataset</th>\n",
       "      <th>Path_to_table</th>\n",
       "    </tr>\n",
       "  </thead>\n",
       "  <tbody>\n",
       "    <tr>\n",
       "      <th>0</th>\n",
       "      <td>state_level_daily.csv</td>\n",
       "      <td>COVID-19 Corona Virus India Dataset</td>\n",
       "      <td>/data/shubham/datasets/data_lake/COVID-19 Coro...</td>\n",
       "    </tr>\n",
       "    <tr>\n",
       "      <th>1</th>\n",
       "      <td>state_level_latest.csv</td>\n",
       "      <td>COVID-19 Corona Virus India Dataset</td>\n",
       "      <td>/data/shubham/datasets/data_lake/COVID-19 Coro...</td>\n",
       "    </tr>\n",
       "    <tr>\n",
       "      <th>2</th>\n",
       "      <td>patients_data.csv</td>\n",
       "      <td>COVID-19 Corona Virus India Dataset</td>\n",
       "      <td>/data/shubham/datasets/data_lake/COVID-19 Coro...</td>\n",
       "    </tr>\n",
       "    <tr>\n",
       "      <th>3</th>\n",
       "      <td>tests_day_wise.csv</td>\n",
       "      <td>COVID-19 Corona Virus India Dataset</td>\n",
       "      <td>/data/shubham/datasets/data_lake/COVID-19 Coro...</td>\n",
       "    </tr>\n",
       "    <tr>\n",
       "      <th>4</th>\n",
       "      <td>nation_level_daily.csv</td>\n",
       "      <td>COVID-19 Corona Virus India Dataset</td>\n",
       "      <td>/data/shubham/datasets/data_lake/COVID-19 Coro...</td>\n",
       "    </tr>\n",
       "    <tr>\n",
       "      <th>...</th>\n",
       "      <td>...</td>\n",
       "      <td>...</td>\n",
       "      <td>...</td>\n",
       "    </tr>\n",
       "    <tr>\n",
       "      <th>413</th>\n",
       "      <td>pastry inventory.csv</td>\n",
       "      <td>ylchang.coffee-shop-sample-data-1113</td>\n",
       "      <td>/data/shubham/datasets/data_lake/ylchang.coffe...</td>\n",
       "    </tr>\n",
       "    <tr>\n",
       "      <th>414</th>\n",
       "      <td>201904 sales reciepts.csv</td>\n",
       "      <td>ylchang.coffee-shop-sample-data-1113</td>\n",
       "      <td>/data/shubham/datasets/data_lake/ylchang.coffe...</td>\n",
       "    </tr>\n",
       "    <tr>\n",
       "      <th>415</th>\n",
       "      <td>sales_outlet.csv</td>\n",
       "      <td>ylchang.coffee-shop-sample-data-1113</td>\n",
       "      <td>/data/shubham/datasets/data_lake/ylchang.coffe...</td>\n",
       "    </tr>\n",
       "    <tr>\n",
       "      <th>416</th>\n",
       "      <td>product.csv</td>\n",
       "      <td>ylchang.coffee-shop-sample-data-1113</td>\n",
       "      <td>/data/shubham/datasets/data_lake/ylchang.coffe...</td>\n",
       "    </tr>\n",
       "    <tr>\n",
       "      <th>417</th>\n",
       "      <td>Dates.csv</td>\n",
       "      <td>ylchang.coffee-shop-sample-data-1113</td>\n",
       "      <td>/data/shubham/datasets/data_lake/ylchang.coffe...</td>\n",
       "    </tr>\n",
       "  </tbody>\n",
       "</table>\n",
       "<p>418 rows × 3 columns</p>\n",
       "</div>"
      ],
      "text/plain": [
       "                         Table                               Dataset  \\\n",
       "0        state_level_daily.csv   COVID-19 Corona Virus India Dataset   \n",
       "1       state_level_latest.csv   COVID-19 Corona Virus India Dataset   \n",
       "2            patients_data.csv   COVID-19 Corona Virus India Dataset   \n",
       "3           tests_day_wise.csv   COVID-19 Corona Virus India Dataset   \n",
       "4       nation_level_daily.csv   COVID-19 Corona Virus India Dataset   \n",
       "..                         ...                                   ...   \n",
       "413       pastry inventory.csv  ylchang.coffee-shop-sample-data-1113   \n",
       "414  201904 sales reciepts.csv  ylchang.coffee-shop-sample-data-1113   \n",
       "415           sales_outlet.csv  ylchang.coffee-shop-sample-data-1113   \n",
       "416                product.csv  ylchang.coffee-shop-sample-data-1113   \n",
       "417                  Dates.csv  ylchang.coffee-shop-sample-data-1113   \n",
       "\n",
       "                                         Path_to_table  \n",
       "0    /data/shubham/datasets/data_lake/COVID-19 Coro...  \n",
       "1    /data/shubham/datasets/data_lake/COVID-19 Coro...  \n",
       "2    /data/shubham/datasets/data_lake/COVID-19 Coro...  \n",
       "3    /data/shubham/datasets/data_lake/COVID-19 Coro...  \n",
       "4    /data/shubham/datasets/data_lake/COVID-19 Coro...  \n",
       "..                                                 ...  \n",
       "413  /data/shubham/datasets/data_lake/ylchang.coffe...  \n",
       "414  /data/shubham/datasets/data_lake/ylchang.coffe...  \n",
       "415  /data/shubham/datasets/data_lake/ylchang.coffe...  \n",
       "416  /data/shubham/datasets/data_lake/ylchang.coffe...  \n",
       "417  /data/shubham/datasets/data_lake/ylchang.coffe...  \n",
       "\n",
       "[418 rows x 3 columns]"
      ]
     },
     "execution_count": 5,
     "metadata": {},
     "output_type": "execute_result"
    }
   ],
   "source": [
    "kglids.get_tables_info()"
   ]
  },
  {
   "cell_type": "code",
   "execution_count": 6,
   "metadata": {
    "pycharm": {
     "name": "#%%\n"
    }
   },
   "outputs": [
    {
     "name": "stdout",
     "output_type": "stream",
     "text": [
      "Showing table(s) for 'UK COVID-19 Data' dataset: \n"
     ]
    },
    {
     "data": {
      "text/html": [
       "<div>\n",
       "<style scoped>\n",
       "    .dataframe tbody tr th:only-of-type {\n",
       "        vertical-align: middle;\n",
       "    }\n",
       "\n",
       "    .dataframe tbody tr th {\n",
       "        vertical-align: top;\n",
       "    }\n",
       "\n",
       "    .dataframe thead th {\n",
       "        text-align: right;\n",
       "    }\n",
       "</style>\n",
       "<table border=\"1\" class=\"dataframe\">\n",
       "  <thead>\n",
       "    <tr style=\"text-align: right;\">\n",
       "      <th></th>\n",
       "      <th>Table</th>\n",
       "      <th>Dataset</th>\n",
       "      <th>Path_to_table</th>\n",
       "    </tr>\n",
       "  </thead>\n",
       "  <tbody>\n",
       "    <tr>\n",
       "      <th>0</th>\n",
       "      <td>UK_Devolved_Nations_COVID_Dataset.csv</td>\n",
       "      <td>UK COVID-19 Data</td>\n",
       "      <td>/data/shubham/datasets/data_lake/UK COVID-19 D...</td>\n",
       "    </tr>\n",
       "    <tr>\n",
       "      <th>1</th>\n",
       "      <td>UK_Local_Authority_UTLA_COVID_Dataset.csv</td>\n",
       "      <td>UK COVID-19 Data</td>\n",
       "      <td>/data/shubham/datasets/data_lake/UK COVID-19 D...</td>\n",
       "    </tr>\n",
       "    <tr>\n",
       "      <th>2</th>\n",
       "      <td>England_Regions_COVID_Dataset.csv</td>\n",
       "      <td>UK COVID-19 Data</td>\n",
       "      <td>/data/shubham/datasets/data_lake/UK COVID-19 D...</td>\n",
       "    </tr>\n",
       "    <tr>\n",
       "      <th>3</th>\n",
       "      <td>UK_National_Total_COVID_Dataset.csv</td>\n",
       "      <td>UK COVID-19 Data</td>\n",
       "      <td>/data/shubham/datasets/data_lake/UK COVID-19 D...</td>\n",
       "    </tr>\n",
       "    <tr>\n",
       "      <th>4</th>\n",
       "      <td>NEW_Official_Population_Data_ONS_mid-2019.csv</td>\n",
       "      <td>UK COVID-19 Data</td>\n",
       "      <td>/data/shubham/datasets/data_lake/UK COVID-19 D...</td>\n",
       "    </tr>\n",
       "    <tr>\n",
       "      <th>5</th>\n",
       "      <td>Populations_for_UK_and_Devolved_Nations.csv</td>\n",
       "      <td>UK COVID-19 Data</td>\n",
       "      <td>/data/shubham/datasets/data_lake/UK COVID-19 D...</td>\n",
       "    </tr>\n",
       "  </tbody>\n",
       "</table>\n",
       "</div>"
      ],
      "text/plain": [
       "                                           Table           Dataset  \\\n",
       "0          UK_Devolved_Nations_COVID_Dataset.csv  UK COVID-19 Data   \n",
       "1      UK_Local_Authority_UTLA_COVID_Dataset.csv  UK COVID-19 Data   \n",
       "2              England_Regions_COVID_Dataset.csv  UK COVID-19 Data   \n",
       "3            UK_National_Total_COVID_Dataset.csv  UK COVID-19 Data   \n",
       "4  NEW_Official_Population_Data_ONS_mid-2019.csv  UK COVID-19 Data   \n",
       "5    Populations_for_UK_and_Devolved_Nations.csv  UK COVID-19 Data   \n",
       "\n",
       "                                       Path_to_table  \n",
       "0  /data/shubham/datasets/data_lake/UK COVID-19 D...  \n",
       "1  /data/shubham/datasets/data_lake/UK COVID-19 D...  \n",
       "2  /data/shubham/datasets/data_lake/UK COVID-19 D...  \n",
       "3  /data/shubham/datasets/data_lake/UK COVID-19 D...  \n",
       "4  /data/shubham/datasets/data_lake/UK COVID-19 D...  \n",
       "5  /data/shubham/datasets/data_lake/UK COVID-19 D...  "
      ]
     },
     "execution_count": 6,
     "metadata": {},
     "output_type": "execute_result"
    }
   ],
   "source": [
    "kglids.get_tables_info(dataset='UK COVID-19 Data')\n"
   ]
  },
  {
   "cell_type": "markdown",
   "metadata": {
    "pycharm": {
     "name": "#%% md\n"
    }
   },
   "source": [
    "###### <b>Enriching table(s) with more columns using KGLiDS's recommendations </b>"
   ]
  },
  {
   "cell_type": "markdown",
   "metadata": {
    "pycharm": {
     "name": "#%% md\n"
    }
   },
   "source": [
    "##### <b>4. Recommending tables by column name search</b>"
   ]
  },
  {
   "cell_type": "code",
   "execution_count": 7,
   "metadata": {
    "pycharm": {
     "name": "#%%\n"
    }
   },
   "outputs": [
    {
     "name": "stdout",
     "output_type": "stream",
     "text": [
      "Showing recommendations as per the following conditions:\n",
      "Condition =  [['player', 'club']]\n"
     ]
    },
    {
     "data": {
      "text/html": [
       "<div>\n",
       "<style scoped>\n",
       "    .dataframe tbody tr th:only-of-type {\n",
       "        vertical-align: middle;\n",
       "    }\n",
       "\n",
       "    .dataframe tbody tr th {\n",
       "        vertical-align: top;\n",
       "    }\n",
       "\n",
       "    .dataframe thead th {\n",
       "        text-align: right;\n",
       "    }\n",
       "</style>\n",
       "<table border=\"1\" class=\"dataframe\">\n",
       "  <thead>\n",
       "    <tr style=\"text-align: right;\">\n",
       "      <th></th>\n",
       "      <th>Dataset</th>\n",
       "      <th>Table</th>\n",
       "      <th>Number_of_columns</th>\n",
       "      <th>Number_of_rows</th>\n",
       "      <th>Path_to_table</th>\n",
       "    </tr>\n",
       "  </thead>\n",
       "  <tbody>\n",
       "    <tr>\n",
       "      <th>0</th>\n",
       "      <td>FIFA 21 complete player dataset</td>\n",
       "      <td>players_21.csv</td>\n",
       "      <td>106.0</td>\n",
       "      <td>18944.0</td>\n",
       "      <td>/data/shubham/datasets/data_lake/FIFA 21 compl...</td>\n",
       "    </tr>\n",
       "    <tr>\n",
       "      <th>1</th>\n",
       "      <td>FIFA 21 complete player dataset</td>\n",
       "      <td>players_20.csv</td>\n",
       "      <td>106.0</td>\n",
       "      <td>18483.0</td>\n",
       "      <td>/data/shubham/datasets/data_lake/FIFA 21 compl...</td>\n",
       "    </tr>\n",
       "    <tr>\n",
       "      <th>2</th>\n",
       "      <td>FIFA 20 complete player dataset</td>\n",
       "      <td>players_20.csv</td>\n",
       "      <td>104.0</td>\n",
       "      <td>18278.0</td>\n",
       "      <td>/data/shubham/datasets/data_lake/FIFA 20 compl...</td>\n",
       "    </tr>\n",
       "    <tr>\n",
       "      <th>3</th>\n",
       "      <td>FIFA 21 complete player dataset</td>\n",
       "      <td>players_19.csv</td>\n",
       "      <td>106.0</td>\n",
       "      <td>18085.0</td>\n",
       "      <td>/data/shubham/datasets/data_lake/FIFA 21 compl...</td>\n",
       "    </tr>\n",
       "    <tr>\n",
       "      <th>4</th>\n",
       "      <td>FIFA 20 complete player dataset</td>\n",
       "      <td>players_19.csv</td>\n",
       "      <td>104.0</td>\n",
       "      <td>17770.0</td>\n",
       "      <td>/data/shubham/datasets/data_lake/FIFA 20 compl...</td>\n",
       "    </tr>\n",
       "    <tr>\n",
       "      <th>5</th>\n",
       "      <td>FIFA 20 complete player dataset</td>\n",
       "      <td>players_18.csv</td>\n",
       "      <td>104.0</td>\n",
       "      <td>17592.0</td>\n",
       "      <td>/data/shubham/datasets/data_lake/FIFA 20 compl...</td>\n",
       "    </tr>\n",
       "    <tr>\n",
       "      <th>6</th>\n",
       "      <td>FIFA 21 complete player dataset</td>\n",
       "      <td>players_18.csv</td>\n",
       "      <td>106.0</td>\n",
       "      <td>17954.0</td>\n",
       "      <td>/data/shubham/datasets/data_lake/FIFA 21 compl...</td>\n",
       "    </tr>\n",
       "    <tr>\n",
       "      <th>7</th>\n",
       "      <td>FIFA 21 complete player dataset</td>\n",
       "      <td>players_17.csv</td>\n",
       "      <td>106.0</td>\n",
       "      <td>17597.0</td>\n",
       "      <td>/data/shubham/datasets/data_lake/FIFA 21 compl...</td>\n",
       "    </tr>\n",
       "    <tr>\n",
       "      <th>8</th>\n",
       "      <td>FIFA 20 complete player dataset</td>\n",
       "      <td>players_17.csv</td>\n",
       "      <td>104.0</td>\n",
       "      <td>17009.0</td>\n",
       "      <td>/data/shubham/datasets/data_lake/FIFA 20 compl...</td>\n",
       "    </tr>\n",
       "    <tr>\n",
       "      <th>9</th>\n",
       "      <td>FIFA 20 complete player dataset</td>\n",
       "      <td>players_16.csv</td>\n",
       "      <td>104.0</td>\n",
       "      <td>14881.0</td>\n",
       "      <td>/data/shubham/datasets/data_lake/FIFA 20 compl...</td>\n",
       "    </tr>\n",
       "    <tr>\n",
       "      <th>10</th>\n",
       "      <td>FIFA 21 complete player dataset</td>\n",
       "      <td>players_16.csv</td>\n",
       "      <td>106.0</td>\n",
       "      <td>15623.0</td>\n",
       "      <td>/data/shubham/datasets/data_lake/FIFA 21 compl...</td>\n",
       "    </tr>\n",
       "    <tr>\n",
       "      <th>11</th>\n",
       "      <td>FIFA 21 complete player dataset</td>\n",
       "      <td>players_15.csv</td>\n",
       "      <td>106.0</td>\n",
       "      <td>16155.0</td>\n",
       "      <td>/data/shubham/datasets/data_lake/FIFA 21 compl...</td>\n",
       "    </tr>\n",
       "    <tr>\n",
       "      <th>12</th>\n",
       "      <td>FIFA 20 complete player dataset</td>\n",
       "      <td>players_15.csv</td>\n",
       "      <td>104.0</td>\n",
       "      <td>15465.0</td>\n",
       "      <td>/data/shubham/datasets/data_lake/FIFA 20 compl...</td>\n",
       "    </tr>\n",
       "    <tr>\n",
       "      <th>13</th>\n",
       "      <td>open-source-sports.mens-professional-basketball</td>\n",
       "      <td>basketball_player_allstar.csv</td>\n",
       "      <td>23.0</td>\n",
       "      <td>1609.0</td>\n",
       "      <td>/data/shubham/datasets/data_lake/open-source-s...</td>\n",
       "    </tr>\n",
       "    <tr>\n",
       "      <th>14</th>\n",
       "      <td>open-source-sports.mens-professional-basketball</td>\n",
       "      <td>basketball_draft.csv</td>\n",
       "      <td>11.0</td>\n",
       "      <td>9003.0</td>\n",
       "      <td>/data/shubham/datasets/data_lake/open-source-s...</td>\n",
       "    </tr>\n",
       "    <tr>\n",
       "      <th>15</th>\n",
       "      <td>open-source-sports.mens-professional-basketball</td>\n",
       "      <td>basketball_awards_players.csv</td>\n",
       "      <td>6.0</td>\n",
       "      <td>1719.0</td>\n",
       "      <td>/data/shubham/datasets/data_lake/open-source-s...</td>\n",
       "    </tr>\n",
       "    <tr>\n",
       "      <th>16</th>\n",
       "      <td>FIFA22 OFFICIAL DATASET</td>\n",
       "      <td>FIFA22_official_data.csv</td>\n",
       "      <td>65.0</td>\n",
       "      <td>16710.0</td>\n",
       "      <td>/data/shubham/datasets/data_lake/FIFA22 OFFICI...</td>\n",
       "    </tr>\n",
       "    <tr>\n",
       "      <th>17</th>\n",
       "      <td>FIFA22 OFFICIAL DATASET</td>\n",
       "      <td>FIFA21_official_data.csv</td>\n",
       "      <td>65.0</td>\n",
       "      <td>17108.0</td>\n",
       "      <td>/data/shubham/datasets/data_lake/FIFA22 OFFICI...</td>\n",
       "    </tr>\n",
       "    <tr>\n",
       "      <th>18</th>\n",
       "      <td>FIFA22 OFFICIAL DATASET</td>\n",
       "      <td>FIFA20_official_data.csv</td>\n",
       "      <td>65.0</td>\n",
       "      <td>17104.0</td>\n",
       "      <td>/data/shubham/datasets/data_lake/FIFA22 OFFICI...</td>\n",
       "    </tr>\n",
       "    <tr>\n",
       "      <th>19</th>\n",
       "      <td>FIFA22 OFFICIAL DATASET</td>\n",
       "      <td>FIFA19_official_data.csv</td>\n",
       "      <td>64.0</td>\n",
       "      <td>17943.0</td>\n",
       "      <td>/data/shubham/datasets/data_lake/FIFA22 OFFICI...</td>\n",
       "    </tr>\n",
       "    <tr>\n",
       "      <th>20</th>\n",
       "      <td>FIFA22 OFFICIAL DATASET</td>\n",
       "      <td>FIFA18_official_data.csv</td>\n",
       "      <td>64.0</td>\n",
       "      <td>17927.0</td>\n",
       "      <td>/data/shubham/datasets/data_lake/FIFA22 OFFICI...</td>\n",
       "    </tr>\n",
       "    <tr>\n",
       "      <th>21</th>\n",
       "      <td>FIFA22 OFFICIAL DATASET</td>\n",
       "      <td>FIFA17_official_data.csv</td>\n",
       "      <td>63.0</td>\n",
       "      <td>17560.0</td>\n",
       "      <td>/data/shubham/datasets/data_lake/FIFA22 OFFICI...</td>\n",
       "    </tr>\n",
       "  </tbody>\n",
       "</table>\n",
       "</div>"
      ],
      "text/plain": [
       "                                            Dataset  \\\n",
       "0                   FIFA 21 complete player dataset   \n",
       "1                   FIFA 21 complete player dataset   \n",
       "2                   FIFA 20 complete player dataset   \n",
       "3                   FIFA 21 complete player dataset   \n",
       "4                   FIFA 20 complete player dataset   \n",
       "5                   FIFA 20 complete player dataset   \n",
       "6                   FIFA 21 complete player dataset   \n",
       "7                   FIFA 21 complete player dataset   \n",
       "8                   FIFA 20 complete player dataset   \n",
       "9                   FIFA 20 complete player dataset   \n",
       "10                  FIFA 21 complete player dataset   \n",
       "11                  FIFA 21 complete player dataset   \n",
       "12                  FIFA 20 complete player dataset   \n",
       "13  open-source-sports.mens-professional-basketball   \n",
       "14  open-source-sports.mens-professional-basketball   \n",
       "15  open-source-sports.mens-professional-basketball   \n",
       "16                          FIFA22 OFFICIAL DATASET   \n",
       "17                          FIFA22 OFFICIAL DATASET   \n",
       "18                          FIFA22 OFFICIAL DATASET   \n",
       "19                          FIFA22 OFFICIAL DATASET   \n",
       "20                          FIFA22 OFFICIAL DATASET   \n",
       "21                          FIFA22 OFFICIAL DATASET   \n",
       "\n",
       "                            Table  Number_of_columns  Number_of_rows  \\\n",
       "0                  players_21.csv              106.0         18944.0   \n",
       "1                  players_20.csv              106.0         18483.0   \n",
       "2                  players_20.csv              104.0         18278.0   \n",
       "3                  players_19.csv              106.0         18085.0   \n",
       "4                  players_19.csv              104.0         17770.0   \n",
       "5                  players_18.csv              104.0         17592.0   \n",
       "6                  players_18.csv              106.0         17954.0   \n",
       "7                  players_17.csv              106.0         17597.0   \n",
       "8                  players_17.csv              104.0         17009.0   \n",
       "9                  players_16.csv              104.0         14881.0   \n",
       "10                 players_16.csv              106.0         15623.0   \n",
       "11                 players_15.csv              106.0         16155.0   \n",
       "12                 players_15.csv              104.0         15465.0   \n",
       "13  basketball_player_allstar.csv               23.0          1609.0   \n",
       "14           basketball_draft.csv               11.0          9003.0   \n",
       "15  basketball_awards_players.csv                6.0          1719.0   \n",
       "16       FIFA22_official_data.csv               65.0         16710.0   \n",
       "17       FIFA21_official_data.csv               65.0         17108.0   \n",
       "18       FIFA20_official_data.csv               65.0         17104.0   \n",
       "19       FIFA19_official_data.csv               64.0         17943.0   \n",
       "20       FIFA18_official_data.csv               64.0         17927.0   \n",
       "21       FIFA17_official_data.csv               63.0         17560.0   \n",
       "\n",
       "                                        Path_to_table  \n",
       "0   /data/shubham/datasets/data_lake/FIFA 21 compl...  \n",
       "1   /data/shubham/datasets/data_lake/FIFA 21 compl...  \n",
       "2   /data/shubham/datasets/data_lake/FIFA 20 compl...  \n",
       "3   /data/shubham/datasets/data_lake/FIFA 21 compl...  \n",
       "4   /data/shubham/datasets/data_lake/FIFA 20 compl...  \n",
       "5   /data/shubham/datasets/data_lake/FIFA 20 compl...  \n",
       "6   /data/shubham/datasets/data_lake/FIFA 21 compl...  \n",
       "7   /data/shubham/datasets/data_lake/FIFA 21 compl...  \n",
       "8   /data/shubham/datasets/data_lake/FIFA 20 compl...  \n",
       "9   /data/shubham/datasets/data_lake/FIFA 20 compl...  \n",
       "10  /data/shubham/datasets/data_lake/FIFA 21 compl...  \n",
       "11  /data/shubham/datasets/data_lake/FIFA 21 compl...  \n",
       "12  /data/shubham/datasets/data_lake/FIFA 20 compl...  \n",
       "13  /data/shubham/datasets/data_lake/open-source-s...  \n",
       "14  /data/shubham/datasets/data_lake/open-source-s...  \n",
       "15  /data/shubham/datasets/data_lake/open-source-s...  \n",
       "16  /data/shubham/datasets/data_lake/FIFA22 OFFICI...  \n",
       "17  /data/shubham/datasets/data_lake/FIFA22 OFFICI...  \n",
       "18  /data/shubham/datasets/data_lake/FIFA22 OFFICI...  \n",
       "19  /data/shubham/datasets/data_lake/FIFA22 OFFICI...  \n",
       "20  /data/shubham/datasets/data_lake/FIFA22 OFFICI...  \n",
       "21  /data/shubham/datasets/data_lake/FIFA22 OFFICI...  "
      ]
     },
     "execution_count": 7,
     "metadata": {},
     "output_type": "execute_result"
    }
   ],
   "source": [
    "df = kglids.search_tables_on(conditions=[['player', 'club']])\n",
    "df"
   ]
  },
  {
   "cell_type": "markdown",
   "metadata": {
    "pycharm": {
     "name": "#%% md\n"
    }
   },
   "source": [
    "##### <b>5. Recommending unionable tables (based on column names)</b>"
   ]
  },
  {
   "cell_type": "code",
   "execution_count": 8,
   "metadata": {
    "pycharm": {
     "name": "#%%\n"
    }
   },
   "outputs": [
    {
     "name": "stdout",
     "output_type": "stream",
     "text": [
      "Showing the top-10 unionable table recommendations:\n"
     ]
    },
    {
     "data": {
      "text/html": [
       "<div>\n",
       "<style scoped>\n",
       "    .dataframe tbody tr th:only-of-type {\n",
       "        vertical-align: middle;\n",
       "    }\n",
       "\n",
       "    .dataframe tbody tr th {\n",
       "        vertical-align: top;\n",
       "    }\n",
       "\n",
       "    .dataframe thead th {\n",
       "        text-align: right;\n",
       "    }\n",
       "</style>\n",
       "<table border=\"1\" class=\"dataframe\">\n",
       "  <thead>\n",
       "    <tr style=\"text-align: right;\">\n",
       "      <th></th>\n",
       "      <th>Dataset</th>\n",
       "      <th>Recommended_table</th>\n",
       "      <th>Score</th>\n",
       "      <th>Path_to_table</th>\n",
       "    </tr>\n",
       "  </thead>\n",
       "  <tbody>\n",
       "    <tr>\n",
       "      <th>0</th>\n",
       "      <td>FIFA 20 complete player dataset</td>\n",
       "      <td>players_20.csv</td>\n",
       "      <td>280.659</td>\n",
       "      <td>/data/shubham/datasets/data_lake/FIFA 20 compl...</td>\n",
       "    </tr>\n",
       "    <tr>\n",
       "      <th>1</th>\n",
       "      <td>FIFA 20 complete player dataset</td>\n",
       "      <td>players_19.csv</td>\n",
       "      <td>238.174</td>\n",
       "      <td>/data/shubham/datasets/data_lake/FIFA 20 compl...</td>\n",
       "    </tr>\n",
       "    <tr>\n",
       "      <th>2</th>\n",
       "      <td>FIFA 20 complete player dataset</td>\n",
       "      <td>players_18.csv</td>\n",
       "      <td>238.174</td>\n",
       "      <td>/data/shubham/datasets/data_lake/FIFA 20 compl...</td>\n",
       "    </tr>\n",
       "    <tr>\n",
       "      <th>3</th>\n",
       "      <td>FIFA 20 complete player dataset</td>\n",
       "      <td>players_17.csv</td>\n",
       "      <td>237.174</td>\n",
       "      <td>/data/shubham/datasets/data_lake/FIFA 20 compl...</td>\n",
       "    </tr>\n",
       "    <tr>\n",
       "      <th>4</th>\n",
       "      <td>FIFA 20 complete player dataset</td>\n",
       "      <td>players_15.csv</td>\n",
       "      <td>235.174</td>\n",
       "      <td>/data/shubham/datasets/data_lake/FIFA 20 compl...</td>\n",
       "    </tr>\n",
       "    <tr>\n",
       "      <th>5</th>\n",
       "      <td>FIFA 20 complete player dataset</td>\n",
       "      <td>players_16.csv</td>\n",
       "      <td>235.174</td>\n",
       "      <td>/data/shubham/datasets/data_lake/FIFA 20 compl...</td>\n",
       "    </tr>\n",
       "    <tr>\n",
       "      <th>6</th>\n",
       "      <td>FIFA22 OFFICIAL DATASET</td>\n",
       "      <td>FIFA19_official_data.csv</td>\n",
       "      <td>65.596</td>\n",
       "      <td>/data/shubham/datasets/data_lake/FIFA22 OFFICI...</td>\n",
       "    </tr>\n",
       "    <tr>\n",
       "      <th>7</th>\n",
       "      <td>FIFA22 OFFICIAL DATASET</td>\n",
       "      <td>FIFA17_official_data.csv</td>\n",
       "      <td>63.561</td>\n",
       "      <td>/data/shubham/datasets/data_lake/FIFA22 OFFICI...</td>\n",
       "    </tr>\n",
       "    <tr>\n",
       "      <th>8</th>\n",
       "      <td>FIFA22 OFFICIAL DATASET</td>\n",
       "      <td>FIFA18_official_data.csv</td>\n",
       "      <td>63.561</td>\n",
       "      <td>/data/shubham/datasets/data_lake/FIFA22 OFFICI...</td>\n",
       "    </tr>\n",
       "    <tr>\n",
       "      <th>9</th>\n",
       "      <td>FIFA22 OFFICIAL DATASET</td>\n",
       "      <td>FIFA22_official_data.csv</td>\n",
       "      <td>58.263</td>\n",
       "      <td>/data/shubham/datasets/data_lake/FIFA22 OFFICI...</td>\n",
       "    </tr>\n",
       "  </tbody>\n",
       "</table>\n",
       "</div>"
      ],
      "text/plain": [
       "                           Dataset         Recommended_table    Score  \\\n",
       "0  FIFA 20 complete player dataset            players_20.csv  280.659   \n",
       "1  FIFA 20 complete player dataset            players_19.csv  238.174   \n",
       "2  FIFA 20 complete player dataset            players_18.csv  238.174   \n",
       "3  FIFA 20 complete player dataset            players_17.csv  237.174   \n",
       "4  FIFA 20 complete player dataset            players_15.csv  235.174   \n",
       "5  FIFA 20 complete player dataset            players_16.csv  235.174   \n",
       "6          FIFA22 OFFICIAL DATASET  FIFA19_official_data.csv   65.596   \n",
       "7          FIFA22 OFFICIAL DATASET  FIFA17_official_data.csv   63.561   \n",
       "8          FIFA22 OFFICIAL DATASET  FIFA18_official_data.csv   63.561   \n",
       "9          FIFA22 OFFICIAL DATASET  FIFA22_official_data.csv   58.263   \n",
       "\n",
       "                                       Path_to_table  \n",
       "0  /data/shubham/datasets/data_lake/FIFA 20 compl...  \n",
       "1  /data/shubham/datasets/data_lake/FIFA 20 compl...  \n",
       "2  /data/shubham/datasets/data_lake/FIFA 20 compl...  \n",
       "3  /data/shubham/datasets/data_lake/FIFA 20 compl...  \n",
       "4  /data/shubham/datasets/data_lake/FIFA 20 compl...  \n",
       "5  /data/shubham/datasets/data_lake/FIFA 20 compl...  \n",
       "6  /data/shubham/datasets/data_lake/FIFA22 OFFICI...  \n",
       "7  /data/shubham/datasets/data_lake/FIFA22 OFFICI...  \n",
       "8  /data/shubham/datasets/data_lake/FIFA22 OFFICI...  \n",
       "9  /data/shubham/datasets/data_lake/FIFA22 OFFICI...  "
      ]
     },
     "execution_count": 8,
     "metadata": {},
     "output_type": "execute_result"
    }
   ],
   "source": [
    "recommendations_union = kglids.recommend_k_unionable_tables(df.iloc[0], k = 10)\n",
    "recommendations_union"
   ]
  },
  {
   "cell_type": "markdown",
   "metadata": {
    "pycharm": {
     "name": "#%% md\n"
    }
   },
   "source": [
    "##### <b>6. Recommending unionable tables (based on column values)</b>"
   ]
  },
  {
   "cell_type": "code",
   "execution_count": 9,
   "metadata": {
    "pycharm": {
     "name": "#%%\n"
    }
   },
   "outputs": [
    {
     "name": "stdout",
     "output_type": "stream",
     "text": [
      "Showing the top-3 joinable table recommendations:\n"
     ]
    },
    {
     "data": {
      "text/html": [
       "<div>\n",
       "<style scoped>\n",
       "    .dataframe tbody tr th:only-of-type {\n",
       "        vertical-align: middle;\n",
       "    }\n",
       "\n",
       "    .dataframe tbody tr th {\n",
       "        vertical-align: top;\n",
       "    }\n",
       "\n",
       "    .dataframe thead th {\n",
       "        text-align: right;\n",
       "    }\n",
       "</style>\n",
       "<table border=\"1\" class=\"dataframe\">\n",
       "  <thead>\n",
       "    <tr style=\"text-align: right;\">\n",
       "      <th></th>\n",
       "      <th>Dataset</th>\n",
       "      <th>Recommended_table</th>\n",
       "      <th>Score</th>\n",
       "      <th>Path_to_table</th>\n",
       "    </tr>\n",
       "  </thead>\n",
       "  <tbody>\n",
       "    <tr>\n",
       "      <th>0</th>\n",
       "      <td>FIFA 20 complete player dataset</td>\n",
       "      <td>players_20.csv</td>\n",
       "      <td>2.0</td>\n",
       "      <td>/data/shubham/datasets/data_lake/FIFA 20 compl...</td>\n",
       "    </tr>\n",
       "    <tr>\n",
       "      <th>1</th>\n",
       "      <td>FIFA22 OFFICIAL DATASET</td>\n",
       "      <td>FIFA22_official_data.csv</td>\n",
       "      <td>1.0</td>\n",
       "      <td>/data/shubham/datasets/data_lake/FIFA22 OFFICI...</td>\n",
       "    </tr>\n",
       "    <tr>\n",
       "      <th>2</th>\n",
       "      <td>FIFA22 OFFICIAL DATASET</td>\n",
       "      <td>FIFA21_official_data.csv</td>\n",
       "      <td>1.0</td>\n",
       "      <td>/data/shubham/datasets/data_lake/FIFA22 OFFICI...</td>\n",
       "    </tr>\n",
       "  </tbody>\n",
       "</table>\n",
       "</div>"
      ],
      "text/plain": [
       "                           Dataset         Recommended_table  Score  \\\n",
       "0  FIFA 20 complete player dataset            players_20.csv    2.0   \n",
       "1          FIFA22 OFFICIAL DATASET  FIFA22_official_data.csv    1.0   \n",
       "2          FIFA22 OFFICIAL DATASET  FIFA21_official_data.csv    1.0   \n",
       "\n",
       "                                       Path_to_table  \n",
       "0  /data/shubham/datasets/data_lake/FIFA 20 compl...  \n",
       "1  /data/shubham/datasets/data_lake/FIFA22 OFFICI...  \n",
       "2  /data/shubham/datasets/data_lake/FIFA22 OFFICI...  "
      ]
     },
     "execution_count": 9,
     "metadata": {},
     "output_type": "execute_result"
    }
   ],
   "source": [
    "recommendations_join = kglids.recommend_k_joinable_tables(df.iloc[0], k = 5)\n",
    "recommendations_join"
   ]
  },
  {
   "cell_type": "markdown",
   "metadata": {
    "pycharm": {
     "name": "#%% md\n"
    }
   },
   "source": [
    "##### <b>7. Visualizing the path between two joinable tables</b>"
   ]
  },
  {
   "cell_type": "code",
   "execution_count": 10,
   "metadata": {
    "pycharm": {
     "name": "#%%\n"
    }
   },
   "outputs": [
    {
     "data": {
      "image/svg+xml": [
       "<?xml version=\"1.0\" encoding=\"UTF-8\" standalone=\"no\"?>\n",
       "<!DOCTYPE svg PUBLIC \"-//W3C//DTD SVG 1.1//EN\"\n",
       " \"http://www.w3.org/Graphics/SVG/1.1/DTD/svg11.dtd\">\n",
       "<!-- Generated by graphviz version 2.50.0 (20211204.2007)\n",
       " -->\n",
       "<!-- Pages: 1 -->\n",
       "<svg width=\"500pt\" height=\"328pt\"\n",
       " viewBox=\"0.00 0.00 499.98 328.00\" xmlns=\"http://www.w3.org/2000/svg\" xmlns:xlink=\"http://www.w3.org/1999/xlink\">\n",
       "<g id=\"graph0\" class=\"graph\" transform=\"scale(1 1) rotate(0) translate(4 324)\">\n",
       "<polygon fill=\"white\" stroke=\"transparent\" points=\"-4,4 -4,-324 495.98,-324 495.98,4 -4,4\"/>\n",
       "<text text-anchor=\"middle\" x=\"245.99\" y=\"-7.8\" font-family=\"Times,serif\" font-size=\"14.00\">Paths between starting nodes in blue and target nodes in orange</text>\n",
       "<!-- 964547093 -->\n",
       "<g id=\"node1\" class=\"node\">\n",
       "<title>964547093</title>\n",
       "<ellipse fill=\"#b2dfee\" stroke=\"black\" cx=\"248.09\" cy=\"-302\" rx=\"42.49\" ry=\"18\"/>\n",
       "<text text-anchor=\"middle\" x=\"248.09\" y=\"-298.3\" font-family=\"Times,serif\" font-size=\"14.00\">sofifa_id</text>\n",
       "</g>\n",
       "<!-- 3290482378 -->\n",
       "<g id=\"node2\" class=\"node\">\n",
       "<title>3290482378</title>\n",
       "<ellipse fill=\"#b2dfee\" stroke=\"black\" cx=\"194.09\" cy=\"-215\" rx=\"63.89\" ry=\"18\"/>\n",
       "<text text-anchor=\"middle\" x=\"194.09\" y=\"-211.3\" font-family=\"Times,serif\" font-size=\"14.00\">players_21.csv</text>\n",
       "</g>\n",
       "<!-- 964547093&#45;&gt;3290482378 -->\n",
       "<g id=\"edge1\" class=\"edge\">\n",
       "<title>964547093&#45;&gt;3290482378</title>\n",
       "<path fill=\"none\" stroke=\"black\" d=\"M237.42,-284.21C229.65,-271.98 219,-255.21 210.2,-241.36\"/>\n",
       "<polygon fill=\"black\" stroke=\"black\" points=\"213.05,-239.32 204.74,-232.76 207.14,-243.08 213.05,-239.32\"/>\n",
       "<text text-anchor=\"middle\" x=\"242.09\" y=\"-254.8\" font-family=\"Times,serif\" font-size=\"14.00\">partOf</text>\n",
       "</g>\n",
       "<!-- 1642869099 -->\n",
       "<g id=\"node4\" class=\"node\">\n",
       "<title>1642869099</title>\n",
       "<ellipse fill=\"#cd6600\" stroke=\"black\" cx=\"337.09\" cy=\"-215\" rx=\"27\" ry=\"18\"/>\n",
       "<text text-anchor=\"middle\" x=\"337.09\" y=\"-211.3\" font-family=\"Times,serif\" font-size=\"14.00\">ID</text>\n",
       "</g>\n",
       "<!-- 964547093&#45;&gt;1642869099 -->\n",
       "<g id=\"edge5\" class=\"edge\">\n",
       "<title>964547093&#45;&gt;1642869099</title>\n",
       "<path fill=\"none\" stroke=\"black\" d=\"M264.83,-285.01C281.35,-269.24 306.36,-245.35 322.2,-230.22\"/>\n",
       "<text text-anchor=\"middle\" x=\"316.59\" y=\"-254.8\" font-family=\"Times,serif\" font-size=\"14.00\">similar</text>\n",
       "</g>\n",
       "<!-- 637374639 -->\n",
       "<g id=\"node3\" class=\"node\">\n",
       "<title>637374639</title>\n",
       "<ellipse fill=\"#b2dfee\" stroke=\"black\" cx=\"126.09\" cy=\"-128\" rx=\"126.18\" ry=\"18\"/>\n",
       "<text text-anchor=\"middle\" x=\"126.09\" y=\"-124.3\" font-family=\"Times,serif\" font-size=\"14.00\">FIFA 21 complete player dataset</text>\n",
       "</g>\n",
       "<!-- 3290482378&#45;&gt;637374639 -->\n",
       "<g id=\"edge2\" class=\"edge\">\n",
       "<title>3290482378&#45;&gt;637374639</title>\n",
       "<path fill=\"none\" stroke=\"black\" d=\"M180.65,-197.21C170.85,-184.95 157.38,-168.11 146.28,-154.24\"/>\n",
       "<polygon fill=\"black\" stroke=\"black\" points=\"148.71,-151.67 139.73,-146.05 143.24,-156.04 148.71,-151.67\"/>\n",
       "<text text-anchor=\"middle\" x=\"183.09\" y=\"-167.8\" font-family=\"Times,serif\" font-size=\"14.00\">partOf</text>\n",
       "</g>\n",
       "<!-- 2750950071 -->\n",
       "<g id=\"node5\" class=\"node\">\n",
       "<title>2750950071</title>\n",
       "<ellipse fill=\"#cd6600\" stroke=\"black\" cx=\"371.09\" cy=\"-128\" rx=\"100.98\" ry=\"18\"/>\n",
       "<text text-anchor=\"middle\" x=\"371.09\" y=\"-124.3\" font-family=\"Times,serif\" font-size=\"14.00\">FIFA22_official_data.csv</text>\n",
       "</g>\n",
       "<!-- 1642869099&#45;&gt;2750950071 -->\n",
       "<g id=\"edge3\" class=\"edge\">\n",
       "<title>1642869099&#45;&gt;2750950071</title>\n",
       "<path fill=\"none\" stroke=\"black\" d=\"M343.81,-197.21C348.57,-185.29 355.06,-169.06 360.52,-155.42\"/>\n",
       "<polygon fill=\"black\" stroke=\"black\" points=\"363.8,-156.63 364.27,-146.05 357.31,-154.03 363.8,-156.63\"/>\n",
       "<text text-anchor=\"middle\" x=\"374.09\" y=\"-167.8\" font-family=\"Times,serif\" font-size=\"14.00\">partOf</text>\n",
       "</g>\n",
       "<!-- 822726302 -->\n",
       "<g id=\"node6\" class=\"node\">\n",
       "<title>822726302</title>\n",
       "<ellipse fill=\"#cd6600\" stroke=\"black\" cx=\"371.09\" cy=\"-41\" rx=\"120.78\" ry=\"18\"/>\n",
       "<text text-anchor=\"middle\" x=\"371.09\" y=\"-37.3\" font-family=\"Times,serif\" font-size=\"14.00\">FIFA22 OFFICIAL DATASET</text>\n",
       "</g>\n",
       "<!-- 2750950071&#45;&gt;822726302 -->\n",
       "<g id=\"edge4\" class=\"edge\">\n",
       "<title>2750950071&#45;&gt;822726302</title>\n",
       "<path fill=\"none\" stroke=\"black\" d=\"M371.09,-109.8C371.09,-98.16 371.09,-82.55 371.09,-69.24\"/>\n",
       "<polygon fill=\"black\" stroke=\"black\" points=\"374.59,-69.18 371.09,-59.18 367.59,-69.18 374.59,-69.18\"/>\n",
       "<text text-anchor=\"middle\" x=\"389.09\" y=\"-80.8\" font-family=\"Times,serif\" font-size=\"14.00\">partOf</text>\n",
       "</g>\n",
       "</g>\n",
       "</svg>\n"
      ],
      "text/plain": [
       "<graphviz.dot.Digraph at 0x7fb048fe55b0>"
      ]
     },
     "execution_count": 10,
     "metadata": {},
     "output_type": "execute_result"
    }
   ],
   "source": [
    "kglids.get_path_between_tables(df.iloc[0], recommendations_join.iloc[1], hops=1)"
   ]
  },
  {
   "cell_type": "raw",
   "metadata": {
    "pycharm": {
     "name": "#%%\n"
    }
   },
   "source": [
    "df1 = pd.read_csv(df.iloc[0].Path_to_table)\n",
    "df1"
   ]
  },
  {
   "cell_type": "markdown",
   "metadata": {
    "pycharm": {
     "name": "#%% md\n"
    }
   },
   "source": [
    "##### <b> Enrichment by Join </b>"
   ]
  },
  {
   "cell_type": "raw",
   "metadata": {
    "pycharm": {
     "name": "#%%\n"
    }
   },
   "source": [
    "df2 = pd.read_csv(recommendations_join.iloc[1].Path_to_table)\n",
    "df2"
   ]
  },
  {
   "cell_type": "raw",
   "metadata": {
    "pycharm": {
     "name": "#%%\n"
    }
   },
   "source": [
    "result_join = df1.merge(df2, left_on='sofifa_id', right_on='ID')\n",
    "result_join"
   ]
  },
  {
   "cell_type": "markdown",
   "metadata": {
    "pycharm": {
     "name": "#%% md\n"
    }
   },
   "source": [
    "##### <b>8. Search pipelines</b> "
   ]
  },
  {
   "cell_type": "code",
   "execution_count": 12,
   "metadata": {
    "pycharm": {
     "name": "#%%\n"
    }
   },
   "outputs": [
    {
     "data": {
      "text/html": [
       "<div>\n",
       "<style scoped>\n",
       "    .dataframe tbody tr th:only-of-type {\n",
       "        vertical-align: middle;\n",
       "    }\n",
       "\n",
       "    .dataframe tbody tr th {\n",
       "        vertical-align: top;\n",
       "    }\n",
       "\n",
       "    .dataframe thead th {\n",
       "        text-align: right;\n",
       "    }\n",
       "</style>\n",
       "<table border=\"1\" class=\"dataframe\">\n",
       "  <thead>\n",
       "    <tr style=\"text-align: right;\">\n",
       "      <th></th>\n",
       "      <th>Pipeline</th>\n",
       "      <th>Dataset</th>\n",
       "      <th>Author</th>\n",
       "      <th>Written_on</th>\n",
       "      <th>Number_of_votes</th>\n",
       "      <th>Score</th>\n",
       "    </tr>\n",
       "  </thead>\n",
       "  <tbody>\n",
       "    <tr>\n",
       "      <th>0</th>\n",
       "      <td>How Models Work</td>\n",
       "      <td>iabhishekofficial.mobile-price-classification</td>\n",
       "      <td>DanB</td>\n",
       "      <td>2022-01-05 13:51:41</td>\n",
       "      <td>5315</td>\n",
       "      <td>0.834509</td>\n",
       "    </tr>\n",
       "    <tr>\n",
       "      <th>1</th>\n",
       "      <td>Your First Machine Learning Model</td>\n",
       "      <td>iabhishekofficial.mobile-price-classification</td>\n",
       "      <td>DanB</td>\n",
       "      <td>2021-11-09 00:01:04</td>\n",
       "      <td>2909</td>\n",
       "      <td>0.634321</td>\n",
       "    </tr>\n",
       "    <tr>\n",
       "      <th>2</th>\n",
       "      <td>Model Validation</td>\n",
       "      <td>iabhishekofficial.mobile-price-classification</td>\n",
       "      <td>DanB</td>\n",
       "      <td>2021-11-09 00:00:51</td>\n",
       "      <td>2659</td>\n",
       "      <td>0.765677</td>\n",
       "    </tr>\n",
       "    <tr>\n",
       "      <th>3</th>\n",
       "      <td>Underfitting and Overfitting</td>\n",
       "      <td>iabhishekofficial.mobile-price-classification</td>\n",
       "      <td>DanB</td>\n",
       "      <td>2021-11-09 00:01:33</td>\n",
       "      <td>2502</td>\n",
       "      <td>0.644229</td>\n",
       "    </tr>\n",
       "    <tr>\n",
       "      <th>4</th>\n",
       "      <td>Machine Learning Tutorial for Beginners</td>\n",
       "      <td>uciml.biomechanical-features-of-orthopedic-pat...</td>\n",
       "      <td>DATAI</td>\n",
       "      <td>2018-07-24 14:43:45</td>\n",
       "      <td>2129</td>\n",
       "      <td>0.895508</td>\n",
       "    </tr>\n",
       "    <tr>\n",
       "      <th>...</th>\n",
       "      <td>...</td>\n",
       "      <td>...</td>\n",
       "      <td>...</td>\n",
       "      <td>...</td>\n",
       "      <td>...</td>\n",
       "      <td>...</td>\n",
       "    </tr>\n",
       "    <tr>\n",
       "      <th>964</th>\n",
       "      <td>Predicting EPL table for 2019-2020</td>\n",
       "      <td>idoyo92.epl-stats-20192020</td>\n",
       "      <td>anupriyo</td>\n",
       "      <td>2020-07-28 10:16:17</td>\n",
       "      <td>0</td>\n",
       "      <td>0.987387</td>\n",
       "    </tr>\n",
       "    <tr>\n",
       "      <th>965</th>\n",
       "      <td>notebookc8a19c85bb</td>\n",
       "      <td>fedesoriano.hepatitis-c-dataset</td>\n",
       "      <td>Moschopoulos Apo</td>\n",
       "      <td>2021-07-15 14:32:57</td>\n",
       "      <td>0</td>\n",
       "      <td>0.816314</td>\n",
       "    </tr>\n",
       "    <tr>\n",
       "      <th>966</th>\n",
       "      <td>Neural nets VS KNN</td>\n",
       "      <td>idoyo92.epl-stats-20192020</td>\n",
       "      <td>Karthiks061992</td>\n",
       "      <td>2020-05-14 21:32:25</td>\n",
       "      <td>0</td>\n",
       "      <td>0.514592</td>\n",
       "    </tr>\n",
       "    <tr>\n",
       "      <th>967</th>\n",
       "      <td>Project-EDA EPL2020</td>\n",
       "      <td>idoyo92.epl-stats-20192020</td>\n",
       "      <td>Ishdeep Chadha</td>\n",
       "      <td>2020-05-24 07:48:36</td>\n",
       "      <td>0</td>\n",
       "      <td>0.600902</td>\n",
       "    </tr>\n",
       "    <tr>\n",
       "      <th>968</th>\n",
       "      <td>Hurricanes</td>\n",
       "      <td>noaa.hurricane-database</td>\n",
       "      <td>Eric Song</td>\n",
       "      <td>2020-04-11 19:47:02</td>\n",
       "      <td>0</td>\n",
       "      <td>0.504264</td>\n",
       "    </tr>\n",
       "  </tbody>\n",
       "</table>\n",
       "<p>969 rows × 6 columns</p>\n",
       "</div>"
      ],
      "text/plain": [
       "                                    Pipeline  \\\n",
       "0                            How Models Work   \n",
       "1          Your First Machine Learning Model   \n",
       "2                           Model Validation   \n",
       "3               Underfitting and Overfitting   \n",
       "4    Machine Learning Tutorial for Beginners   \n",
       "..                                       ...   \n",
       "964       Predicting EPL table for 2019-2020   \n",
       "965                       notebookc8a19c85bb   \n",
       "966                       Neural nets VS KNN   \n",
       "967                      Project-EDA EPL2020   \n",
       "968                               Hurricanes   \n",
       "\n",
       "                                               Dataset            Author  \\\n",
       "0        iabhishekofficial.mobile-price-classification              DanB   \n",
       "1        iabhishekofficial.mobile-price-classification              DanB   \n",
       "2        iabhishekofficial.mobile-price-classification              DanB   \n",
       "3        iabhishekofficial.mobile-price-classification              DanB   \n",
       "4    uciml.biomechanical-features-of-orthopedic-pat...             DATAI   \n",
       "..                                                 ...               ...   \n",
       "964                         idoyo92.epl-stats-20192020          anupriyo   \n",
       "965                    fedesoriano.hepatitis-c-dataset  Moschopoulos Apo   \n",
       "966                         idoyo92.epl-stats-20192020    Karthiks061992   \n",
       "967                         idoyo92.epl-stats-20192020    Ishdeep Chadha   \n",
       "968                            noaa.hurricane-database         Eric Song   \n",
       "\n",
       "              Written_on  Number_of_votes     Score  \n",
       "0    2022-01-05 13:51:41             5315  0.834509  \n",
       "1    2021-11-09 00:01:04             2909  0.634321  \n",
       "2    2021-11-09 00:00:51             2659  0.765677  \n",
       "3    2021-11-09 00:01:33             2502  0.644229  \n",
       "4    2018-07-24 14:43:45             2129  0.895508  \n",
       "..                   ...              ...       ...  \n",
       "964  2020-07-28 10:16:17                0  0.987387  \n",
       "965  2021-07-15 14:32:57                0  0.816314  \n",
       "966  2020-05-14 21:32:25                0  0.514592  \n",
       "967  2020-05-24 07:48:36                0  0.600902  \n",
       "968  2020-04-11 19:47:02                0  0.504264  \n",
       "\n",
       "[969 rows x 6 columns]"
      ]
     },
     "execution_count": 12,
     "metadata": {},
     "output_type": "execute_result"
    }
   ],
   "source": [
    "kglids.get_pipelines_info()"
   ]
  },
  {
   "cell_type": "code",
   "execution_count": 13,
   "metadata": {
    "pycharm": {
     "name": "#%%\n"
    }
   },
   "outputs": [
    {
     "data": {
      "text/html": [
       "<div>\n",
       "<style scoped>\n",
       "    .dataframe tbody tr th:only-of-type {\n",
       "        vertical-align: middle;\n",
       "    }\n",
       "\n",
       "    .dataframe tbody tr th {\n",
       "        vertical-align: top;\n",
       "    }\n",
       "\n",
       "    .dataframe thead th {\n",
       "        text-align: right;\n",
       "    }\n",
       "</style>\n",
       "<table border=\"1\" class=\"dataframe\">\n",
       "  <thead>\n",
       "    <tr style=\"text-align: right;\">\n",
       "      <th></th>\n",
       "      <th>Pipeline</th>\n",
       "      <th>Dataset</th>\n",
       "      <th>Author</th>\n",
       "      <th>Written_on</th>\n",
       "      <th>Number_of_votes</th>\n",
       "      <th>Score</th>\n",
       "    </tr>\n",
       "  </thead>\n",
       "  <tbody>\n",
       "    <tr>\n",
       "      <th>0</th>\n",
       "      <td>How Models Work</td>\n",
       "      <td>iabhishekofficial.mobile-price-classification</td>\n",
       "      <td>DanB</td>\n",
       "      <td>2022-01-05 13:51:41</td>\n",
       "      <td>5315</td>\n",
       "      <td>0.834509</td>\n",
       "    </tr>\n",
       "    <tr>\n",
       "      <th>1</th>\n",
       "      <td>Your First Machine Learning Model</td>\n",
       "      <td>iabhishekofficial.mobile-price-classification</td>\n",
       "      <td>DanB</td>\n",
       "      <td>2021-11-09 00:01:04</td>\n",
       "      <td>2909</td>\n",
       "      <td>0.634321</td>\n",
       "    </tr>\n",
       "    <tr>\n",
       "      <th>2</th>\n",
       "      <td>Model Validation</td>\n",
       "      <td>iabhishekofficial.mobile-price-classification</td>\n",
       "      <td>DanB</td>\n",
       "      <td>2021-11-09 00:00:51</td>\n",
       "      <td>2659</td>\n",
       "      <td>0.765677</td>\n",
       "    </tr>\n",
       "    <tr>\n",
       "      <th>3</th>\n",
       "      <td>Underfitting and Overfitting</td>\n",
       "      <td>iabhishekofficial.mobile-price-classification</td>\n",
       "      <td>DanB</td>\n",
       "      <td>2021-11-09 00:01:33</td>\n",
       "      <td>2502</td>\n",
       "      <td>0.644229</td>\n",
       "    </tr>\n",
       "    <tr>\n",
       "      <th>4</th>\n",
       "      <td>Random Forests</td>\n",
       "      <td>iabhishekofficial.mobile-price-classification</td>\n",
       "      <td>DanB</td>\n",
       "      <td>2021-11-09 00:03:02</td>\n",
       "      <td>1710</td>\n",
       "      <td>0.618779</td>\n",
       "    </tr>\n",
       "    <tr>\n",
       "      <th>5</th>\n",
       "      <td>Basic Data Exploration</td>\n",
       "      <td>iabhishekofficial.mobile-price-classification</td>\n",
       "      <td>DanB</td>\n",
       "      <td>2021-11-09 00:01:19</td>\n",
       "      <td>1551</td>\n",
       "      <td>0.535365</td>\n",
       "    </tr>\n",
       "    <tr>\n",
       "      <th>6</th>\n",
       "      <td>Explore Your Data</td>\n",
       "      <td>dansbecker.home-data-for-ml-course</td>\n",
       "      <td>DanB</td>\n",
       "      <td>2019-01-23 01:07:33</td>\n",
       "      <td>1328</td>\n",
       "      <td>0.695214</td>\n",
       "    </tr>\n",
       "    <tr>\n",
       "      <th>7</th>\n",
       "      <td>Basic Data Exploration Daily</td>\n",
       "      <td>iabhishekofficial.mobile-price-classification</td>\n",
       "      <td>DanB</td>\n",
       "      <td>2019-08-24 02:41:50</td>\n",
       "      <td>95</td>\n",
       "      <td>0.616984</td>\n",
       "    </tr>\n",
       "    <tr>\n",
       "      <th>8</th>\n",
       "      <td>How Models Work Daily</td>\n",
       "      <td>iabhishekofficial.mobile-price-classification</td>\n",
       "      <td>DanB</td>\n",
       "      <td>2019-08-24 02:42:02</td>\n",
       "      <td>71</td>\n",
       "      <td>0.947072</td>\n",
       "    </tr>\n",
       "    <tr>\n",
       "      <th>9</th>\n",
       "      <td>Model Validation Daily</td>\n",
       "      <td>iabhishekofficial.mobile-price-classification</td>\n",
       "      <td>DanB</td>\n",
       "      <td>2019-08-24 02:41:47</td>\n",
       "      <td>61</td>\n",
       "      <td>0.918014</td>\n",
       "    </tr>\n",
       "    <tr>\n",
       "      <th>10</th>\n",
       "      <td>Underfitting and Overfitting Daily</td>\n",
       "      <td>iabhishekofficial.mobile-price-classification</td>\n",
       "      <td>DanB</td>\n",
       "      <td>2019-08-24 02:41:52</td>\n",
       "      <td>37</td>\n",
       "      <td>0.779103</td>\n",
       "    </tr>\n",
       "    <tr>\n",
       "      <th>11</th>\n",
       "      <td>Exercise: Explore Your Data</td>\n",
       "      <td>dansbecker.home-data-for-ml-course</td>\n",
       "      <td>DanB</td>\n",
       "      <td>2019-01-23 01:07:42</td>\n",
       "      <td>14</td>\n",
       "      <td>0.864991</td>\n",
       "    </tr>\n",
       "  </tbody>\n",
       "</table>\n",
       "</div>"
      ],
      "text/plain": [
       "                              Pipeline  \\\n",
       "0                      How Models Work   \n",
       "1    Your First Machine Learning Model   \n",
       "2                     Model Validation   \n",
       "3         Underfitting and Overfitting   \n",
       "4                       Random Forests   \n",
       "5               Basic Data Exploration   \n",
       "6                    Explore Your Data   \n",
       "7         Basic Data Exploration Daily   \n",
       "8                How Models Work Daily   \n",
       "9               Model Validation Daily   \n",
       "10  Underfitting and Overfitting Daily   \n",
       "11         Exercise: Explore Your Data   \n",
       "\n",
       "                                          Dataset Author           Written_on  \\\n",
       "0   iabhishekofficial.mobile-price-classification   DanB  2022-01-05 13:51:41   \n",
       "1   iabhishekofficial.mobile-price-classification   DanB  2021-11-09 00:01:04   \n",
       "2   iabhishekofficial.mobile-price-classification   DanB  2021-11-09 00:00:51   \n",
       "3   iabhishekofficial.mobile-price-classification   DanB  2021-11-09 00:01:33   \n",
       "4   iabhishekofficial.mobile-price-classification   DanB  2021-11-09 00:03:02   \n",
       "5   iabhishekofficial.mobile-price-classification   DanB  2021-11-09 00:01:19   \n",
       "6              dansbecker.home-data-for-ml-course   DanB  2019-01-23 01:07:33   \n",
       "7   iabhishekofficial.mobile-price-classification   DanB  2019-08-24 02:41:50   \n",
       "8   iabhishekofficial.mobile-price-classification   DanB  2019-08-24 02:42:02   \n",
       "9   iabhishekofficial.mobile-price-classification   DanB  2019-08-24 02:41:47   \n",
       "10  iabhishekofficial.mobile-price-classification   DanB  2019-08-24 02:41:52   \n",
       "11             dansbecker.home-data-for-ml-course   DanB  2019-01-23 01:07:42   \n",
       "\n",
       "    Number_of_votes     Score  \n",
       "0              5315  0.834509  \n",
       "1              2909  0.634321  \n",
       "2              2659  0.765677  \n",
       "3              2502  0.644229  \n",
       "4              1710  0.618779  \n",
       "5              1551  0.535365  \n",
       "6              1328  0.695214  \n",
       "7                95  0.616984  \n",
       "8                71  0.947072  \n",
       "9                61  0.918014  \n",
       "10               37  0.779103  \n",
       "11               14  0.864991  "
      ]
     },
     "execution_count": 13,
     "metadata": {},
     "output_type": "execute_result"
    }
   ],
   "source": [
    "kglids.get_pipelines_info(author='DanB')"
   ]
  },
  {
   "cell_type": "markdown",
   "metadata": {
    "pycharm": {
     "name": "#%% md\n"
    }
   },
   "source": [
    "#### <b>9. Most recent pipeline</b> "
   ]
  },
  {
   "cell_type": "code",
   "execution_count": 14,
   "metadata": {
    "pycharm": {
     "name": "#%%\n"
    }
   },
   "outputs": [
    {
     "data": {
      "text/html": [
       "<div>\n",
       "<style scoped>\n",
       "    .dataframe tbody tr th:only-of-type {\n",
       "        vertical-align: middle;\n",
       "    }\n",
       "\n",
       "    .dataframe tbody tr th {\n",
       "        vertical-align: top;\n",
       "    }\n",
       "\n",
       "    .dataframe thead th {\n",
       "        text-align: right;\n",
       "    }\n",
       "</style>\n",
       "<table border=\"1\" class=\"dataframe\">\n",
       "  <thead>\n",
       "    <tr style=\"text-align: right;\">\n",
       "      <th></th>\n",
       "      <th>Pipeline</th>\n",
       "      <th>Dataset</th>\n",
       "      <th>Author</th>\n",
       "      <th>Written_on</th>\n",
       "      <th>Number_of_votes</th>\n",
       "      <th>Score</th>\n",
       "    </tr>\n",
       "  </thead>\n",
       "  <tbody>\n",
       "    <tr>\n",
       "      <th>0</th>\n",
       "      <td>Twitch Streamers Analytics using Python</td>\n",
       "      <td>aayushmishra1512.twitchdata</td>\n",
       "      <td>Aleix Castellvi</td>\n",
       "      <td>2022-02-16 14:05:16</td>\n",
       "      <td>2</td>\n",
       "      <td>0.986247</td>\n",
       "    </tr>\n",
       "  </tbody>\n",
       "</table>\n",
       "</div>"
      ],
      "text/plain": [
       "                                  Pipeline                      Dataset  \\\n",
       "0  Twitch Streamers Analytics using Python  aayushmishra1512.twitchdata   \n",
       "\n",
       "            Author           Written_on  Number_of_votes     Score  \n",
       "0  Aleix Castellvi  2022-02-16 14:05:16                2  0.986247  "
      ]
     },
     "execution_count": 14,
     "metadata": {},
     "output_type": "execute_result"
    }
   ],
   "source": [
    "kglids.get_most_recent_pipeline()"
   ]
  },
  {
   "cell_type": "code",
   "execution_count": 15,
   "metadata": {
    "pycharm": {
     "name": "#%%\n"
    }
   },
   "outputs": [
    {
     "data": {
      "text/html": [
       "<div>\n",
       "<style scoped>\n",
       "    .dataframe tbody tr th:only-of-type {\n",
       "        vertical-align: middle;\n",
       "    }\n",
       "\n",
       "    .dataframe tbody tr th {\n",
       "        vertical-align: top;\n",
       "    }\n",
       "\n",
       "    .dataframe thead th {\n",
       "        text-align: right;\n",
       "    }\n",
       "</style>\n",
       "<table border=\"1\" class=\"dataframe\">\n",
       "  <thead>\n",
       "    <tr style=\"text-align: right;\">\n",
       "      <th></th>\n",
       "      <th>Pipeline</th>\n",
       "      <th>Dataset</th>\n",
       "      <th>Author</th>\n",
       "      <th>Written_on</th>\n",
       "      <th>Number_of_votes</th>\n",
       "      <th>Score</th>\n",
       "    </tr>\n",
       "  </thead>\n",
       "  <tbody>\n",
       "    <tr>\n",
       "      <th>0</th>\n",
       "      <td>Liver Disease Analysis: EDAâ¡ï¸SMOTEâ¡ï¸OP...</td>\n",
       "      <td>fedesoriano.hepatitis-c-dataset</td>\n",
       "      <td>caleb reigada</td>\n",
       "      <td>2022-02-14 12:51:35</td>\n",
       "      <td>13</td>\n",
       "      <td>0.581313</td>\n",
       "    </tr>\n",
       "  </tbody>\n",
       "</table>\n",
       "</div>"
      ],
      "text/plain": [
       "                                            Pipeline  \\\n",
       "0  Liver Disease Analysis: EDAâ¡ï¸SMOTEâ¡ï¸OP...   \n",
       "\n",
       "                           Dataset         Author           Written_on  \\\n",
       "0  fedesoriano.hepatitis-c-dataset  caleb reigada  2022-02-14 12:51:35   \n",
       "\n",
       "   Number_of_votes     Score  \n",
       "0               13  0.581313  "
      ]
     },
     "execution_count": 15,
     "metadata": {},
     "output_type": "execute_result"
    }
   ],
   "source": [
    "kglids.get_most_recent_pipeline(dataset='fedesoriano.hepatitis-c-dataset')"
   ]
  },
  {
   "cell_type": "markdown",
   "metadata": {
    "pycharm": {
     "name": "#%% md\n"
    }
   },
   "source": [
    "#### <b>10.<i> Top-k</i> scoring pipelines</b> "
   ]
  },
  {
   "cell_type": "code",
   "execution_count": 16,
   "metadata": {
    "pycharm": {
     "name": "#%%\n"
    }
   },
   "outputs": [
    {
     "data": {
      "text/html": [
       "<div>\n",
       "<style scoped>\n",
       "    .dataframe tbody tr th:only-of-type {\n",
       "        vertical-align: middle;\n",
       "    }\n",
       "\n",
       "    .dataframe tbody tr th {\n",
       "        vertical-align: top;\n",
       "    }\n",
       "\n",
       "    .dataframe thead th {\n",
       "        text-align: right;\n",
       "    }\n",
       "</style>\n",
       "<table border=\"1\" class=\"dataframe\">\n",
       "  <thead>\n",
       "    <tr style=\"text-align: right;\">\n",
       "      <th></th>\n",
       "      <th>Pipeline</th>\n",
       "      <th>Dataset</th>\n",
       "      <th>Author</th>\n",
       "      <th>Written_on</th>\n",
       "      <th>Number_of_votes</th>\n",
       "      <th>Score</th>\n",
       "    </tr>\n",
       "  </thead>\n",
       "  <tbody>\n",
       "    <tr>\n",
       "      <th>0</th>\n",
       "      <td>hepatitis c</td>\n",
       "      <td>fedesoriano.hepatitis-c-dataset</td>\n",
       "      <td>RATNADEEP GAWADE</td>\n",
       "      <td>2021-07-13 19:50:43</td>\n",
       "      <td>1</td>\n",
       "      <td>0.999835</td>\n",
       "    </tr>\n",
       "    <tr>\n",
       "      <th>1</th>\n",
       "      <td>Comprehensive EDA + Predicting Subscriber Count</td>\n",
       "      <td>andrewmvd.udemy-courses</td>\n",
       "      <td>Sayar Banerjee</td>\n",
       "      <td>2020-05-23 15:23:34</td>\n",
       "      <td>22</td>\n",
       "      <td>0.999729</td>\n",
       "    </tr>\n",
       "    <tr>\n",
       "      <th>2</th>\n",
       "      <td>notebooke72847ec86</td>\n",
       "      <td>andrewmvd.udemy-courses</td>\n",
       "      <td>semih Ã§Ä±nar</td>\n",
       "      <td>2021-07-19 22:23:00</td>\n",
       "      <td>11</td>\n",
       "      <td>0.999695</td>\n",
       "    </tr>\n",
       "    <tr>\n",
       "      <th>3</th>\n",
       "      <td>Topic Modeling with LDA</td>\n",
       "      <td>kulgen.elon-musks-tweets</td>\n",
       "      <td>mohamed elbeih</td>\n",
       "      <td>2021-02-21 16:22:46</td>\n",
       "      <td>0</td>\n",
       "      <td>0.999219</td>\n",
       "    </tr>\n",
       "    <tr>\n",
       "      <th>4</th>\n",
       "      <td>India Import and Export</td>\n",
       "      <td>lakshyaag.india-trade-data</td>\n",
       "      <td>Mysterious9912</td>\n",
       "      <td>2019-10-13 13:08:48</td>\n",
       "      <td>3</td>\n",
       "      <td>0.998829</td>\n",
       "    </tr>\n",
       "  </tbody>\n",
       "</table>\n",
       "</div>"
      ],
      "text/plain": [
       "                                          Pipeline  \\\n",
       "0                                      hepatitis c   \n",
       "1  Comprehensive EDA + Predicting Subscriber Count   \n",
       "2                               notebooke72847ec86   \n",
       "3                          Topic Modeling with LDA   \n",
       "4                         India Import and Export    \n",
       "\n",
       "                           Dataset            Author           Written_on  \\\n",
       "0  fedesoriano.hepatitis-c-dataset  RATNADEEP GAWADE  2021-07-13 19:50:43   \n",
       "1          andrewmvd.udemy-courses    Sayar Banerjee  2020-05-23 15:23:34   \n",
       "2          andrewmvd.udemy-courses     semih Ã§Ä±nar  2021-07-19 22:23:00   \n",
       "3         kulgen.elon-musks-tweets    mohamed elbeih  2021-02-21 16:22:46   \n",
       "4       lakshyaag.india-trade-data    Mysterious9912  2019-10-13 13:08:48   \n",
       "\n",
       "   Number_of_votes     Score  \n",
       "0                1  0.999835  \n",
       "1               22  0.999729  \n",
       "2               11  0.999695  \n",
       "3                0  0.999219  \n",
       "4                3  0.998829  "
      ]
     },
     "execution_count": 16,
     "metadata": {},
     "output_type": "execute_result"
    }
   ],
   "source": [
    "kglids.get_top_k_scoring_pipelines_for_dataset(k=5)"
   ]
  },
  {
   "cell_type": "code",
   "execution_count": 17,
   "metadata": {
    "pycharm": {
     "name": "#%%\n"
    }
   },
   "outputs": [
    {
     "data": {
      "text/html": [
       "<div>\n",
       "<style scoped>\n",
       "    .dataframe tbody tr th:only-of-type {\n",
       "        vertical-align: middle;\n",
       "    }\n",
       "\n",
       "    .dataframe tbody tr th {\n",
       "        vertical-align: top;\n",
       "    }\n",
       "\n",
       "    .dataframe thead th {\n",
       "        text-align: right;\n",
       "    }\n",
       "</style>\n",
       "<table border=\"1\" class=\"dataframe\">\n",
       "  <thead>\n",
       "    <tr style=\"text-align: right;\">\n",
       "      <th></th>\n",
       "      <th>Pipeline</th>\n",
       "      <th>Dataset</th>\n",
       "      <th>Author</th>\n",
       "      <th>Written_on</th>\n",
       "      <th>Number_of_votes</th>\n",
       "      <th>Score</th>\n",
       "    </tr>\n",
       "  </thead>\n",
       "  <tbody>\n",
       "    <tr>\n",
       "      <th>0</th>\n",
       "      <td>hepatitis c</td>\n",
       "      <td>fedesoriano.hepatitis-c-dataset</td>\n",
       "      <td>RATNADEEP GAWADE</td>\n",
       "      <td>2021-07-13 19:50:43</td>\n",
       "      <td>1</td>\n",
       "      <td>0.999835</td>\n",
       "    </tr>\n",
       "    <tr>\n",
       "      <th>1</th>\n",
       "      <td>Starter: Hepatitis C Dataset c674c472-8</td>\n",
       "      <td>fedesoriano.hepatitis-c-dataset</td>\n",
       "      <td>Kaggle Kerneler</td>\n",
       "      <td>2020-12-21 17:02:06</td>\n",
       "      <td>2</td>\n",
       "      <td>0.985005</td>\n",
       "    </tr>\n",
       "    <tr>\n",
       "      <th>2</th>\n",
       "      <td>Modelo Preditivo DoenÃ§as HepÃ¡ticas</td>\n",
       "      <td>fedesoriano.hepatitis-c-dataset</td>\n",
       "      <td>Ives Santos</td>\n",
       "      <td>2021-09-05 21:00:40</td>\n",
       "      <td>1</td>\n",
       "      <td>0.968082</td>\n",
       "    </tr>\n",
       "    <tr>\n",
       "      <th>3</th>\n",
       "      <td>Hepatitis_c_pred</td>\n",
       "      <td>fedesoriano.hepatitis-c-dataset</td>\n",
       "      <td>Sanket Sharma</td>\n",
       "      <td>2021-07-23 09:02:09</td>\n",
       "      <td>2</td>\n",
       "      <td>0.954447</td>\n",
       "    </tr>\n",
       "    <tr>\n",
       "      <th>4</th>\n",
       "      <td>Liver Disorders Storytelling</td>\n",
       "      <td>fedesoriano.hepatitis-c-dataset</td>\n",
       "      <td>Mohammed Omda</td>\n",
       "      <td>2022-01-19 21:26:46</td>\n",
       "      <td>24</td>\n",
       "      <td>0.928420</td>\n",
       "    </tr>\n",
       "  </tbody>\n",
       "</table>\n",
       "</div>"
      ],
      "text/plain": [
       "                                  Pipeline                          Dataset  \\\n",
       "0                              hepatitis c  fedesoriano.hepatitis-c-dataset   \n",
       "1  Starter: Hepatitis C Dataset c674c472-8  fedesoriano.hepatitis-c-dataset   \n",
       "2    Modelo Preditivo DoenÃ§as HepÃ¡ticas   fedesoriano.hepatitis-c-dataset   \n",
       "3                         Hepatitis_c_pred  fedesoriano.hepatitis-c-dataset   \n",
       "4             Liver Disorders Storytelling  fedesoriano.hepatitis-c-dataset   \n",
       "\n",
       "             Author           Written_on  Number_of_votes     Score  \n",
       "0  RATNADEEP GAWADE  2021-07-13 19:50:43                1  0.999835  \n",
       "1   Kaggle Kerneler  2020-12-21 17:02:06                2  0.985005  \n",
       "2       Ives Santos  2021-09-05 21:00:40                1  0.968082  \n",
       "3     Sanket Sharma  2021-07-23 09:02:09                2  0.954447  \n",
       "4     Mohammed Omda  2022-01-19 21:26:46               24  0.928420  "
      ]
     },
     "execution_count": 17,
     "metadata": {},
     "output_type": "execute_result"
    }
   ],
   "source": [
    "kglids.get_top_k_scoring_pipelines_for_dataset(dataset='fedesoriano.hepatitis-c-dataset', k=5)"
   ]
  },
  {
   "cell_type": "markdown",
   "metadata": {
    "pycharm": {
     "name": "#%% md\n"
    }
   },
   "source": [
    "#### <b>11. Search classifiers used in a dataset</b> "
   ]
  },
  {
   "cell_type": "code",
   "execution_count": 18,
   "metadata": {
    "pycharm": {
     "name": "#%%\n"
    }
   },
   "outputs": [
    {
     "data": {
      "text/html": [
       "<div>\n",
       "<style scoped>\n",
       "    .dataframe tbody tr th:only-of-type {\n",
       "        vertical-align: middle;\n",
       "    }\n",
       "\n",
       "    .dataframe tbody tr th {\n",
       "        vertical-align: top;\n",
       "    }\n",
       "\n",
       "    .dataframe thead th {\n",
       "        text-align: right;\n",
       "    }\n",
       "</style>\n",
       "<table border=\"1\" class=\"dataframe\">\n",
       "  <thead>\n",
       "    <tr style=\"text-align: right;\">\n",
       "      <th></th>\n",
       "      <th>Pipeline</th>\n",
       "      <th>Classifier</th>\n",
       "      <th>Score</th>\n",
       "    </tr>\n",
       "  </thead>\n",
       "  <tbody>\n",
       "    <tr>\n",
       "      <th>0</th>\n",
       "      <td>Modelo Preditivo DoenÃ§as HepÃ¡ticas</td>\n",
       "      <td>GradientBoostingClassifier</td>\n",
       "      <td>0.968082</td>\n",
       "    </tr>\n",
       "    <tr>\n",
       "      <th>1</th>\n",
       "      <td>Modelo Preditivo DoenÃ§as HepÃ¡ticas</td>\n",
       "      <td>RandomForestClassifier</td>\n",
       "      <td>0.968082</td>\n",
       "    </tr>\n",
       "    <tr>\n",
       "      <th>2</th>\n",
       "      <td>Modelo Preditivo DoenÃ§as HepÃ¡ticas</td>\n",
       "      <td>DecisionTreeClassifier</td>\n",
       "      <td>0.968082</td>\n",
       "    </tr>\n",
       "    <tr>\n",
       "      <th>3</th>\n",
       "      <td>Modelo Preditivo DoenÃ§as HepÃ¡ticas</td>\n",
       "      <td>LogisticRegression</td>\n",
       "      <td>0.968082</td>\n",
       "    </tr>\n",
       "    <tr>\n",
       "      <th>4</th>\n",
       "      <td>Hepatitis_c_pred</td>\n",
       "      <td>SVC</td>\n",
       "      <td>0.954447</td>\n",
       "    </tr>\n",
       "    <tr>\n",
       "      <th>5</th>\n",
       "      <td>Hepatitis_c_pred</td>\n",
       "      <td>RandomForestClassifier</td>\n",
       "      <td>0.954447</td>\n",
       "    </tr>\n",
       "    <tr>\n",
       "      <th>6</th>\n",
       "      <td>Hepatitis_c_pred</td>\n",
       "      <td>DecisionTreeClassifier</td>\n",
       "      <td>0.954447</td>\n",
       "    </tr>\n",
       "    <tr>\n",
       "      <th>7</th>\n",
       "      <td>Hepatitis_c_pred</td>\n",
       "      <td>LogisticRegression</td>\n",
       "      <td>0.954447</td>\n",
       "    </tr>\n",
       "    <tr>\n",
       "      <th>8</th>\n",
       "      <td>EDA and hepatitis C prediction using RFs</td>\n",
       "      <td>RandomForestClassifier</td>\n",
       "      <td>0.848565</td>\n",
       "    </tr>\n",
       "    <tr>\n",
       "      <th>9</th>\n",
       "      <td>notebookc8a19c85bb</td>\n",
       "      <td>LogisticRegression</td>\n",
       "      <td>0.816314</td>\n",
       "    </tr>\n",
       "  </tbody>\n",
       "</table>\n",
       "</div>"
      ],
      "text/plain": [
       "                                   Pipeline                  Classifier  \\\n",
       "0     Modelo Preditivo DoenÃ§as HepÃ¡ticas   GradientBoostingClassifier   \n",
       "1     Modelo Preditivo DoenÃ§as HepÃ¡ticas       RandomForestClassifier   \n",
       "2     Modelo Preditivo DoenÃ§as HepÃ¡ticas       DecisionTreeClassifier   \n",
       "3     Modelo Preditivo DoenÃ§as HepÃ¡ticas           LogisticRegression   \n",
       "4                          Hepatitis_c_pred                         SVC   \n",
       "5                          Hepatitis_c_pred      RandomForestClassifier   \n",
       "6                          Hepatitis_c_pred      DecisionTreeClassifier   \n",
       "7                          Hepatitis_c_pred          LogisticRegression   \n",
       "8  EDA and hepatitis C prediction using RFs      RandomForestClassifier   \n",
       "9                        notebookc8a19c85bb          LogisticRegression   \n",
       "\n",
       "      Score  \n",
       "0  0.968082  \n",
       "1  0.968082  \n",
       "2  0.968082  \n",
       "3  0.968082  \n",
       "4  0.954447  \n",
       "5  0.954447  \n",
       "6  0.954447  \n",
       "7  0.954447  \n",
       "8  0.848565  \n",
       "9  0.816314  "
      ]
     },
     "execution_count": 18,
     "metadata": {},
     "output_type": "execute_result"
    }
   ],
   "source": [
    "df = kglids.search_classifier(dataset='fedesoriano.hepatitis-c-dataset')\n",
    "df.head(10)"
   ]
  },
  {
   "cell_type": "markdown",
   "metadata": {
    "pycharm": {
     "name": "#%% md\n"
    }
   },
   "source": [
    "#### <b>12. Fetch hyperparameters </b> "
   ]
  },
  {
   "cell_type": "code",
   "execution_count": 19,
   "metadata": {
    "pycharm": {
     "name": "#%%\n"
    }
   },
   "outputs": [
    {
     "data": {
      "text/html": [
       "<div>\n",
       "<style scoped>\n",
       "    .dataframe tbody tr th:only-of-type {\n",
       "        vertical-align: middle;\n",
       "    }\n",
       "\n",
       "    .dataframe tbody tr th {\n",
       "        vertical-align: top;\n",
       "    }\n",
       "\n",
       "    .dataframe thead th {\n",
       "        text-align: right;\n",
       "    }\n",
       "</style>\n",
       "<table border=\"1\" class=\"dataframe\">\n",
       "  <thead>\n",
       "    <tr style=\"text-align: right;\">\n",
       "      <th></th>\n",
       "      <th>RandomForestClassifier_hyperparameter</th>\n",
       "      <th>Value</th>\n",
       "    </tr>\n",
       "  </thead>\n",
       "  <tbody>\n",
       "    <tr>\n",
       "      <th>0</th>\n",
       "      <td>class_weight</td>\n",
       "      <td>balanced</td>\n",
       "    </tr>\n",
       "    <tr>\n",
       "      <th>1</th>\n",
       "      <td>n_jobs</td>\n",
       "      <td>None</td>\n",
       "    </tr>\n",
       "    <tr>\n",
       "      <th>2</th>\n",
       "      <td>random_state</td>\n",
       "      <td>100</td>\n",
       "    </tr>\n",
       "    <tr>\n",
       "      <th>3</th>\n",
       "      <td>n_estimators</td>\n",
       "      <td>100</td>\n",
       "    </tr>\n",
       "  </tbody>\n",
       "</table>\n",
       "</div>"
      ],
      "text/plain": [
       "  RandomForestClassifier_hyperparameter     Value\n",
       "0                          class_weight  balanced\n",
       "1                                n_jobs      None\n",
       "2                          random_state       100\n",
       "3                          n_estimators       100"
      ]
     },
     "execution_count": 19,
     "metadata": {},
     "output_type": "execute_result"
    }
   ],
   "source": [
    "kglids.get_hyperparameters(df.iloc[8])"
   ]
  },
  {
   "cell_type": "markdown",
   "metadata": {
    "pycharm": {
     "name": "#%% md\n"
    }
   },
   "source": [
    "#### <b>13. Visualize library utilization</b> "
   ]
  },
  {
   "cell_type": "code",
   "execution_count": 20,
   "metadata": {
    "pycharm": {
     "name": "#%%\n"
    }
   },
   "outputs": [
    {
     "data": {
      "image/png": "[encoded data removed]",
      "text/plain": [
       "<Figure size 3000x1500 with 1 Axes>"
      ]
     },
     "metadata": {},
     "output_type": "display_data"
    }
   ],
   "source": [
    "kglids.get_top_k_library_used()"
   ]
  },
  {
   "cell_type": "code",
   "execution_count": 21,
   "metadata": {
    "pycharm": {
     "name": "#%%\n"
    }
   },
   "outputs": [
    {
     "data": {
      "image/png": "[encoded data removed]",
      "text/plain": [
       "<Figure size 3000x1500 with 1 Axes>"
      ]
     },
     "metadata": {},
     "output_type": "display_data"
    }
   ],
   "source": [
    "kglids.get_top_k_library_used(dataset='fedesoriano.hepatitis-c-dataset', k=15)"
   ]
  }
 ],
 "metadata": {
  "kernelspec": {
   "display_name": "Python 3 (ipykernel)",
   "language": "python",
   "name": "python3"
  },
  "language_info": {
   "codemirror_mode": {
    "name": "ipython",
    "version": 3
   },
   "file_extension": ".py",
   "mimetype": "text/x-python",
   "name": "python",
   "nbconvert_exporter": "python",
   "pygments_lexer": "ipython3",
   "version": "3.8.12"
  }
 },
 "nbformat": 4,
 "nbformat_minor": 1
}